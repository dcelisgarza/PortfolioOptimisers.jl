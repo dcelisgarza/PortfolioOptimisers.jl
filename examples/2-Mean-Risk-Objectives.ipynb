{
  "cells": [
    {
      "cell_type": "markdown",
      "metadata": {},
      "source": [
        "# Example 2: `MeanRisk` objectives\n",
        "\n",
        "In this example we will show the different objective functions available in `MeanRisk`, and compare them to a benchmark."
      ]
    },
    {
      "cell_type": "code",
      "execution_count": 1,
      "metadata": {},
      "outputs": [],
      "source": [
        "using PortfolioOptimisers, PrettyTables\n",
        "# Format for pretty tables.\n",
        "tsfmt = (v, i, j) -> begin\n",
        "    if j == 1\n",
        "        return Date(v)\n",
        "    else\n",
        "        return v\n",
        "    end\n",
        "end;\n",
        "resfmt = (v, i, j) -> begin\n",
        "    if j == 1\n",
        "        return v\n",
        "    else\n",
        "        return isa(v, Number) ? \"$(round(v*100, digits=3)) %\" : v\n",
        "    end\n",
        "end;"
      ]
    },
    {
      "cell_type": "markdown",
      "metadata": {},
      "source": [
        "## 1. ReturnsResult data\n",
        "\n",
        "We will use the same data as the previous example."
      ]
    },
    {
      "cell_type": "code",
      "execution_count": 2,
      "metadata": {},
      "outputs": [
        {
          "name": "stdout",
          "output_type": "stream",
          "text": [
            "\u250c\u2500\u2500\u2500\u2500\u2500\u2500\u2500\u2500\u2500\u2500\u2500\u2500\u252c\u2500\u2500\u2500\u2500\u2500\u2500\u2500\u2500\u2500\u252c\u2500\u2500\u2500\u2500\u2500\u2500\u2500\u2500\u2500\u252c\u2500\u2500\u2500\u2500\u2500\u2500\u2500\u2500\u2500\u252c\u2500\u2500\u2500\u2500\u2500\u2500\u2500\u2500\u2500\u252c\u2500\u2500\u2500\u2500\u2500\u2500\u2500\u2500\u2500\u252c\u2500\u2500\u2500\u2500\u2500\u2500\u2500\u2500\u2500\u252c\u2500\u2500\u2500\u2500\u2500\u2500\u2500\u2500\u2500\u252c\u2500\u2500\u2500\u2500\u2500\u2500\u2500\u2500\u2500\u252c\u2500\u2500\u2500\u2500\u2500\u2500\u2500\u2500\u2500\u252c\u2500\u2500\u2500\u2500\u2500\u2500\u2500\u2500\u2500\u252c\u2500\u2500\u2500\u2500\u2500\u2500\u2500\u2500\u2500\u252c\u2500\u2500\u2500\u2500\u2500\u2500\u2500\u2500\u2500\u252c\u2500\u2500\u2500\u2500\u2500\u2500\u2500\u2500\u2500\u252c\u2500\u2500\u2500\u2500\u2500\u2500\u2500\u2500\u2500\u252c\u2500\u2500\u2500\u2500\u2500\u2500\u2500\u2500\u2500\u252c\u2500\u2500\u2500\u2500\u2500\u2500\u2500\u2500\u2500\u252c\u2500\u2500\u2500\u2500\u2500\u2500\u2500\u2500\u2500\u252c\u2500\u2500\u2500\u2500\u2500\u2500\u2500\u2500\u2500\u252c\u2500\u2500\u2500\u2500\u2500\u2500\u2500\u2500\u2500\u252c\u2500\u2500\u2500\u2500\u2500\u2500\u2500\u2500\u2500\u2510\n",
            "\u2502  timestamp \u2502    AAPL \u2502     AMD \u2502     BAC \u2502     BBY \u2502     CVX \u2502      GE \u2502      HD \u2502     JNJ \u2502     JPM \u2502      KO \u2502     LLY \u2502     MRK \u2502    MSFT \u2502     PEP \u2502     PFE \u2502      PG \u2502     RRC \u2502     UNH \u2502     WMT \u2502     XOM \u2502\n",
            "\u2502 Dates.Date \u2502 Float64 \u2502 Float64 \u2502 Float64 \u2502 Float64 \u2502 Float64 \u2502 Float64 \u2502 Float64 \u2502 Float64 \u2502 Float64 \u2502 Float64 \u2502 Float64 \u2502 Float64 \u2502 Float64 \u2502 Float64 \u2502 Float64 \u2502 Float64 \u2502 Float64 \u2502 Float64 \u2502 Float64 \u2502 Float64 \u2502\n",
            "\u251c\u2500\u2500\u2500\u2500\u2500\u2500\u2500\u2500\u2500\u2500\u2500\u2500\u253c\u2500\u2500\u2500\u2500\u2500\u2500\u2500\u2500\u2500\u253c\u2500\u2500\u2500\u2500\u2500\u2500\u2500\u2500\u2500\u253c\u2500\u2500\u2500\u2500\u2500\u2500\u2500\u2500\u2500\u253c\u2500\u2500\u2500\u2500\u2500\u2500\u2500\u2500\u2500\u253c\u2500\u2500\u2500\u2500\u2500\u2500\u2500\u2500\u2500\u253c\u2500\u2500\u2500\u2500\u2500\u2500\u2500\u2500\u2500\u253c\u2500\u2500\u2500\u2500\u2500\u2500\u2500\u2500\u2500\u253c\u2500\u2500\u2500\u2500\u2500\u2500\u2500\u2500\u2500\u253c\u2500\u2500\u2500\u2500\u2500\u2500\u2500\u2500\u2500\u253c\u2500\u2500\u2500\u2500\u2500\u2500\u2500\u2500\u2500\u253c\u2500\u2500\u2500\u2500\u2500\u2500\u2500\u2500\u2500\u253c\u2500\u2500\u2500\u2500\u2500\u2500\u2500\u2500\u2500\u253c\u2500\u2500\u2500\u2500\u2500\u2500\u2500\u2500\u2500\u253c\u2500\u2500\u2500\u2500\u2500\u2500\u2500\u2500\u2500\u253c\u2500\u2500\u2500\u2500\u2500\u2500\u2500\u2500\u2500\u253c\u2500\u2500\u2500\u2500\u2500\u2500\u2500\u2500\u2500\u253c\u2500\u2500\u2500\u2500\u2500\u2500\u2500\u2500\u2500\u253c\u2500\u2500\u2500\u2500\u2500\u2500\u2500\u2500\u2500\u253c\u2500\u2500\u2500\u2500\u2500\u2500\u2500\u2500\u2500\u253c\u2500\u2500\u2500\u2500\u2500\u2500\u2500\u2500\u2500\u2524\n",
            "\u2502 2022-12-20 \u2502 131.916 \u2502   65.05 \u2502  31.729 \u2502  77.371 \u2502 169.497 \u2502  62.604 \u2502 310.342 \u2502 173.109 \u2502 127.844 \u2502  61.841 \u2502  357.55 \u2502 108.229 \u2502  240.67 \u2502 178.765 \u2502  49.754 \u2502 147.661 \u2502   25.65 \u2502 516.245 \u2502 142.919 \u2502 104.964 \u2502\n",
            "\u2502 2022-12-21 \u2502 135.057 \u2502   67.68 \u2502  32.212 \u2502  78.729 \u2502  171.49 \u2502   64.67 \u2502 314.798 \u2502  175.09 \u2502 129.282 \u2502  62.836 \u2502 365.872 \u2502 109.611 \u2502 243.287 \u2502 180.017 \u2502  50.084 \u2502 149.015 \u2502  26.574 \u2502 523.519 \u2502  144.04 \u2502 106.312 \u2502\n",
            "\u2502 2022-12-22 \u2502 131.846 \u2502   63.86 \u2502  31.927 \u2502  78.563 \u2502 168.918 \u2502  63.727 \u2502 311.604 \u2502  174.45 \u2502 127.814 \u2502  62.383 \u2502 363.187 \u2502 109.739 \u2502 237.077 \u2502 178.627 \u2502  50.065 \u2502 149.359 \u2502  25.232 \u2502 523.072 \u2502 142.354 \u2502 104.168 \u2502\n",
            "\u2502 2022-12-23 \u2502 131.477 \u2502   64.52 \u2502  32.005 \u2502  79.432 \u2502  174.14 \u2502  63.742 \u2502 314.177 \u2502 174.893 \u2502 128.421 \u2502  62.855 \u2502 365.762 \u2502  110.35 \u2502 237.614 \u2502 179.781 \u2502  50.249 \u2502 149.781 \u2502  26.226 \u2502  527.26 \u2502 142.641 \u2502 106.922 \u2502\n",
            "\u2502 2022-12-27 \u2502 129.652 \u2502   63.27 \u2502  32.065 \u2502   79.93 \u2502 176.329 \u2502  64.561 \u2502 314.985 \u2502 174.844 \u2502 128.871 \u2502   63.24 \u2502  362.76 \u2502 110.607 \u2502 235.852 \u2502  180.58 \u2502   49.57 \u2502 151.086 \u2502  26.375 \u2502 527.935 \u2502 142.681 \u2502 108.408 \u2502\n",
            "\u2502 2022-12-28 \u2502 125.674 \u2502   62.57 \u2502  32.301 \u2502  78.279 \u2502 173.728 \u2502  63.883 \u2502  311.22 \u2502 174.085 \u2502 129.575 \u2502  62.609 \u2502 363.098 \u2502 109.581 \u2502 233.434 \u2502 179.278 \u2502   49.25 \u2502 149.133 \u2502  24.497 \u2502 524.422 \u2502 140.181 \u2502 106.627 \u2502\n",
            "\u2514\u2500\u2500\u2500\u2500\u2500\u2500\u2500\u2500\u2500\u2500\u2500\u2500\u2534\u2500\u2500\u2500\u2500\u2500\u2500\u2500\u2500\u2500\u2534\u2500\u2500\u2500\u2500\u2500\u2500\u2500\u2500\u2500\u2534\u2500\u2500\u2500\u2500\u2500\u2500\u2500\u2500\u2500\u2534\u2500\u2500\u2500\u2500\u2500\u2500\u2500\u2500\u2500\u2534\u2500\u2500\u2500\u2500\u2500\u2500\u2500\u2500\u2500\u2534\u2500\u2500\u2500\u2500\u2500\u2500\u2500\u2500\u2500\u2534\u2500\u2500\u2500\u2500\u2500\u2500\u2500\u2500\u2500\u2534\u2500\u2500\u2500\u2500\u2500\u2500\u2500\u2500\u2500\u2534\u2500\u2500\u2500\u2500\u2500\u2500\u2500\u2500\u2500\u2534\u2500\u2500\u2500\u2500\u2500\u2500\u2500\u2500\u2500\u2534\u2500\u2500\u2500\u2500\u2500\u2500\u2500\u2500\u2500\u2534\u2500\u2500\u2500\u2500\u2500\u2500\u2500\u2500\u2500\u2534\u2500\u2500\u2500\u2500\u2500\u2500\u2500\u2500\u2500\u2534\u2500\u2500\u2500\u2500\u2500\u2500\u2500\u2500\u2500\u2534\u2500\u2500\u2500\u2500\u2500\u2500\u2500\u2500\u2500\u2534\u2500\u2500\u2500\u2500\u2500\u2500\u2500\u2500\u2500\u2534\u2500\u2500\u2500\u2500\u2500\u2500\u2500\u2500\u2500\u2534\u2500\u2500\u2500\u2500\u2500\u2500\u2500\u2500\u2500\u2534\u2500\u2500\u2500\u2500\u2500\u2500\u2500\u2500\u2500\u2534\u2500\u2500\u2500\u2500\u2500\u2500\u2500\u2500\u2500\u2518\n"
          ]
        },
        {
          "data": {
            "text/plain": "ReturnsResult\n    nx | 20-element Vector{String}\n     X | 252\u00d720 Matrix{Float64}\n    nf | nothing\n     F | nothing\n    ts | 252-element Vector{Dates.Date}\n    iv | nothing\n  ivpa | nothing\n"
          },
          "execution_count": 2,
          "metadata": {},
          "output_type": "execute_result"
        }
      ],
      "source": [
        "using CSV, TimeSeries, DataFrames\n",
        "\n",
        "X = TimeArray(CSV.File(joinpath(@__DIR__, \"SP500.csv.gz\")); timestamp = :Date)[(end - 252):end]\n",
        "pretty_table(X[(end - 5):end]; formatters = tsfmt)\n",
        "\n",
        "# Compute the returns\n",
        "rd = prices_to_returns(X)"
      ]
    },
    {
      "cell_type": "markdown",
      "metadata": {},
      "source": [
        "## 2. MeanRisk objectives\n",
        "\n",
        "Here we will show the different objective functions available in `MeanRisk`. We will also use the semi-standard deviation risk measure."
      ]
    },
    {
      "cell_type": "code",
      "execution_count": 3,
      "metadata": {},
      "outputs": [
        {
          "data": {
            "text/plain": "Solver\n         name | Symbol: :clarabel1\n       solver | UnionAll: Clarabel.MOIwrapper.Optimizer\n     settings | Dict{String, Bool}: Dict{String, Bool}(\"verbose\" => 0)\n    check_sol | @NamedTuple{allow_local::Bool, allow_almost::Bool}: (allow_local = true, allow_almost = true)\n  add_bridges | Bool: true\n"
          },
          "execution_count": 3,
          "metadata": {},
          "output_type": "execute_result"
        }
      ],
      "source": [
        "using Clarabel\n",
        "slv = Solver(; name = :clarabel1, solver = Clarabel.Optimizer,\n",
        "             settings = Dict(\"verbose\" => false),\n",
        "             check_sol = (; allow_local = true, allow_almost = true))"
      ]
    },
    {
      "cell_type": "markdown",
      "metadata": {},
      "source": [
        "Here we encounter another consequence of the design philosophy of `PortfolioOptimisers`. An entire class of risk measures can be categorised and consistently implemented as `LowOrderMoment` risk measures with different internal algorithms. This corresponds to the semi-standard deviation."
      ]
    },
    {
      "cell_type": "code",
      "execution_count": 4,
      "metadata": {},
      "outputs": [
        {
          "data": {
            "text/plain": "LowOrderMoment\n  settings | RiskMeasureSettings\n           |   scale | Float64: 1.0\n           |      ub | nothing\n           |     rke | Bool: true\n         w | nothing\n        mu | nothing\n       alg | LowOrderDeviation\n           |    ve | SimpleVariance\n           |       |          me | nothing\n           |       |           w | nothing\n           |       |   corrected | Bool: true\n           |   alg | SecondLowerMoment\n           |       |   alg | SqrtRiskExpr()\n"
          },
          "execution_count": 4,
          "metadata": {},
          "output_type": "execute_result"
        }
      ],
      "source": [
        "r = LowOrderMoment(;\n",
        "                   alg = LowOrderDeviation(;\n",
        "                                           alg = SecondLowerMoment(; alg = SqrtRiskExpr())))"
      ]
    },
    {
      "cell_type": "markdown",
      "metadata": {},
      "source": [
        "Since we will perform various optimisations on the same data, there's no need to redo work. Lets precompute the prior statistics using the `EmpiricalPrior` to avoid recomputing them every time we call the optimisation."
      ]
    },
    {
      "cell_type": "code",
      "execution_count": 5,
      "metadata": {},
      "outputs": [
        {
          "data": {
            "text/plain": "LowOrderPrior\n        X | 252\u00d720 Matrix{Float64}\n       mu | 20-element Vector{Float64}\n    sigma | 20\u00d720 Matrix{Float64}\n     chol | nothing\n        w | nothing\n      ens | nothing\n      kld | nothing\n       ow | nothing\n       rr | nothing\n     f_mu | nothing\n  f_sigma | nothing\n      f_w | nothing\n"
          },
          "execution_count": 5,
          "metadata": {},
          "output_type": "execute_result"
        }
      ],
      "source": [
        "pr = prior(EmpiricalPrior(), rd)"
      ]
    },
    {
      "cell_type": "markdown",
      "metadata": {},
      "source": [
        "We can provide the prior result to `JuMPOptimiser`."
      ]
    },
    {
      "cell_type": "code",
      "execution_count": 6,
      "metadata": {},
      "outputs": [
        {
          "data": {
            "text/plain": "JuMPOptimiser\n      pe | LowOrderPrior\n         |         X | 252\u00d720 Matrix{Float64}\n         |        mu | 20-element Vector{Float64}\n         |     sigma | 20\u00d720 Matrix{Float64}\n         |      chol | nothing\n         |         w | nothing\n         |       ens | nothing\n         |       kld | nothing\n         |        ow | nothing\n         |        rr | nothing\n         |      f_mu | nothing\n         |   f_sigma | nothing\n         |       f_w | nothing\n     slv | Solver\n         |          name | Symbol: :clarabel1\n         |        solver | UnionAll: Clarabel.MOIwrapper.Optimizer\n         |      settings | Dict{String, Bool}: Dict{String, Bool}(\"verbose\" => 0)\n         |     check_sol | @NamedTuple{allow_local::Bool, allow_almost::Bool}: (allow_local = true, allow_almost = true)\n         |   add_bridges | Bool: true\n      wb | WeightBounds\n         |   lb | Float64: 0.0\n         |   ub | Float64: 1.0\n     bgt | Float64: 1.0\n    sbgt | nothing\n      lt | nothing\n      st | nothing\n     lcs | nothing\n     lcm | nothing\n    cent | nothing\n   gcard | nothing\n  sgcard | nothing\n    smtx | nothing\n   sgmtx | nothing\n     slt | nothing\n     sst | nothing\n    sglt | nothing\n    sgst | nothing\n    sets | nothing\n    nplg | nothing\n    cplg | nothing\n      tn | nothing\n      te | nothing\n    fees | nothing\n     ret | ArithmeticReturn\n         |   ucs | nothing\n         |    lb | nothing\n     sce | SumScalariser: SumScalariser()\n    ccnt | nothing\n    cobj | nothing\n      sc | Int64: 1\n      so | Int64: 1\n    card | nothing\n   scard | nothing\n     nea | nothing\n      l1 | nothing\n      l2 | nothing\n      ss | nothing\n  strict | Bool: false\n"
          },
          "execution_count": 6,
          "metadata": {},
          "output_type": "execute_result"
        }
      ],
      "source": [
        "opt = JuMPOptimiser(; pe = pr, slv = slv)"
      ]
    },
    {
      "cell_type": "markdown",
      "metadata": {},
      "source": [
        "Here we define the estimators for different objective functions."
      ]
    },
    {
      "cell_type": "code",
      "execution_count": 7,
      "metadata": {},
      "outputs": [
        {
          "data": {
            "text/plain": "MeanRisk\n  opt | JuMPOptimiser\n      |       pe | LowOrderPrior\n      |          |         X | 252\u00d720 Matrix{Float64}\n      |          |        mu | 20-element Vector{Float64}\n      |          |     sigma | 20\u00d720 Matrix{Float64}\n      |          |      chol | nothing\n      |          |         w | nothing\n      |          |       ens | nothing\n      |          |       kld | nothing\n      |          |        ow | nothing\n      |          |        rr | nothing\n      |          |      f_mu | nothing\n      |          |   f_sigma | nothing\n      |          |       f_w | nothing\n      |      slv | Solver\n      |          |          name | Symbol: :clarabel1\n      |          |        solver | UnionAll: Clarabel.MOIwrapper.Optimizer\n      |          |      settings | Dict{String, Bool}: Dict{String, Bool}(\"verbose\" => 0)\n      |          |     check_sol | @NamedTuple{allow_local::Bool, allow_almost::Bool}: (allow_local = true, allow_almost = true)\n      |          |   add_bridges | Bool: true\n      |       wb | WeightBounds\n      |          |   lb | Float64: 0.0\n      |          |   ub | Float64: 1.0\n      |      bgt | Float64: 1.0\n      |     sbgt | nothing\n      |       lt | nothing\n      |       st | nothing\n      |      lcs | nothing\n      |      lcm | nothing\n      |     cent | nothing\n      |    gcard | nothing\n      |   sgcard | nothing\n      |     smtx | nothing\n      |    sgmtx | nothing\n      |      slt | nothing\n      |      sst | nothing\n      |     sglt | nothing\n      |     sgst | nothing\n      |     sets | nothing\n      |     nplg | nothing\n      |     cplg | nothing\n      |       tn | nothing\n      |       te | nothing\n      |     fees | nothing\n      |      ret | ArithmeticReturn\n      |          |   ucs | nothing\n      |          |    lb | nothing\n      |      sce | SumScalariser: SumScalariser()\n      |     ccnt | nothing\n      |     cobj | nothing\n      |       sc | Int64: 1\n      |       so | Int64: 1\n      |     card | nothing\n      |    scard | nothing\n      |      nea | nothing\n      |       l1 | nothing\n      |       l2 | nothing\n      |       ss | nothing\n      |   strict | Bool: false\n    r | LowOrderMoment\n      |   settings | RiskMeasureSettings\n      |            |   scale | Float64: 1.0\n      |            |      ub | nothing\n      |            |     rke | Bool: true\n      |          w | nothing\n      |         mu | nothing\n      |        alg | LowOrderDeviation\n      |            |    ve | SimpleVariance\n      |            |       |          me | nothing\n      |            |       |           w | nothing\n      |            |       |   corrected | Bool: true\n      |            |   alg | SecondLowerMoment\n      |            |       |   alg | SqrtRiskExpr()\n  obj | MaximumReturn()\n   wi | nothing\n"
          },
          "execution_count": 7,
          "metadata": {},
          "output_type": "execute_result"
        }
      ],
      "source": [
        "# Minimum risk\n",
        "mr1 = MeanRisk(; r = r, obj = MinimumRisk(), opt = opt)\n",
        "# Maximum utility with risk aversion parameter 2\n",
        "mr2 = MeanRisk(; r = r, obj = MaximumUtility(), opt = opt)\n",
        "# Risk-free rate of 4.2/100/252\n",
        "rf = 4.2 / 100 / 252\n",
        "mr3 = MeanRisk(; r = r, obj = MaximumRatio(; rf = rf), opt = opt)\n",
        "# Maximum return\n",
        "mr4 = MeanRisk(; r = r, obj = MaximumReturn(), opt = opt)"
      ]
    },
    {
      "cell_type": "markdown",
      "metadata": {},
      "source": [
        "Lets perform the optimisations, but since we've precomputed the prior statistics, we do not need to provide the returns data. We will also produce a benchmark using the `InverseVolatility` estimator."
      ]
    },
    {
      "cell_type": "code",
      "execution_count": 8,
      "metadata": {},
      "outputs": [
        {
          "data": {
            "text/plain": "NaiveOptimisation\n       oe | DataType: InverseVolatility\n       pr | LowOrderPrior\n          |         X | 252\u00d720 Matrix{Float64}\n          |        mu | 20-element Vector{Float64}\n          |     sigma | 20\u00d720 Matrix{Float64}\n          |      chol | nothing\n          |         w | nothing\n          |       ens | nothing\n          |       kld | nothing\n          |        ow | nothing\n          |        rr | nothing\n          |      f_mu | nothing\n          |   f_sigma | nothing\n          |       f_w | nothing\n        w | 20-element Vector{Float64}\n  retcode | OptimisationSuccess\n          |   res | nothing\n"
          },
          "execution_count": 8,
          "metadata": {},
          "output_type": "execute_result"
        }
      ],
      "source": [
        "res1 = optimise!(mr1)\n",
        "res2 = optimise!(mr2)\n",
        "res3 = optimise!(mr3)\n",
        "res4 = optimise!(mr4)\n",
        "res0 = optimise!(InverseVolatility(; pe = pr))"
      ]
    },
    {
      "cell_type": "markdown",
      "metadata": {},
      "source": [
        "Lets view the results as pretty tables."
      ]
    },
    {
      "cell_type": "code",
      "execution_count": 9,
      "metadata": {},
      "outputs": [
        {
          "name": "stdout",
          "output_type": "stream",
          "text": [
            "\u250c\u2500\u2500\u2500\u2500\u2500\u2500\u2500\u2500\u252c\u2500\u2500\u2500\u2500\u2500\u2500\u2500\u2500\u2500\u2500\u2500\u252c\u2500\u2500\u2500\u2500\u2500\u2500\u2500\u2500\u2500\u2500\u2500\u2500\u2500\u252c\u2500\u2500\u2500\u2500\u2500\u2500\u2500\u2500\u2500\u2500\u2500\u2500\u2500\u2500\u2500\u2500\u252c\u2500\u2500\u2500\u2500\u2500\u2500\u2500\u2500\u2500\u2500\u2500\u2500\u2500\u2500\u252c\u2500\u2500\u2500\u2500\u2500\u2500\u2500\u2500\u2500\u2500\u2500\u2500\u2500\u2500\u2500\u2510\n",
            "\u2502 assets \u2502 benchmark \u2502 MinimumRisk \u2502 MaximumUtility \u2502 MaximumRatio \u2502 MaximumReturn \u2502\n",
            "\u2502 String \u2502   Float64 \u2502     Float64 \u2502        Float64 \u2502      Float64 \u2502       Float64 \u2502\n",
            "\u251c\u2500\u2500\u2500\u2500\u2500\u2500\u2500\u2500\u253c\u2500\u2500\u2500\u2500\u2500\u2500\u2500\u2500\u2500\u2500\u2500\u253c\u2500\u2500\u2500\u2500\u2500\u2500\u2500\u2500\u2500\u2500\u2500\u2500\u2500\u253c\u2500\u2500\u2500\u2500\u2500\u2500\u2500\u2500\u2500\u2500\u2500\u2500\u2500\u2500\u2500\u2500\u253c\u2500\u2500\u2500\u2500\u2500\u2500\u2500\u2500\u2500\u2500\u2500\u2500\u2500\u2500\u253c\u2500\u2500\u2500\u2500\u2500\u2500\u2500\u2500\u2500\u2500\u2500\u2500\u2500\u2500\u2500\u2524\n",
            "\u2502   AAPL \u2502   4.004 % \u2502       0.0 % \u2502          0.0 % \u2502        0.0 % \u2502         0.0 % \u2502\n",
            "\u2502    AMD \u2502   2.332 % \u2502       0.0 % \u2502          0.0 % \u2502        0.0 % \u2502         0.0 % \u2502\n",
            "\u2502    BAC \u2502    4.39 % \u2502       0.0 % \u2502          0.0 % \u2502        0.0 % \u2502         0.0 % \u2502\n",
            "\u2502    BBY \u2502   3.143 % \u2502       0.0 % \u2502          0.0 % \u2502        0.0 % \u2502         0.0 % \u2502\n",
            "\u2502    CVX \u2502   4.326 % \u2502     8.817 % \u2502        6.884 % \u2502        0.0 % \u2502         0.0 % \u2502\n",
            "\u2502     GE \u2502   4.087 % \u2502       0.0 % \u2502          0.0 % \u2502        0.0 % \u2502         0.0 % \u2502\n",
            "\u2502     HD \u2502    4.55 % \u2502       0.0 % \u2502          0.0 % \u2502        0.0 % \u2502         0.0 % \u2502\n",
            "\u2502    JNJ \u2502   8.175 % \u2502    49.192 % \u2502       39.727 % \u2502        0.0 % \u2502         0.0 % \u2502\n",
            "\u2502    JPM \u2502   4.771 % \u2502     3.414 % \u2502        0.689 % \u2502        0.0 % \u2502         0.0 % \u2502\n",
            "\u2502     KO \u2502   7.239 % \u2502     9.206 % \u2502       11.461 % \u2502        0.0 % \u2502         0.0 % \u2502\n",
            "\u2502    LLY \u2502   5.224 % \u2502       0.0 % \u2502          0.0 % \u2502        0.0 % \u2502         0.0 % \u2502\n",
            "\u2502    MRK \u2502   7.143 % \u2502    16.429 % \u2502        26.96 % \u2502     69.998 % \u2502         0.0 % \u2502\n",
            "\u2502   MSFT \u2502   4.046 % \u2502       0.0 % \u2502          0.0 % \u2502        0.0 % \u2502         0.0 % \u2502\n",
            "\u2502    PEP \u2502    7.32 % \u2502       0.0 % \u2502          0.0 % \u2502        0.0 % \u2502         0.0 % \u2502\n",
            "\u2502    PFE \u2502   5.274 % \u2502       0.0 % \u2502          0.0 % \u2502        0.0 % \u2502         0.0 % \u2502\n",
            "\u2502     PG \u2502   6.482 % \u2502     1.722 % \u2502          0.0 % \u2502        0.0 % \u2502         0.0 % \u2502\n",
            "\u2502    RRC \u2502   2.263 % \u2502       0.0 % \u2502          0.0 % \u2502        0.0 % \u2502         0.0 % \u2502\n",
            "\u2502    UNH \u2502   5.843 % \u2502       0.0 % \u2502          0.0 % \u2502        0.0 % \u2502         0.0 % \u2502\n",
            "\u2502    WMT \u2502   5.329 % \u2502     7.142 % \u2502        6.463 % \u2502        0.0 % \u2502         0.0 % \u2502\n",
            "\u2502    XOM \u2502   4.058 % \u2502     4.078 % \u2502        7.816 % \u2502     30.002 % \u2502       100.0 % \u2502\n",
            "\u2514\u2500\u2500\u2500\u2500\u2500\u2500\u2500\u2500\u2534\u2500\u2500\u2500\u2500\u2500\u2500\u2500\u2500\u2500\u2500\u2500\u2534\u2500\u2500\u2500\u2500\u2500\u2500\u2500\u2500\u2500\u2500\u2500\u2500\u2500\u2534\u2500\u2500\u2500\u2500\u2500\u2500\u2500\u2500\u2500\u2500\u2500\u2500\u2500\u2500\u2500\u2500\u2534\u2500\u2500\u2500\u2500\u2500\u2500\u2500\u2500\u2500\u2500\u2500\u2500\u2500\u2500\u2534\u2500\u2500\u2500\u2500\u2500\u2500\u2500\u2500\u2500\u2500\u2500\u2500\u2500\u2500\u2500\u2518\n"
          ]
        }
      ],
      "source": [
        "pretty_table(DataFrame(; :assets => rd.nx, :benchmark => res0.w, :MinimumRisk => res1.w,\n",
        "                       :MaximumUtility => res2.w, :MaximumRatio => res3.w,\n",
        "                       :MaximumReturn => res4.w); formatters = resfmt)"
      ]
    },
    {
      "cell_type": "markdown",
      "metadata": {},
      "source": [
        "In order to confirm that the objective functions do what they say on the tin, we can compute the risk, return and risk return ration. There are individual functions for each `expected_risk`, `expected_return`, `expected_ratio`, but we also have `expected_risk_ret_ratio` that returns all three at once (`risk`, `return`, `risk-return ratio`) which is what we will use here.\n",
        "\n",
        "Due to the fact that we provide different expected portfolio return measures, any function that computes the expected portfolio return also needs to know which return type to compute. We will be consistent with the returns we used in the optimisation."
      ]
    },
    {
      "cell_type": "code",
      "execution_count": 10,
      "metadata": {},
      "outputs": [],
      "source": [
        "rk1, rt1, rr1 = expected_risk_ret_ratio(r, res1.ret, res1.w, res1.pr; rf = rf);\n",
        "rk2, rt2, rr2 = expected_risk_ret_ratio(r, res2.ret, res2.w, res2.pr; rf = rf);\n",
        "rk3, rt3, rr3 = expected_risk_ret_ratio(r, res3.ret, res3.w, res3.pr; rf = rf);\n",
        "rk4, rt4, rr4 = expected_risk_ret_ratio(r, res4.ret, res4.w, res4.pr; rf = rf);\n",
        "rk0, rt0, rr0 = expected_risk_ret_ratio(r, ArithmeticReturn(), res0.w, res0.pr; rf = rf);"
      ]
    },
    {
      "cell_type": "markdown",
      "metadata": {},
      "source": [
        "Lets make sure the results are what we expect."
      ]
    },
    {
      "cell_type": "code",
      "execution_count": 11,
      "metadata": {},
      "outputs": [
        {
          "name": "stdout",
          "output_type": "stream",
          "text": [
            "\u250c\u2500\u2500\u2500\u2500\u2500\u2500\u2500\u2500\u2500\u2500\u2500\u2500\u2500\u2500\u2500\u2500\u252c\u2500\u2500\u2500\u2500\u2500\u2500\u2500\u2500\u2500\u252c\u2500\u2500\u2500\u2500\u2500\u2500\u2500\u2500\u2500\u252c\u2500\u2500\u2500\u2500\u2500\u2500\u2500\u2500\u2500\u2500\u2510\n",
            "\u2502            obj \u2502      rk \u2502      rt \u2502       rr \u2502\n",
            "\u2502         Symbol \u2502 Float64 \u2502 Float64 \u2502  Float64 \u2502\n",
            "\u251c\u2500\u2500\u2500\u2500\u2500\u2500\u2500\u2500\u2500\u2500\u2500\u2500\u2500\u2500\u2500\u2500\u253c\u2500\u2500\u2500\u2500\u2500\u2500\u2500\u2500\u2500\u253c\u2500\u2500\u2500\u2500\u2500\u2500\u2500\u2500\u2500\u253c\u2500\u2500\u2500\u2500\u2500\u2500\u2500\u2500\u2500\u2500\u2524\n",
            "\u2502    MinimumRisk \u2502 0.651 % \u2502 0.075 % \u2502  8.899 % \u2502\n",
            "\u2502 MaximumUtility \u2502 0.657 % \u2502 0.098 % \u2502 12.333 % \u2502\n",
            "\u2502   MaximumRatio \u2502 0.829 % \u2502 0.196 % \u2502 21.611 % \u2502\n",
            "\u2502  MaximumReturn \u2502 1.621 % \u2502 0.264 % \u2502 15.236 % \u2502\n",
            "\u2502      Benchmark \u2502 0.813 % \u2502 0.025 % \u2502   0.97 % \u2502\n",
            "\u2514\u2500\u2500\u2500\u2500\u2500\u2500\u2500\u2500\u2500\u2500\u2500\u2500\u2500\u2500\u2500\u2500\u2534\u2500\u2500\u2500\u2500\u2500\u2500\u2500\u2500\u2500\u2534\u2500\u2500\u2500\u2500\u2500\u2500\u2500\u2500\u2500\u2534\u2500\u2500\u2500\u2500\u2500\u2500\u2500\u2500\u2500\u2500\u2518\n"
          ]
        }
      ],
      "source": [
        "pretty_table(DataFrame(;\n",
        "                       :obj => [:MinimumRisk, :MaximumUtility, :MaximumRatio,\n",
        "                                :MaximumReturn, :Benchmark],\n",
        "                       :rk => [rk1, rk2, rk3, rk4, rk0], :rt => [rt1, rt2, rt3, rt4, rt0],\n",
        "                       :rr => [rr1, rr2, rr3, rr4, rr0]); formatters = resfmt)"
      ]
    },
    {
      "cell_type": "markdown",
      "metadata": {},
      "source": [
        "We can seee that indeed, the minimum risk produces the portfolio with minimum risk, the maximum ratio produces the portfolio with the maximum risk-return ratio, and the maximum return portfolio produces the portfolio with the maximum return."
      ]
    },
    {
      "cell_type": "markdown",
      "metadata": {},
      "source": [
        "---\n",
        "\n",
        "*This notebook was generated using [Literate.jl](https://github.com/fredrikekre/Literate.jl).*"
      ]
    }
  ],
  "metadata": {
    "kernelspec": {
      "display_name": "Julia 1.11.6",
      "language": "julia",
      "name": "julia-1.11"
    },
    "language_info": {
      "file_extension": ".jl",
      "mimetype": "application/julia",
      "name": "julia",
      "version": "1.11.6"
    }
  },
  "nbformat": 4,
  "nbformat_minor": 3
}
