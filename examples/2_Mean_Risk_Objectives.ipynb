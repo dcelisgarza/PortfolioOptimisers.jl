{
 "cells": [
  {
   "cell_type": "markdown",
   "source": [
    "# Example 2: `MeanRisk` objectives\n",
    "\n",
    "In this example we will show the different objective functions available in `MeanRisk`, and compare them to a benchmark."
   ],
   "metadata": {}
  },
  {
   "outputs": [],
   "cell_type": "code",
   "source": [
    "using PortfolioOptimisers, PrettyTables\n",
    "# Format for pretty tables.\n",
    "tsfmt = (v, i, j) -> begin\n",
    "    if j == 1\n",
    "        return Date(v)\n",
    "    else\n",
    "        return v\n",
    "    end\n",
    "end;\n",
    "resfmt = (v, i, j) -> begin\n",
    "    if j == 1\n",
    "        return v\n",
    "    else\n",
    "        return isa(v, Number) ? \"$(round(v*100, digits=3)) %\" : v\n",
    "    end\n",
    "end;"
   ],
   "metadata": {},
   "execution_count": 1
  },
  {
   "cell_type": "markdown",
   "source": [
    "## 1. ReturnsResult data\n",
    "\n",
    "We will use the same data as the previous example."
   ],
   "metadata": {}
  },
  {
   "outputs": [
    {
     "name": "stdout",
     "output_type": "stream",
     "text": [
      "┌────────────┬─────────┬─────────┬─────────┬─────────┬─────────┬─────────┬─────────┬─────────┬─────────┬─────────┬─────────┬─────────┬─────────┬─────────┬─────────┬─────────┬─────────┬─────────┬─────────┬─────────┐\n",
      "│  timestamp │    AAPL │     AMD │     BAC │     BBY │     CVX │      GE │      HD │     JNJ │     JPM │      KO │     LLY │     MRK │    MSFT │     PEP │     PFE │      PG │     RRC │     UNH │     WMT │     XOM │\n",
      "│ Dates.Date │ Float64 │ Float64 │ Float64 │ Float64 │ Float64 │ Float64 │ Float64 │ Float64 │ Float64 │ Float64 │ Float64 │ Float64 │ Float64 │ Float64 │ Float64 │ Float64 │ Float64 │ Float64 │ Float64 │ Float64 │\n",
      "├────────────┼─────────┼─────────┼─────────┼─────────┼─────────┼─────────┼─────────┼─────────┼─────────┼─────────┼─────────┼─────────┼─────────┼─────────┼─────────┼─────────┼─────────┼─────────┼─────────┼─────────┤\n",
      "│ 2022-12-20 │ 131.916 │   65.05 │  31.729 │  77.371 │ 169.497 │  62.604 │ 310.342 │ 173.109 │ 127.844 │  61.841 │  357.55 │ 108.229 │  240.67 │ 178.765 │  49.754 │ 147.661 │   25.65 │ 516.245 │ 142.919 │ 104.964 │\n",
      "│ 2022-12-21 │ 135.057 │   67.68 │  32.212 │  78.729 │  171.49 │   64.67 │ 314.798 │  175.09 │ 129.282 │  62.836 │ 365.872 │ 109.611 │ 243.287 │ 180.017 │  50.084 │ 149.015 │  26.574 │ 523.519 │  144.04 │ 106.312 │\n",
      "│ 2022-12-22 │ 131.846 │   63.86 │  31.927 │  78.563 │ 168.918 │  63.727 │ 311.604 │  174.45 │ 127.814 │  62.383 │ 363.187 │ 109.739 │ 237.077 │ 178.627 │  50.065 │ 149.359 │  25.232 │ 523.072 │ 142.354 │ 104.168 │\n",
      "│ 2022-12-23 │ 131.477 │   64.52 │  32.005 │  79.432 │  174.14 │  63.742 │ 314.177 │ 174.893 │ 128.421 │  62.855 │ 365.762 │  110.35 │ 237.614 │ 179.781 │  50.249 │ 149.781 │  26.226 │  527.26 │ 142.641 │ 106.922 │\n",
      "│ 2022-12-27 │ 129.652 │   63.27 │  32.065 │   79.93 │ 176.329 │  64.561 │ 314.985 │ 174.844 │ 128.871 │   63.24 │  362.76 │ 110.607 │ 235.852 │  180.58 │   49.57 │ 151.086 │  26.375 │ 527.935 │ 142.681 │ 108.408 │\n",
      "│ 2022-12-28 │ 125.674 │   62.57 │  32.301 │  78.279 │ 173.728 │  63.883 │  311.22 │ 174.085 │ 129.575 │  62.609 │ 363.098 │ 109.581 │ 233.434 │ 179.278 │   49.25 │ 149.133 │  24.497 │ 524.422 │ 140.181 │ 106.627 │\n",
      "└────────────┴─────────┴─────────┴─────────┴─────────┴─────────┴─────────┴─────────┴─────────┴─────────┴─────────┴─────────┴─────────┴─────────┴─────────┴─────────┴─────────┴─────────┴─────────┴─────────┴─────────┘\n"
     ]
    },
    {
     "output_type": "execute_result",
     "data": {
      "text/plain": "ReturnsResult\n    nx ┼ 20-element Vector{String}\n     X ┼ 252×20 Matrix{Float64}\n    nf ┼ nothing\n     F ┼ nothing\n    ts ┼ 252-element Vector{Dates.Date}\n    iv ┼ nothing\n  ivpa ┴ nothing\n"
     },
     "metadata": {},
     "execution_count": 2
    }
   ],
   "cell_type": "code",
   "source": [
    "using CSV, TimeSeries, DataFrames\n",
    "\n",
    "X = TimeArray(CSV.File(joinpath(@__DIR__, \"SP500.csv.gz\")); timestamp = :Date)[(end - 252):end]\n",
    "pretty_table(X[(end - 5):end]; formatters = tsfmt)\n",
    "\n",
    "# Compute the returns\n",
    "rd = prices_to_returns(X)"
   ],
   "metadata": {},
   "execution_count": 2
  },
  {
   "cell_type": "markdown",
   "source": [
    "## 2. MeanRisk objectives\n",
    "\n",
    "Here we will show the different objective functions available in `MeanRisk`. We will also use the semi-standard deviation risk measure."
   ],
   "metadata": {}
  },
  {
   "outputs": [
    {
     "output_type": "execute_result",
     "data": {
      "text/plain": "Solver\n         name ┼ Symbol: :clarabel1\n       solver ┼ UnionAll: Clarabel.MOIwrapper.Optimizer\n     settings ┼ Dict{String, Bool}: Dict{String, Bool}(\"verbose\" => 0)\n    check_sol ┼ @NamedTuple{allow_local::Bool, allow_almost::Bool}: (allow_local = true, allow_almost = true)\n  add_bridges ┴ Bool: true\n"
     },
     "metadata": {},
     "execution_count": 3
    }
   ],
   "cell_type": "code",
   "source": [
    "using Clarabel\n",
    "slv = Solver(; name = :clarabel1, solver = Clarabel.Optimizer,\n",
    "             settings = Dict(\"verbose\" => false),\n",
    "             check_sol = (; allow_local = true, allow_almost = true))"
   ],
   "metadata": {},
   "execution_count": 3
  },
  {
   "cell_type": "markdown",
   "source": [
    "Here we encounter another consequence of the design philosophy of `PortfolioOptimisers`. An entire class of risk measures can be categorised and consistently implemented as `LowOrderMoment` risk measures with different internal algorithms. This corresponds to the semi-standard deviation."
   ],
   "metadata": {}
  },
  {
   "outputs": [
    {
     "output_type": "execute_result",
     "data": {
      "text/plain": "LowOrderMoment\n  settings ┼ RiskMeasureSettings\n           │   scale ┼ Float64: 1.0\n           │      ub ┼ nothing\n           │     rke ┴ Bool: true\n         w ┼ nothing\n        mu ┼ nothing\n       alg ┼ SecondMoment\n           │     ve ┼ SimpleVariance\n           │        │          me ┼ nothing\n           │        │           w ┼ nothing\n           │        │   corrected ┴ Bool: true\n           │   alg1 ┼ Semi()\n           │   alg2 ┴ SOCRiskExpr()\n"
     },
     "metadata": {},
     "execution_count": 4
    }
   ],
   "cell_type": "code",
   "source": [
    "r = LowOrderMoment(; alg = SecondMoment(; alg1 = Semi(), alg2 = SOCRiskExpr()))"
   ],
   "metadata": {},
   "execution_count": 4
  },
  {
   "cell_type": "markdown",
   "source": [
    "Since we will perform various optimisations on the same data, there's no need to redo work. Let's precompute the prior statistics using the `EmpiricalPrior` to avoid recomputing them every time we call the optimisation."
   ],
   "metadata": {}
  },
  {
   "outputs": [
    {
     "output_type": "execute_result",
     "data": {
      "text/plain": "LowOrderPrior\n        X ┼ 252×20 Matrix{Float64}\n       mu ┼ 20-element Vector{Float64}\n    sigma ┼ 20×20 Matrix{Float64}\n     chol ┼ nothing\n        w ┼ nothing\n      ens ┼ nothing\n      kld ┼ nothing\n       ow ┼ nothing\n       rr ┼ nothing\n     f_mu ┼ nothing\n  f_sigma ┼ nothing\n      f_w ┴ nothing\n"
     },
     "metadata": {},
     "execution_count": 5
    }
   ],
   "cell_type": "code",
   "source": [
    "pr = prior(EmpiricalPrior(), rd)"
   ],
   "metadata": {},
   "execution_count": 5
  },
  {
   "cell_type": "markdown",
   "source": [
    "We can provide the prior result to `JuMPOptimiser`."
   ],
   "metadata": {}
  },
  {
   "outputs": [
    {
     "output_type": "execute_result",
     "data": {
      "text/plain": "JuMPOptimiser\n      pe ┼ LowOrderPrior\n         │         X ┼ 252×20 Matrix{Float64}\n         │        mu ┼ 20-element Vector{Float64}\n         │     sigma ┼ 20×20 Matrix{Float64}\n         │      chol ┼ nothing\n         │         w ┼ nothing\n         │       ens ┼ nothing\n         │       kld ┼ nothing\n         │        ow ┼ nothing\n         │        rr ┼ nothing\n         │      f_mu ┼ nothing\n         │   f_sigma ┼ nothing\n         │       f_w ┴ nothing\n     slv ┼ Solver\n         │          name ┼ Symbol: :clarabel1\n         │        solver ┼ UnionAll: Clarabel.MOIwrapper.Optimizer\n         │      settings ┼ Dict{String, Bool}: Dict{String, Bool}(\"verbose\" => 0)\n         │     check_sol ┼ @NamedTuple{allow_local::Bool, allow_almost::Bool}: (allow_local = true, allow_almost = true)\n         │   add_bridges ┴ Bool: true\n      wb ┼ WeightBounds\n         │   lb ┼ Float64: 0.0\n         │   ub ┴ Float64: 1.0\n     bgt ┼ Float64: 1.0\n    sbgt ┼ nothing\n      lt ┼ nothing\n      st ┼ nothing\n     lcs ┼ nothing\n    cent ┼ nothing\n   gcard ┼ nothing\n  sgcard ┼ nothing\n    smtx ┼ nothing\n   sgmtx ┼ nothing\n     slt ┼ nothing\n     sst ┼ nothing\n    sglt ┼ nothing\n    sgst ┼ nothing\n    sets ┼ nothing\n     plg ┼ nothing\n      tn ┼ nothing\n      te ┼ nothing\n    fees ┼ nothing\n     ret ┼ ArithmeticReturn\n         │   ucs ┼ nothing\n         │    lb ┴ nothing\n     sce ┼ SumScalariser()\n    ccnt ┼ nothing\n    cobj ┼ nothing\n      sc ┼ Int64: 1\n      so ┼ Int64: 1\n      ss ┼ nothing\n    card ┼ nothing\n   scard ┼ nothing\n     nea ┼ nothing\n      l1 ┼ nothing\n      l2 ┼ nothing\n  strict ┴ Bool: false\n"
     },
     "metadata": {},
     "execution_count": 6
    }
   ],
   "cell_type": "code",
   "source": [
    "opt = JuMPOptimiser(; pe = pr, slv = slv)"
   ],
   "metadata": {},
   "execution_count": 6
  },
  {
   "cell_type": "markdown",
   "source": [
    "Here we define the estimators for different objective functions."
   ],
   "metadata": {}
  },
  {
   "outputs": [
    {
     "output_type": "execute_result",
     "data": {
      "text/plain": "MeanRisk\n  opt ┼ JuMPOptimiser\n      │       pe ┼ LowOrderPrior\n      │          │         X ┼ 252×20 Matrix{Float64}\n      │          │        mu ┼ 20-element Vector{Float64}\n      │          │     sigma ┼ 20×20 Matrix{Float64}\n      │          │      chol ┼ nothing\n      │          │         w ┼ nothing\n      │          │       ens ┼ nothing\n      │          │       kld ┼ nothing\n      │          │        ow ┼ nothing\n      │          │        rr ┼ nothing\n      │          │      f_mu ┼ nothing\n      │          │   f_sigma ┼ nothing\n      │          │       f_w ┴ nothing\n      │      slv ┼ Solver\n      │          │          name ┼ Symbol: :clarabel1\n      │          │        solver ┼ UnionAll: Clarabel.MOIwrapper.Optimizer\n      │          │      settings ┼ Dict{String, Bool}: Dict{String, Bool}(\"verbose\" => 0)\n      │          │     check_sol ┼ @NamedTuple{allow_local::Bool, allow_almost::Bool}: (allow_local = true, allow_almost = true)\n      │          │   add_bridges ┴ Bool: true\n      │       wb ┼ WeightBounds\n      │          │   lb ┼ Float64: 0.0\n      │          │   ub ┴ Float64: 1.0\n      │      bgt ┼ Float64: 1.0\n      │     sbgt ┼ nothing\n      │       lt ┼ nothing\n      │       st ┼ nothing\n      │      lcs ┼ nothing\n      │     cent ┼ nothing\n      │    gcard ┼ nothing\n      │   sgcard ┼ nothing\n      │     smtx ┼ nothing\n      │    sgmtx ┼ nothing\n      │      slt ┼ nothing\n      │      sst ┼ nothing\n      │     sglt ┼ nothing\n      │     sgst ┼ nothing\n      │     sets ┼ nothing\n      │      plg ┼ nothing\n      │       tn ┼ nothing\n      │       te ┼ nothing\n      │     fees ┼ nothing\n      │      ret ┼ ArithmeticReturn\n      │          │   ucs ┼ nothing\n      │          │    lb ┴ nothing\n      │      sce ┼ SumScalariser()\n      │     ccnt ┼ nothing\n      │     cobj ┼ nothing\n      │       sc ┼ Int64: 1\n      │       so ┼ Int64: 1\n      │       ss ┼ nothing\n      │     card ┼ nothing\n      │    scard ┼ nothing\n      │      nea ┼ nothing\n      │       l1 ┼ nothing\n      │       l2 ┼ nothing\n      │   strict ┴ Bool: false\n    r ┼ LowOrderMoment\n      │   settings ┼ RiskMeasureSettings\n      │            │   scale ┼ Float64: 1.0\n      │            │      ub ┼ nothing\n      │            │     rke ┴ Bool: true\n      │          w ┼ nothing\n      │         mu ┼ nothing\n      │        alg ┼ SecondMoment\n      │            │     ve ┼ SimpleVariance\n      │            │        │          me ┼ nothing\n      │            │        │           w ┼ nothing\n      │            │        │   corrected ┴ Bool: true\n      │            │   alg1 ┼ Semi()\n      │            │   alg2 ┴ SOCRiskExpr()\n  obj ┼ MaximumReturn()\n   wi ┼ nothing\n   fb ┴ nothing\n"
     },
     "metadata": {},
     "execution_count": 7
    }
   ],
   "cell_type": "code",
   "source": [
    "# Minimum risk\n",
    "mr1 = MeanRisk(; r = r, obj = MinimumRisk(), opt = opt)\n",
    "# Maximum utility with risk aversion parameter 2\n",
    "mr2 = MeanRisk(; r = r, obj = MaximumUtility(), opt = opt)\n",
    "# Risk-free rate of 4.2/100/252\n",
    "rf = 4.2 / 100 / 252\n",
    "mr3 = MeanRisk(; r = r, obj = MaximumRatio(; rf = rf), opt = opt)\n",
    "# Maximum return\n",
    "mr4 = MeanRisk(; r = r, obj = MaximumReturn(), opt = opt)"
   ],
   "metadata": {},
   "execution_count": 7
  },
  {
   "cell_type": "markdown",
   "source": [
    "Let's perform the optimisations, but since we've precomputed the prior statistics, we do not need to provide the returns data. We will also produce a benchmark using the `InverseVolatility` estimator."
   ],
   "metadata": {}
  },
  {
   "outputs": [
    {
     "output_type": "execute_result",
     "data": {
      "text/plain": "NaiveOptimisation\n       oe ┼ DataType: DataType\n       pr ┼ LowOrderPrior\n          │         X ┼ 252×20 Matrix{Float64}\n          │        mu ┼ 20-element Vector{Float64}\n          │     sigma ┼ 20×20 Matrix{Float64}\n          │      chol ┼ nothing\n          │         w ┼ nothing\n          │       ens ┼ nothing\n          │       kld ┼ nothing\n          │        ow ┼ nothing\n          │        rr ┼ nothing\n          │      f_mu ┼ nothing\n          │   f_sigma ┼ nothing\n          │       f_w ┴ nothing\n        w ┼ 20-element Vector{Float64}\n  retcode ┼ OptimisationSuccess\n          │   res ┴ nothing\n       fb ┴ nothing\n"
     },
     "metadata": {},
     "execution_count": 8
    }
   ],
   "cell_type": "code",
   "source": [
    "res1 = optimise(mr1)\n",
    "res2 = optimise(mr2)\n",
    "res3 = optimise(mr3)\n",
    "res4 = optimise(mr4)\n",
    "res0 = optimise(InverseVolatility(; pe = pr))"
   ],
   "metadata": {},
   "execution_count": 8
  },
  {
   "cell_type": "markdown",
   "source": [
    "Let's view the results as pretty tables."
   ],
   "metadata": {}
  },
  {
   "outputs": [
    {
     "name": "stdout",
     "output_type": "stream",
     "text": [
      "┌────────┬───────────┬─────────────┬────────────────┬──────────────┬───────────────┐\n",
      "│ assets │ benchmark │ MinimumRisk │ MaximumUtility │ MaximumRatio │ MaximumReturn │\n",
      "│ String │   Float64 │     Float64 │        Float64 │      Float64 │       Float64 │\n",
      "├────────┼───────────┼─────────────┼────────────────┼──────────────┼───────────────┤\n",
      "│   AAPL │   4.004 % │       0.0 % │          0.0 % │        0.0 % │         0.0 % │\n",
      "│    AMD │   2.332 % │       0.0 % │          0.0 % │        0.0 % │         0.0 % │\n",
      "│    BAC │    4.39 % │       0.0 % │          0.0 % │        0.0 % │         0.0 % │\n",
      "│    BBY │   3.143 % │       0.0 % │          0.0 % │        0.0 % │         0.0 % │\n",
      "│    CVX │   4.326 % │     8.817 % │        6.884 % │        0.0 % │         0.0 % │\n",
      "│     GE │   4.087 % │       0.0 % │          0.0 % │        0.0 % │         0.0 % │\n",
      "│     HD │    4.55 % │       0.0 % │          0.0 % │        0.0 % │         0.0 % │\n",
      "│    JNJ │   8.175 % │    49.192 % │       39.727 % │        0.0 % │         0.0 % │\n",
      "│    JPM │   4.771 % │     3.414 % │        0.689 % │        0.0 % │         0.0 % │\n",
      "│     KO │   7.239 % │     9.206 % │       11.461 % │        0.0 % │         0.0 % │\n",
      "│    LLY │   5.224 % │       0.0 % │          0.0 % │        0.0 % │         0.0 % │\n",
      "│    MRK │   7.143 % │    16.429 % │        26.96 % │     69.998 % │         0.0 % │\n",
      "│   MSFT │   4.046 % │       0.0 % │          0.0 % │        0.0 % │         0.0 % │\n",
      "│    PEP │    7.32 % │       0.0 % │          0.0 % │        0.0 % │         0.0 % │\n",
      "│    PFE │   5.274 % │       0.0 % │          0.0 % │        0.0 % │         0.0 % │\n",
      "│     PG │   6.482 % │     1.722 % │          0.0 % │        0.0 % │         0.0 % │\n",
      "│    RRC │   2.263 % │       0.0 % │          0.0 % │        0.0 % │         0.0 % │\n",
      "│    UNH │   5.843 % │       0.0 % │          0.0 % │        0.0 % │         0.0 % │\n",
      "│    WMT │   5.329 % │     7.142 % │        6.463 % │        0.0 % │         0.0 % │\n",
      "│    XOM │   4.058 % │     4.078 % │        7.816 % │     30.002 % │       100.0 % │\n",
      "└────────┴───────────┴─────────────┴────────────────┴──────────────┴───────────────┘\n"
     ]
    }
   ],
   "cell_type": "code",
   "source": [
    "pretty_table(DataFrame(; :assets => rd.nx, :benchmark => res0.w, :MinimumRisk => res1.w,\n",
    "                       :MaximumUtility => res2.w, :MaximumRatio => res3.w,\n",
    "                       :MaximumReturn => res4.w); formatters = resfmt)"
   ],
   "metadata": {},
   "execution_count": 9
  },
  {
   "cell_type": "markdown",
   "source": [
    "In order to confirm that the objective functions do what they say on the tin, we can compute the risk, return and risk return ration. There are individual functions for each `expected_risk`, `expected_return`, `expected_ratio`, but we also have `expected_risk_ret_ratio` that returns all three at once (`risk`, `return`, `risk-return ratio`) which is what we will use here.\n",
    "\n",
    "Due to the fact that we provide different expected portfolio return measures, any function that computes the expected portfolio return also needs to know which return type to compute. We will be consistent with the returns we used in the optimisation."
   ],
   "metadata": {}
  },
  {
   "outputs": [],
   "cell_type": "code",
   "source": [
    "rk1, rt1, rr1 = expected_risk_ret_ratio(r, res1.ret, res1.w, res1.pr; rf = rf);\n",
    "rk2, rt2, rr2 = expected_risk_ret_ratio(r, res2.ret, res2.w, res2.pr; rf = rf);\n",
    "rk3, rt3, rr3 = expected_risk_ret_ratio(r, res3.ret, res3.w, res3.pr; rf = rf);\n",
    "rk4, rt4, rr4 = expected_risk_ret_ratio(r, res4.ret, res4.w, res4.pr; rf = rf);\n",
    "rk0, rt0, rr0 = expected_risk_ret_ratio(r, ArithmeticReturn(), res0.w, res0.pr; rf = rf);"
   ],
   "metadata": {},
   "execution_count": 10
  },
  {
   "cell_type": "markdown",
   "source": [
    "Let's make sure the results are what we expect."
   ],
   "metadata": {}
  },
  {
   "outputs": [
    {
     "name": "stdout",
     "output_type": "stream",
     "text": [
      "┌────────────────┬─────────┬─────────┬──────────┐\n",
      "│            obj │      rk │      rt │       rr │\n",
      "│         Symbol │ Float64 │ Float64 │  Float64 │\n",
      "├────────────────┼─────────┼─────────┼──────────┤\n",
      "│    MinimumRisk │ 0.651 % │ 0.075 % │  8.899 % │\n",
      "│ MaximumUtility │ 0.657 % │ 0.098 % │ 12.333 % │\n",
      "│   MaximumRatio │ 0.829 % │ 0.196 % │ 21.611 % │\n",
      "│  MaximumReturn │ 1.621 % │ 0.264 % │ 15.236 % │\n",
      "│      Benchmark │ 0.813 % │ 0.025 % │   0.97 % │\n",
      "└────────────────┴─────────┴─────────┴──────────┘\n"
     ]
    }
   ],
   "cell_type": "code",
   "source": [
    "pretty_table(DataFrame(;\n",
    "                       :obj => [:MinimumRisk, :MaximumUtility, :MaximumRatio,\n",
    "                                :MaximumReturn, :Benchmark],\n",
    "                       :rk => [rk1, rk2, rk3, rk4, rk0], :rt => [rt1, rt2, rt3, rt4, rt0],\n",
    "                       :rr => [rr1, rr2, rr3, rr4, rr0]); formatters = resfmt)"
   ],
   "metadata": {},
   "execution_count": 11
  },
  {
   "cell_type": "markdown",
   "source": [
    "We can see that indeed, the minimum risk produces the portfolio with minimum risk, the maximum ratio produces the portfolio with the maximum risk-return ratio, and the maximum return portfolio produces the portfolio with the maximum return."
   ],
   "metadata": {}
  },
  {
   "cell_type": "markdown",
   "source": [
    "---\n",
    "\n",
    "*This notebook was generated using [Literate.jl](https://github.com/fredrikekre/Literate.jl).*"
   ],
   "metadata": {}
  }
 ],
 "nbformat_minor": 3,
 "metadata": {
  "language_info": {
   "file_extension": ".jl",
   "mimetype": "application/julia",
   "name": "julia",
   "version": "1.12.1"
  },
  "kernelspec": {
   "name": "julia-1.12",
   "display_name": "Julia 1.12.1",
   "language": "julia"
  }
 },
 "nbformat": 4
}
