{
 "cells": [
  {
   "cell_type": "markdown",
   "source": [
    "# Example 5: Budget constraints\n",
    "\n",
    "This example shows how to use basic budget constraints.\n",
    "\n",
    "Before starting it is worth mentioning that portfolio budget constraints are implemented on the actual weights, while the short budget constraints are implemented on a relaxation variable stand-in for the short weights. This means that in some cases, it may appear the short budget constraints are not satisfied when they actually are. This is because the relaxation variables that stand in for the short weights can take on a range of values as long as they are greater than or equal to the absolute value of the actual negative weights, and still satisfy the budget constraint placed on them."
   ],
   "metadata": {}
  },
  {
   "outputs": [],
   "cell_type": "code",
   "source": [
    "using PortfolioOptimisers, PrettyTables\n",
    "# Format for pretty tables.\n",
    "tsfmt = (v, i, j) -> begin\n",
    "    if j == 1\n",
    "        return Date(v)\n",
    "    else\n",
    "        return v\n",
    "    end\n",
    "end;\n",
    "resfmt = (v, i, j) -> begin\n",
    "    if j == 1\n",
    "        return v\n",
    "    else\n",
    "        return isa(v, Number) ? \"$(round(v*100, digits=3)) %\" : v\n",
    "    end\n",
    "end;\n",
    "mipresfmt = (v, i, j) -> begin\n",
    "    if j ∈ (1, 2, 3)\n",
    "        return v\n",
    "    else\n",
    "        return isa(v, Number) ? \"$(round(v*100, digits=3)) %\" : v\n",
    "    end\n",
    "end;"
   ],
   "metadata": {},
   "execution_count": 1
  },
  {
   "cell_type": "markdown",
   "source": [
    "## 1. ReturnsResult data\n",
    "\n",
    "We will use the same data as the previous example."
   ],
   "metadata": {}
  },
  {
   "outputs": [
    {
     "name": "stdout",
     "output_type": "stream",
     "text": [
      "┌────────────┬─────────┬─────────┬─────────┬─────────┬─────────┬─────────┬─────────┬─────────┬─────────┬─────────┬─────────┬─────────┬─────────┬─────────┬─────────┬─────────┬─────────┬─────────┬─────────┬─────────┐\n",
      "│  timestamp │    AAPL │     AMD │     BAC │     BBY │     CVX │      GE │      HD │     JNJ │     JPM │      KO │     LLY │     MRK │    MSFT │     PEP │     PFE │      PG │     RRC │     UNH │     WMT │     XOM │\n",
      "│ Dates.Date │ Float64 │ Float64 │ Float64 │ Float64 │ Float64 │ Float64 │ Float64 │ Float64 │ Float64 │ Float64 │ Float64 │ Float64 │ Float64 │ Float64 │ Float64 │ Float64 │ Float64 │ Float64 │ Float64 │ Float64 │\n",
      "├────────────┼─────────┼─────────┼─────────┼─────────┼─────────┼─────────┼─────────┼─────────┼─────────┼─────────┼─────────┼─────────┼─────────┼─────────┼─────────┼─────────┼─────────┼─────────┼─────────┼─────────┤\n",
      "│ 2022-12-20 │ 131.916 │   65.05 │  31.729 │  77.371 │ 169.497 │  62.604 │ 310.342 │ 173.109 │ 127.844 │  61.841 │  357.55 │ 108.229 │  240.67 │ 178.765 │  49.754 │ 147.661 │   25.65 │ 516.245 │ 142.919 │ 104.964 │\n",
      "│ 2022-12-21 │ 135.057 │   67.68 │  32.212 │  78.729 │  171.49 │   64.67 │ 314.798 │  175.09 │ 129.282 │  62.836 │ 365.872 │ 109.611 │ 243.287 │ 180.017 │  50.084 │ 149.015 │  26.574 │ 523.519 │  144.04 │ 106.312 │\n",
      "│ 2022-12-22 │ 131.846 │   63.86 │  31.927 │  78.563 │ 168.918 │  63.727 │ 311.604 │  174.45 │ 127.814 │  62.383 │ 363.187 │ 109.739 │ 237.077 │ 178.627 │  50.065 │ 149.359 │  25.232 │ 523.072 │ 142.354 │ 104.168 │\n",
      "│ 2022-12-23 │ 131.477 │   64.52 │  32.005 │  79.432 │  174.14 │  63.742 │ 314.177 │ 174.893 │ 128.421 │  62.855 │ 365.762 │  110.35 │ 237.614 │ 179.781 │  50.249 │ 149.781 │  26.226 │  527.26 │ 142.641 │ 106.922 │\n",
      "│ 2022-12-27 │ 129.652 │   63.27 │  32.065 │   79.93 │ 176.329 │  64.561 │ 314.985 │ 174.844 │ 128.871 │   63.24 │  362.76 │ 110.607 │ 235.852 │  180.58 │   49.57 │ 151.086 │  26.375 │ 527.935 │ 142.681 │ 108.408 │\n",
      "│ 2022-12-28 │ 125.674 │   62.57 │  32.301 │  78.279 │ 173.728 │  63.883 │  311.22 │ 174.085 │ 129.575 │  62.609 │ 363.098 │ 109.581 │ 233.434 │ 179.278 │   49.25 │ 149.133 │  24.497 │ 524.422 │ 140.181 │ 106.627 │\n",
      "└────────────┴─────────┴─────────┴─────────┴─────────┴─────────┴─────────┴─────────┴─────────┴─────────┴─────────┴─────────┴─────────┴─────────┴─────────┴─────────┴─────────┴─────────┴─────────┴─────────┴─────────┘\n"
     ]
    },
    {
     "output_type": "execute_result",
     "data": {
      "text/plain": "ReturnsResult\n    nx | 20-element Vector{String}\n     X | 252×20 Matrix{Float64}\n    nf | nothing\n     F | nothing\n    ts | 252-element Vector{Dates.Date}\n    iv | nothing\n  ivpa | nothing\n"
     },
     "metadata": {},
     "execution_count": 2
    }
   ],
   "cell_type": "code",
   "source": [
    "using CSV, TimeSeries, DataFrames\n",
    "\n",
    "X = TimeArray(CSV.File(joinpath(@__DIR__, \"SP500.csv.gz\")); timestamp = :Date)[(end - 252):end]\n",
    "pretty_table(X[(end - 5):end]; formatters = tsfmt)\n",
    "\n",
    "# Compute the returns\n",
    "rd = prices_to_returns(X)"
   ],
   "metadata": {},
   "execution_count": 2
  },
  {
   "cell_type": "markdown",
   "source": [
    "## 2. Preparatory steps\n",
    "\n",
    "We'll provide a vector of continuous solvers because the optimisation type we'll be using is more complex, and will contain various constraints. We will also use a more exotic risk measure.\n",
    "\n",
    "For the mixed integer solvers, we can use a single one."
   ],
   "metadata": {}
  },
  {
   "outputs": [],
   "cell_type": "code",
   "source": [
    "using Clarabel, HiGHS\n",
    "slv = [Solver(; name = :clarabel1, solver = Clarabel.Optimizer,\n",
    "              settings = Dict(\"verbose\" => false),\n",
    "              check_sol = (; allow_local = true, allow_almost = true)),\n",
    "       Solver(; name = :clarabel3, solver = Clarabel.Optimizer,\n",
    "              settings = Dict(\"verbose\" => false, \"max_step_fraction\" => 0.9),\n",
    "              check_sol = (; allow_local = true, allow_almost = true)),\n",
    "       Solver(; name = :clarabel5, solver = Clarabel.Optimizer,\n",
    "              settings = Dict(\"verbose\" => false, \"max_step_fraction\" => 0.8),\n",
    "              check_sol = (; allow_local = true, allow_almost = true)),\n",
    "       Solver(; name = :clarabel7, solver = Clarabel.Optimizer,\n",
    "              settings = Dict(\"verbose\" => false, \"max_step_fraction\" => 0.70),\n",
    "              check_sol = (; allow_local = true, allow_almost = true))];\n",
    "mip_slv = Solver(; name = :highs1, solver = HiGHS.Optimizer,\n",
    "                 settings = Dict(\"log_to_console\" => false),\n",
    "                 check_sol = (; allow_local = true, allow_almost = true));"
   ],
   "metadata": {},
   "execution_count": 3
  },
  {
   "cell_type": "markdown",
   "source": [
    "This time we will use the `EntropicValueatRisk` measure and we will once again precompute prior."
   ],
   "metadata": {}
  },
  {
   "outputs": [
    {
     "output_type": "execute_result",
     "data": {
      "text/plain": "LowOrderPrior\n        X | 252×20 Matrix{Float64}\n       mu | 20-element Vector{Float64}\n    sigma | 20×20 Matrix{Float64}\n     chol | nothing\n        w | nothing\n      ens | nothing\n      kld | nothing\n       ow | nothing\n       rr | nothing\n     f_mu | nothing\n  f_sigma | nothing\n      f_w | nothing\n"
     },
     "metadata": {},
     "execution_count": 4
    }
   ],
   "cell_type": "code",
   "source": [
    "r = EntropicValueatRisk()\n",
    "pr = prior(EmpiricalPrior(), rd)"
   ],
   "metadata": {},
   "execution_count": 4
  },
  {
   "cell_type": "markdown",
   "source": [
    "## 3. Exact budget constraints\n",
    "\n",
    "The `budget` is the value of the sum of a portfolio's weights.\n",
    "\n",
    "Here we will showcase various budget constraints. We will start simple, with a strict budget constraint. We will also show the impact this has on the finite allocation.\n",
    "\n",
    "### 3.1 Strict budget constraints\n",
    "\n",
    "#### 3.1.1 Fully invested long-only portfolio\n",
    "\n",
    "First the default case, where the budget is equal to 1, `bgt = 1`. This means the portfolio will be fully invested."
   ],
   "metadata": {}
  },
  {
   "outputs": [
    {
     "output_type": "execute_result",
     "data": {
      "text/plain": "MeanRisk\n       opt | JuMPOptimiser\n           |       pe | LowOrderPrior\n           |          |         X | 252×20 Matrix{Float64}\n           |          |        mu | 20-element Vector{Float64}\n           |          |     sigma | 20×20 Matrix{Float64}\n           |          |      chol | nothing\n           |          |         w | nothing\n           |          |       ens | nothing\n           |          |       kld | nothing\n           |          |        ow | nothing\n           |          |        rr | nothing\n           |          |      f_mu | nothing\n           |          |   f_sigma | nothing\n           |          |       f_w | nothing\n           |      slv | Vector{Solver{Symbol, UnionAll, T3, @NamedTuple{allow_local::Bool, allow_almost::Bool}, Bool} where T3}: Solver{Symbol, UnionAll, T3, @NamedTuple{allow_local::Bool, allow_almost::Bool}, Bool} where T3[Solver\n           |          name | Symbol: :clarabel1\n           |        solver | UnionAll: Clarabel.MOIwrapper.Optimizer\n           |      settings | Dict{String, Bool}: Dict{String, Bool}(\"verbose\" => 0)\n           |     check_sol | @NamedTuple{allow_local::Bool, allow_almost::Bool}: (allow_local = true, allow_almost = true)\n           |   add_bridges | Bool: true\n           | , Solver\n           |          name | Symbol: :clarabel3\n           |        solver | UnionAll: Clarabel.MOIwrapper.Optimizer\n           |      settings | Dict{String, Real}: Dict{String, Real}(\"verbose\" => false, \"max_step_fraction\" => 0.9)\n           |     check_sol | @NamedTuple{allow_local::Bool, allow_almost::Bool}: (allow_local = true, allow_almost = true)\n           |   add_bridges | Bool: true\n           | , Solver\n           |          name | Symbol: :clarabel5\n           |        solver | UnionAll: Clarabel.MOIwrapper.Optimizer\n           |      settings | Dict{String, Real}: Dict{String, Real}(\"verbose\" => false, \"max_step_fraction\" => 0.8)\n           |     check_sol | @NamedTuple{allow_local::Bool, allow_almost::Bool}: (allow_local = true, allow_almost = true)\n           |   add_bridges | Bool: true\n           | , Solver\n           |          name | Symbol: :clarabel7\n           |        solver | UnionAll: Clarabel.MOIwrapper.Optimizer\n           |      settings | Dict{String, Real}: Dict{String, Real}(\"verbose\" => false, \"max_step_fraction\" => 0.7)\n           |     check_sol | @NamedTuple{allow_local::Bool, allow_almost::Bool}: (allow_local = true, allow_almost = true)\n           |   add_bridges | Bool: true\n           | ]\n           |       wb | WeightBounds\n           |          |   lb | Float64: 0.0\n           |          |   ub | Float64: 1.0\n           |      bgt | Float64: 1.0\n           |     sbgt | nothing\n           |       lt | nothing\n           |       st | nothing\n           |      lcs | nothing\n           |     cent | nothing\n           |    gcard | nothing\n           |   sgcard | nothing\n           |     smtx | nothing\n           |    sgmtx | nothing\n           |      slt | nothing\n           |      sst | nothing\n           |     sglt | nothing\n           |     sgst | nothing\n           |     sets | nothing\n           |      plg | nothing\n           |       tn | nothing\n           |       te | nothing\n           |     fees | nothing\n           |      ret | ArithmeticReturn\n           |          |   ucs | nothing\n           |          |    lb | nothing\n           |      sce | SumScalariser: SumScalariser()\n           |     ccnt | nothing\n           |     cobj | nothing\n           |       sc | Int64: 1\n           |       so | Int64: 1\n           |     card | nothing\n           |    scard | nothing\n           |      nea | nothing\n           |       l1 | nothing\n           |       l2 | nothing\n           |       ss | nothing\n           |   strict | Bool: false\n         r | EntropicValueatRisk\n           |   settings | RiskMeasureSettings\n           |            |   scale | Float64: 1.0\n           |            |      ub | nothing\n           |            |     rke | Bool: true\n           |        slv | nothing\n           |      alpha | Float64: 0.05\n           |          w | nothing\n       obj | MinimumRisk()\n        wi | nothing\n  fallback | nothing\n"
     },
     "metadata": {},
     "execution_count": 5
    }
   ],
   "cell_type": "code",
   "source": [
    "opt1 = JuMPOptimiser(; pe = pr, slv = slv)\n",
    "mr1 = MeanRisk(; r = r, opt = opt1)"
   ],
   "metadata": {},
   "execution_count": 5
  },
  {
   "cell_type": "markdown",
   "source": [
    "You can see that `wb` is of type `WeightBounds`, `lb = 0.0` (asset weights lower bound), and `ub = 1.0` (asset weights upper bound), and `bgt = 1.0` (budget).\n",
    "\n",
    "We can check that the constraints were satisfied."
   ],
   "metadata": {}
  },
  {
   "outputs": [
    {
     "name": "stdout",
     "output_type": "stream",
     "text": [
      "budget: 0.9999999998112571\n",
      "long budget: 0.9999999998112571\n",
      "short budget: 0.0\n",
      "weight bounds: true\n"
     ]
    }
   ],
   "cell_type": "code",
   "source": [
    "res1 = optimise(mr1)\n",
    "println(\"budget: $(sum(res1.w))\")\n",
    "println(\"long budget: $(sum(res1.w[res1.w .>= zero(eltype(res1.w))]))\")\n",
    "println(\"short budget: $(sum(res1.w[res1.w .< zero(eltype(res1.w))]))\")\n",
    "println(\"weight bounds: $(all(x -> zero(x) <= x <= one(x), res1.w))\")"
   ],
   "metadata": {},
   "execution_count": 6
  },
  {
   "cell_type": "markdown",
   "source": [
    "Now let's allocate a finite amount of capital, `4206.9`, to this portfolio."
   ],
   "metadata": {}
  },
  {
   "outputs": [
    {
     "name": "stdout",
     "output_type": "stream",
     "text": [
      "┌────────┬─────────┬─────────┬─────────────┬─────────────┐\n",
      "│ assets │  shares │    cost │ opt_weights │ mip_weights │\n",
      "│ String │ Float64 │ Float64 │     Float64 │     Float64 │\n",
      "├────────┼─────────┼─────────┼─────────────┼─────────────┤\n",
      "│   AAPL │     0.0 │     0.0 │       0.0 % │       0.0 % │\n",
      "│    AMD │     0.0 │     0.0 │       0.0 % │       0.0 % │\n",
      "│    BAC │     1.0 │  32.301 │       0.0 % │     0.768 % │\n",
      "│    BBY │     0.0 │     0.0 │       0.0 % │       0.0 % │\n",
      "│    CVX │     5.0 │  868.64 │    21.386 % │    20.655 % │\n",
      "│     GE │     0.0 │     0.0 │       0.0 % │       0.0 % │\n",
      "│     HD │     0.0 │     0.0 │       0.0 % │       0.0 % │\n",
      "│    JNJ │    13.0 │ 2263.11 │    55.414 % │    53.815 % │\n",
      "│    JPM │     0.0 │     0.0 │       0.0 % │       0.0 % │\n",
      "│     KO │     0.0 │     0.0 │       0.0 % │       0.0 % │\n",
      "│    LLY │     0.0 │     0.0 │       0.0 % │       0.0 % │\n",
      "│    MRK │     8.0 │ 876.648 │    21.207 % │    20.846 % │\n",
      "│   MSFT │     0.0 │     0.0 │       0.0 % │       0.0 % │\n",
      "│    PEP │     0.0 │     0.0 │       0.0 % │       0.0 % │\n",
      "│    PFE │     0.0 │     0.0 │       0.0 % │       0.0 % │\n",
      "│     PG │     0.0 │     0.0 │       0.0 % │       0.0 % │\n",
      "│    RRC │     1.0 │  24.497 │       0.0 % │     0.583 % │\n",
      "│    UNH │     0.0 │     0.0 │       0.0 % │       0.0 % │\n",
      "│    WMT │     1.0 │ 140.181 │     1.993 % │     3.333 % │\n",
      "│    XOM │     0.0 │     0.0 │       0.0 % │       0.0 % │\n",
      "└────────┴─────────┴─────────┴─────────────┴─────────────┘\n",
      "long cost + short cost = cost: 4205.372\n",
      "long cost: 4205.372\n",
      "short cost: 0.0\n",
      "remaining cash: 1.527999205976414\n",
      "used cash ≈ available cash: true\n"
     ]
    }
   ],
   "cell_type": "code",
   "source": [
    "da = DiscreteAllocation(; slv = mip_slv)\n",
    "mip_res1 = optimise(da, res1.w, vec(values(X[end])), 4206.9)\n",
    "pretty_table(DataFrame(:assets => rd.nx, :shares => mip_res1.shares, :cost => mip_res1.cost,\n",
    "                       :opt_weights => res1.w, :mip_weights => mip_res1.w);\n",
    "             formatters = mipresfmt)\n",
    "println(\"long cost + short cost = cost: $(sum(mip_res1.cost))\")\n",
    "println(\"long cost: $(sum(mip_res1.cost[mip_res1.cost .>= zero(eltype(mip_res1.cost))]))\")\n",
    "println(\"short cost: $(sum(mip_res1.cost[mip_res1.cost .< zero(eltype(mip_res1.cost))]))\")\n",
    "println(\"remaining cash: $(mip_res1.cash)\")\n",
    "println(\"used cash ≈ available cash: $(isapprox(sum(mip_res1.cost) + mip_res1.cash, 4206.9 * sum(res1.w)))\")"
   ],
   "metadata": {},
   "execution_count": 7
  },
  {
   "cell_type": "markdown",
   "source": [
    "#### 3.1.2 Maximum risk-return ratio market neutral portfolio\n",
    "\n",
    "We will now create a maximum risk-return ratio market neutral portfolio. For a market neutral portfolio, the weights must sum to zero, which means the budget is zero. This means the long and short budgets must be equal in magnitude but opposite sign. In order to avoid all zero weights, we need to set a non-zero short budget, and negative lower weight bounds.\n",
    "\n",
    "The short budget is given as an absolute value (simplifies implementation details). The weight bounds can be negative. We will set the maximum weight bounds to `±1`, the short budget to `1` (-1 in practice), and the portfolio budget to `0`, therefore the long budget is `1`.\n",
    "\n",
    "Minimising the risk under without additional constraints often yields all zeros. So we will maximise the risk-return ratio."
   ],
   "metadata": {}
  },
  {
   "outputs": [
    {
     "name": "stdout",
     "output_type": "stream",
     "text": [
      "budget: -1.9183602189415394e-17\n",
      "long budget: 0.9999936065190965\n",
      "short budget: -0.9999936065190963\n",
      "weight bounds: true\n"
     ]
    }
   ],
   "cell_type": "code",
   "source": [
    "rf = 4.2 / 100 / 252\n",
    "opt2 = JuMPOptimiser(; pe = pr, slv = slv,\n",
    "                     # Budget and short budget absolute values.\n",
    "                     bgt = 0, sbgt = 1,\n",
    "                     # Weight bounds.\n",
    "                     wb = WeightBounds(; lb = -1.0, ub = 1.0))\n",
    "mr2 = MeanRisk(; r = r, obj = MaximumRatio(; rf = rf), opt = opt2)\n",
    "res2 = optimise(mr2)\n",
    "println(\"budget: $(sum(res2.w))\")\n",
    "println(\"long budget: $(sum(res2.w[res2.w .>= zero(eltype(res2.w))]))\")\n",
    "println(\"short budget: $(sum(res2.w[res2.w .< zero(eltype(res2.w))]))\")\n",
    "println(\"weight bounds: $(all(x -> -one(x) <= x <= one(x), res2.w))\")"
   ],
   "metadata": {},
   "execution_count": 8
  },
  {
   "cell_type": "markdown",
   "source": [
    "Let's allocate a finite amount of capital. Since we set the long and short budgets equal to 1, the cost of the long and short positions will be approximately equal to the allocated value of `4206.9`, and the sum of the costs will be close to zero. The discrepancies are due to the fact that we are allocating a finite amount of capital.\n",
    "\n",
    "The discrete allocation procedure automatically adjusts the cash amount depending on the optimal long and short weights, so there is no need to split the cash amount into long and short allocations."
   ],
   "metadata": {}
  },
  {
   "outputs": [
    {
     "name": "stdout",
     "output_type": "stream",
     "text": [
      "┌────────┬─────────┬──────────┬─────────────┬─────────────┐\n",
      "│ assets │  shares │     cost │ opt_weights │ mip_weights │\n",
      "│ String │ Float64 │  Float64 │     Float64 │     Float64 │\n",
      "├────────┼─────────┼──────────┼─────────────┼─────────────┤\n",
      "│   AAPL │    -1.0 │ -125.674 │    -2.526 % │    -2.999 % │\n",
      "│    AMD │    -2.0 │  -125.14 │    -3.226 % │    -2.986 % │\n",
      "│    BAC │   -21.0 │ -678.321 │   -16.732 % │   -16.188 % │\n",
      "│    BBY │     1.0 │   78.279 │     0.837 % │     1.857 % │\n",
      "│    CVX │     0.0 │      0.0 │     0.001 % │       0.0 % │\n",
      "│     GE │     6.0 │  383.298 │     8.532 % │     9.093 % │\n",
      "│     HD │     0.0 │     -0.0 │    -3.235 % │      -0.0 % │\n",
      "│    JNJ │    -4.0 │  -696.34 │   -17.975 % │   -16.618 % │\n",
      "│    JPM │     3.0 │  388.725 │     8.859 % │     9.222 % │\n",
      "│     KO │    23.0 │  1440.01 │    33.949 % │    34.163 % │\n",
      "│    LLY │     0.0 │      0.0 │     3.536 % │       0.0 % │\n",
      "│    MRK │    16.0 │   1753.3 │    39.716 % │    41.595 % │\n",
      "│   MSFT │    -1.0 │ -233.434 │    -7.632 % │    -5.571 % │\n",
      "│    PEP │    -6.0 │ -1075.67 │    -26.22 % │   -25.671 % │\n",
      "│    PFE │   -12.0 │   -591.0 │   -13.952 % │   -14.104 % │\n",
      "│     PG │     0.0 │     -0.0 │      -0.0 % │      -0.0 % │\n",
      "│    RRC │     7.0 │  171.479 │     4.572 % │     4.068 % │\n",
      "│    UNH │    -1.0 │ -524.422 │    -7.253 % │   -12.515 % │\n",
      "│    WMT │    -1.0 │ -140.181 │    -1.248 % │    -3.345 % │\n",
      "│    XOM │     0.0 │      0.0 │       0.0 % │       0.0 % │\n",
      "└────────┴─────────┴──────────┴─────────────┴─────────────┘\n",
      "long cost + short cost = cost: 24.904000000000252\n",
      "long cost: 4215.084000000001\n",
      "short cost: -4190.179999999999\n",
      "remaining cash: 8.48220653036475\n",
      "used cash ≈ available cash: true\n"
     ]
    }
   ],
   "cell_type": "code",
   "source": [
    "mip_res2 = optimise(da, res2.w, vec(values(X[end])), 4206.9)\n",
    "pretty_table(DataFrame(:assets => rd.nx, :shares => mip_res2.shares, :cost => mip_res2.cost,\n",
    "                       :opt_weights => res2.w, :mip_weights => mip_res2.w);\n",
    "             formatters = mipresfmt)\n",
    "println(\"long cost + short cost = cost: $(sum(mip_res2.cost))\")\n",
    "println(\"long cost: $(sum(mip_res2.cost[mip_res2.cost .>= zero(eltype(mip_res2.cost))]))\")\n",
    "println(\"short cost: $(sum(mip_res2.cost[mip_res2.cost .< zero(eltype(mip_res2.cost))]))\")\n",
    "println(\"remaining cash: $(mip_res2.cash)\")\n",
    "println(\"used cash ≈ available cash: $(isapprox(sum(abs.(mip_res2.cost)) + mip_res2.cash, 4206.9 * sum(abs.(res2.w))))\")"
   ],
   "metadata": {},
   "execution_count": 9
  },
  {
   "cell_type": "markdown",
   "source": [
    "#### 3.1.3 Short-only portfolio\n",
    "\n",
    "We will now create and discretely allocate a short-only portfolio. This is in general an anti-pattern but one can use various combinations of budget, weight bounds and short budget constraints to create hedging portfolios."
   ],
   "metadata": {}
  },
  {
   "outputs": [
    {
     "name": "stdout",
     "output_type": "stream",
     "text": [
      "budget: -0.9999999995925856\n",
      "long budget: 0.0\n",
      "short budget: -0.9999999995925856\n",
      "weight bounds: true\n"
     ]
    }
   ],
   "cell_type": "code",
   "source": [
    "opt3 = JuMPOptimiser(; pe = pr, slv = slv,\n",
    "                     # Budget and short budget absolute values.\n",
    "                     bgt = -1, sbgt = 1,\n",
    "                     # Weight bounds.\n",
    "                     wb = WeightBounds(; lb = -1.0, ub = 0.0))\n",
    "mr3 = MeanRisk(; r = r, obj = MinimumRisk(), opt = opt3)\n",
    "res3 = optimise(mr3)\n",
    "println(\"budget: $(sum(res3.w))\")\n",
    "println(\"long budget: $(sum(res3.w[res3.w .>= zero(eltype(res3.w))]))\")\n",
    "println(\"short budget: $(sum(res3.w[res3.w .< zero(eltype(res3.w))]))\")\n",
    "println(\"weight bounds: $(all(x -> -one(x) <= x <= zero(x), res3.w))\")"
   ],
   "metadata": {},
   "execution_count": 10
  },
  {
   "cell_type": "markdown",
   "source": [
    "We can confirm that the finite allocation behaves as expected."
   ],
   "metadata": {}
  },
  {
   "outputs": [
    {
     "name": "stdout",
     "output_type": "stream",
     "text": [
      "┌────────┬─────────┬──────────┬─────────────┬─────────────┐\n",
      "│ assets │  shares │     cost │ opt_weights │ mip_weights │\n",
      "│ String │ Float64 │  Float64 │     Float64 │     Float64 │\n",
      "├────────┼─────────┼──────────┼─────────────┼─────────────┤\n",
      "│   AAPL │     0.0 │     -0.0 │      -0.0 % │      -0.0 % │\n",
      "│    AMD │     0.0 │     -0.0 │      -0.0 % │      -0.0 % │\n",
      "│    BAC │    -1.0 │  -32.301 │      -0.0 % │    -0.768 % │\n",
      "│    BBY │     0.0 │     -0.0 │      -0.0 % │      -0.0 % │\n",
      "│    CVX │     0.0 │     -0.0 │      -0.0 % │      -0.0 % │\n",
      "│     GE │    -3.0 │ -191.649 │    -4.403 % │    -4.558 % │\n",
      "│     HD │    -1.0 │  -311.22 │    -5.068 % │    -7.401 % │\n",
      "│    JNJ │    -2.0 │  -348.17 │     -9.44 % │     -8.28 % │\n",
      "│    JPM │     0.0 │     -0.0 │      -0.0 % │      -0.0 % │\n",
      "│     KO │     0.0 │     -0.0 │      -0.0 % │      -0.0 % │\n",
      "│    LLY │     0.0 │     -0.0 │    -4.644 % │      -0.0 % │\n",
      "│    MRK │    -1.0 │ -109.581 │    -3.636 % │    -2.606 % │\n",
      "│   MSFT │     0.0 │     -0.0 │      -0.0 % │      -0.0 % │\n",
      "│    PEP │    -8.0 │ -1434.22 │   -31.891 % │   -34.108 % │\n",
      "│    PFE │    -7.0 │  -344.75 │    -7.612 % │    -8.199 % │\n",
      "│     PG │     0.0 │     -0.0 │      -0.0 % │      -0.0 % │\n",
      "│    RRC │    -7.0 │ -171.479 │    -3.988 % │    -4.078 % │\n",
      "│    UNH │     0.0 │     -0.0 │      -0.0 % │      -0.0 % │\n",
      "│    WMT │    -9.0 │ -1261.63 │   -29.316 % │   -30.003 % │\n",
      "│    XOM │     0.0 │     -0.0 │      -0.0 % │      -0.0 % │\n",
      "└────────┴─────────┴──────────┴─────────────┴─────────────┘\n",
      "long cost + short cost = cost: -4205.003000000001\n",
      "long cost: -0.0\n",
      "short cost: -4205.003\n",
      "remaining cash: 1.896998286047392\n",
      "used cash ≈ available cash: true\n"
     ]
    }
   ],
   "cell_type": "code",
   "source": [
    "mip_res3 = optimise(da, res3.w, vec(values(X[end])), 4206.9)\n",
    "pretty_table(DataFrame(:assets => rd.nx, :shares => mip_res3.shares, :cost => mip_res3.cost,\n",
    "                       :opt_weights => res3.w, :mip_weights => mip_res3.w);\n",
    "             formatters = mipresfmt)\n",
    "println(\"long cost + short cost = cost: $(sum(mip_res3.cost))\")\n",
    "println(\"long cost: $(sum(mip_res3.cost[mip_res3.cost .>= zero(eltype(mip_res3.cost))]))\")\n",
    "println(\"short cost: $(sum(mip_res3.cost[mip_res3.cost .< zero(eltype(mip_res3.cost))]))\")\n",
    "println(\"remaining cash: $(mip_res3.cash)\")\n",
    "println(\"used cash ≈ available cash: $(isapprox(sum(mip_res3.cost) - mip_res3.cash, 4206.9 * sum(res3.w)))\")"
   ],
   "metadata": {},
   "execution_count": 11
  },
  {
   "cell_type": "markdown",
   "source": [
    "#### 3.1.4 Leveraged portfolios\n",
    "\n",
    "Let's try a leveraged long-only portfolio."
   ],
   "metadata": {}
  },
  {
   "outputs": [
    {
     "name": "stdout",
     "output_type": "stream",
     "text": [
      "budget: 1.299999999782889\n",
      "long budget: 1.299999999782889\n",
      "short budget: 0.0\n",
      "weight bounds: true\n"
     ]
    }
   ],
   "cell_type": "code",
   "source": [
    "opt4 = JuMPOptimiser(; pe = pr, slv = slv, bgt = 1.3)\n",
    "mr4 = MeanRisk(; r = r, opt = opt4)\n",
    "res4 = optimise(mr4)\n",
    "println(\"budget: $(sum(res4.w))\")\n",
    "println(\"long budget: $(sum(res4.w[res4.w .>= zero(eltype(res4.w))]))\")\n",
    "println(\"short budget: $(sum(res4.w[res4.w .< zero(eltype(res4.w))]))\")\n",
    "println(\"weight bounds: $(all(x -> zero(x) <= x <= one(x), res4.w))\")"
   ],
   "metadata": {},
   "execution_count": 12
  },
  {
   "cell_type": "markdown",
   "source": [
    "Again, the finite allocation respects the budget constraints."
   ],
   "metadata": {}
  },
  {
   "outputs": [
    {
     "name": "stdout",
     "output_type": "stream",
     "text": [
      "┌────────┬─────────┬─────────┬─────────────┬─────────────┐\n",
      "│ assets │  shares │    cost │ opt_weights │ mip_weights │\n",
      "│ String │ Float64 │ Float64 │     Float64 │     Float64 │\n",
      "├────────┼─────────┼─────────┼─────────────┼─────────────┤\n",
      "│   AAPL │     0.0 │     0.0 │       0.0 % │       0.0 % │\n",
      "│    AMD │     0.0 │     0.0 │       0.0 % │       0.0 % │\n",
      "│    BAC │     0.0 │     0.0 │       0.0 % │       0.0 % │\n",
      "│    BBY │     0.0 │     0.0 │       0.0 % │       0.0 % │\n",
      "│    CVX │     5.0 │  868.64 │    27.802 % │    20.661 % │\n",
      "│     GE │     0.0 │     0.0 │       0.0 % │       0.0 % │\n",
      "│     HD │     0.0 │     0.0 │       0.0 % │       0.0 % │\n",
      "│    JNJ │    22.0 │ 3829.87 │    72.034 % │    91.094 % │\n",
      "│    JPM │     0.0 │     0.0 │       0.0 % │       0.0 % │\n",
      "│     KO │     0.0 │     0.0 │       0.0 % │       0.0 % │\n",
      "│    LLY │     0.0 │     0.0 │       0.0 % │       0.0 % │\n",
      "│    MRK │     7.0 │ 767.067 │    27.572 % │    18.245 % │\n",
      "│   MSFT │     0.0 │     0.0 │       0.0 % │       0.0 % │\n",
      "│    PEP │     0.0 │     0.0 │       0.0 % │       0.0 % │\n",
      "│    PFE │     0.0 │     0.0 │       0.0 % │       0.0 % │\n",
      "│     PG │     0.0 │     0.0 │       0.0 % │       0.0 % │\n",
      "│    RRC │     0.0 │     0.0 │       0.0 % │       0.0 % │\n",
      "│    UNH │     0.0 │     0.0 │       0.0 % │       0.0 % │\n",
      "│    WMT │     0.0 │     0.0 │     2.592 % │       0.0 % │\n",
      "│    XOM │     0.0 │     0.0 │       0.0 % │       0.0 % │\n",
      "└────────┴─────────┴─────────┴─────────────┴─────────────┘\n",
      "long cost + short cost = cost: 5465.577\n",
      "long cost: 5465.577\n",
      "short cost: 0.0\n",
      "remaining cash: 3.3929990866349726\n",
      "used cash ≈ available cash: true\n"
     ]
    }
   ],
   "cell_type": "code",
   "source": [
    "mip_res4 = optimise(da, res4.w, vec(values(X[end])), 4206.9)\n",
    "pretty_table(DataFrame(:assets => rd.nx, :shares => mip_res4.shares, :cost => mip_res4.cost,\n",
    "                       :opt_weights => res4.w, :mip_weights => mip_res4.w);\n",
    "             formatters = mipresfmt)\n",
    "println(\"long cost + short cost = cost: $(sum(mip_res4.cost))\")\n",
    "println(\"long cost: $(sum(mip_res4.cost[mip_res4.cost .>= zero(eltype(mip_res4.cost))]))\")\n",
    "println(\"short cost: $(sum(mip_res4.cost[mip_res4.cost .< zero(eltype(mip_res4.cost))]))\")\n",
    "println(\"remaining cash: $(mip_res4.cash)\")\n",
    "println(\"used cash ≈ available cash: $(isapprox(sum(mip_res4.cost) + mip_res4.cash, 4206.9 * sum(res4.w)))\")"
   ],
   "metadata": {},
   "execution_count": 13
  },
  {
   "cell_type": "markdown",
   "source": [
    "We will now optimise an underleveraged long-short portfolio.\n",
    "\n",
    "Note that the short budget is not satisfied, this is because it is implemented as an equality constraint on a relaxation variable stand-in for the short weights. However, the portfolio budget constraint is satisfied because it is an equality constraint on the actual weights.\n",
    "\n",
    "It is also possible to set budget bounds for the short and portfolio budgets. They are implemented in the same way as the equality constraints. We will explore them in the next section."
   ],
   "metadata": {}
  },
  {
   "outputs": [
    {
     "name": "stdout",
     "output_type": "stream",
     "text": [
      "budget: 0.4999999999565575\n",
      "long budget: 1.1431771537747015\n",
      "short budget: -0.6431771538181439\n",
      "weight bounds: true\n"
     ]
    }
   ],
   "cell_type": "code",
   "source": [
    "opt5 = JuMPOptimiser(; pe = pr, slv = slv,\n",
    "                     # Budget and short budget absolute values.\n",
    "                     bgt = 0.5, sbgt = 1,\n",
    "                     # Weight bounds.\n",
    "                     wb = WeightBounds(; lb = -1.0, ub = 1.0))\n",
    "mr5 = MeanRisk(; r = r, opt = opt5)\n",
    "res5 = optimise(mr5)\n",
    "println(\"budget: $(sum(res5.w))\")\n",
    "println(\"long budget: $(sum(res5.w[res5.w .>= zero(eltype(res5.w))]))\")\n",
    "println(\"short budget: $(sum(res5.w[res5.w .< zero(eltype(res5.w))]))\")\n",
    "println(\"weight bounds: $(all(x -> -one(x) <= x <= one(x), res5.w))\")"
   ],
   "metadata": {},
   "execution_count": 14
  },
  {
   "cell_type": "markdown",
   "source": [
    "For this portfolio, the sum of the long and short cost will be approximately equal to half the allocated value of `4206.9`. Any discrepancies are due to the fact we are allocating a finite amount."
   ],
   "metadata": {}
  },
  {
   "outputs": [
    {
     "name": "stdout",
     "output_type": "stream",
     "text": [
      "┌────────┬─────────┬──────────┬─────────────┬─────────────┐\n",
      "│ assets │  shares │     cost │ opt_weights │ mip_weights │\n",
      "│ String │ Float64 │  Float64 │     Float64 │     Float64 │\n",
      "├────────┼─────────┼──────────┼─────────────┼─────────────┤\n",
      "│   AAPL │    -3.0 │ -377.022 │    -5.861 % │    -8.419 % │\n",
      "│    AMD │     2.0 │   125.14 │     2.652 % │     2.771 % │\n",
      "│    BAC │   -15.0 │ -484.515 │   -16.678 % │   -10.819 % │\n",
      "│    BBY │     0.0 │      0.0 │     1.085 % │       0.0 % │\n",
      "│    CVX │     2.0 │  347.456 │     9.537 % │     7.695 % │\n",
      "│     GE │    -3.0 │ -191.649 │    -2.542 % │     -4.28 % │\n",
      "│     HD │    -1.0 │  -311.22 │    -4.712 % │     -6.95 % │\n",
      "│    JNJ │    12.0 │  2089.02 │    39.908 % │    46.262 % │\n",
      "│    JPM │     7.0 │  907.025 │    19.622 % │    20.086 % │\n",
      "│     KO │     8.0 │  500.872 │    10.332 % │    11.092 % │\n",
      "│    LLY │    -1.0 │ -363.098 │    -4.609 % │    -8.108 % │\n",
      "│    MRK │     4.0 │  438.324 │    10.104 % │     9.707 % │\n",
      "│   MSFT │     1.0 │  233.434 │      5.78 % │     5.169 % │\n",
      "│    PEP │    -4.0 │ -717.112 │    -20.16 % │   -16.013 % │\n",
      "│    PFE │    -6.0 │   -295.5 │    -9.128 % │    -6.599 % │\n",
      "│     PG │     3.0 │  447.399 │     9.067 % │     9.908 % │\n",
      "│    RRC │     3.0 │   73.491 │     1.789 % │     1.627 % │\n",
      "│    UNH │     0.0 │      0.0 │     4.271 % │       0.0 % │\n",
      "│    WMT │    -1.0 │ -140.181 │    -0.627 % │     -3.13 % │\n",
      "│    XOM │     0.0 │      0.0 │      0.17 % │       0.0 % │\n",
      "└────────┴─────────┴──────────┴─────────────┴─────────────┘\n",
      "long cost + short cost = cost: 2281.863999999999\n",
      "long cost: 5162.161\n",
      "short cost: -2880.297\n",
      "remaining cash: 8.462228890137894\n",
      "used cash ≈ available cash: true\n"
     ]
    }
   ],
   "cell_type": "code",
   "source": [
    "mip_res5 = optimise(da, res5.w, vec(values(X[end])), 4506.9)\n",
    "pretty_table(DataFrame(:assets => rd.nx, :shares => mip_res5.shares, :cost => mip_res5.cost,\n",
    "                       :opt_weights => res5.w, :mip_weights => mip_res5.w);\n",
    "             formatters = mipresfmt)\n",
    "println(\"long cost + short cost = cost: $(sum(mip_res5.cost))\")\n",
    "println(\"long cost: $(sum(mip_res5.cost[mip_res5.cost .>= zero(eltype(mip_res5.cost))]))\")\n",
    "println(\"short cost: $(sum(mip_res5.cost[mip_res5.cost .< zero(eltype(mip_res5.cost))]))\")\n",
    "println(\"remaining cash: $(mip_res5.cash)\")\n",
    "println(\"used cash ≈ available cash: $(isapprox(sum(abs.(mip_res5.cost)) + mip_res5.cash, 4506.9 * sum(abs.(res5.w))))\")"
   ],
   "metadata": {},
   "execution_count": 15
  },
  {
   "cell_type": "markdown",
   "source": [
    "# 4. Budget range\n",
    "\n",
    "The other type of budget constraint we will explore in this example is the budget range constraint, `BudgetRange`. It allows the user to define upper and lower bounds on the budget and short budget. When using a `BudgetRange`, it is necessary to provide at least one of the upper or lower bounds. If only one is provided, the other is assumed to be unbounded. If no budget bounds are desired, simply set `bgt` or `sbgt` to `nothing`.\n",
    "\n",
    "We mentioned at the start of this example that the interaction between budget and short budget constraints might be unintuitive due to how the constraints are implemented. The following example will illustrate this."
   ],
   "metadata": {}
  },
  {
   "outputs": [
    {
     "name": "stdout",
     "output_type": "stream",
     "text": [
      "budget: 0.3000000023451903\n",
      "long budget: 0.685901604730664\n",
      "short budget: -0.3859016023854737\n",
      "weight bounds: true\n"
     ]
    }
   ],
   "cell_type": "code",
   "source": [
    "opt6 = JuMPOptimiser(; pe = pr, slv = slv,\n",
    "                     # Budget range.\n",
    "                     bgt = BudgetRange(; lb = 0.3, ub = 0.8),\n",
    "                     # Exact short budget\n",
    "                     sbgt = 0.5,\n",
    "                     # Weight bounds.\n",
    "                     wb = WeightBounds(; lb = -1.0, ub = 1.0))\n",
    "mr6 = MeanRisk(; r = r, obj = MinimumRisk(), opt = opt6)\n",
    "res6 = optimise(mr6)\n",
    "println(\"budget: $(sum(res6.w))\")\n",
    "println(\"long budget: $(sum(res6.w[res6.w .>= zero(eltype(res6.w))]))\")\n",
    "println(\"short budget: $(sum(res6.w[res6.w .< zero(eltype(res6.w))]))\")\n",
    "println(\"weight bounds: $(all(x -> -one(x) <= x <= one(x), res6.w))\")"
   ],
   "metadata": {},
   "execution_count": 16
  },
  {
   "cell_type": "markdown",
   "source": [
    "As you can see, the budget and weight constraints are satisfied, but not the short budget constraint. This happens even if we do not provide a short budget. This is a reflection of the fact that the weight and budget constraints are constraints on the actual weights. While the short budget constraints are constraints on relaxation variables, whose value must be greater than or equal to the absolute value of the negative weights. This gives them a unbounded wiggle room without violating the constraints, and without directly constraining the short weights.\n",
    "\n",
    "In general, the short budget constraint will only constrain the portfolio weights when the unbounded optimal portfolio has a short budget whose absolute value is greater than or equal to the short budget constraint."
   ],
   "metadata": {}
  },
  {
   "outputs": [
    {
     "name": "stdout",
     "output_type": "stream",
     "text": [
      "budget: 0.30000000567343177\n",
      "long budget: 0.5999942909693272\n",
      "short budget: -0.2999942852958955\n",
      "weight bounds: true\n"
     ]
    }
   ],
   "cell_type": "code",
   "source": [
    "opt7 = JuMPOptimiser(; pe = pr, slv = slv,\n",
    "                     # Budget range.\n",
    "                     bgt = BudgetRange(; lb = 0.3, ub = 0.8),\n",
    "                     # Remove the slack from the short budget.\n",
    "                     sbgt = 0.3,\n",
    "                     # Weight bounds.\n",
    "                     wb = WeightBounds(; lb = -1.0, ub = 1.0))\n",
    "mr7 = MeanRisk(; r = r, obj = MinimumRisk(), opt = opt7)\n",
    "res7 = optimise(mr7)\n",
    "println(\"budget: $(sum(res7.w))\")\n",
    "println(\"long budget: $(sum(res7.w[res7.w .>= zero(eltype(res7.w))]))\")\n",
    "println(\"short budget: $(sum(res7.w[res7.w .< zero(eltype(res7.w))]))\")\n",
    "println(\"weight bounds: $(all(x -> -one(x) <= x <= one(x), res7.w))\")"
   ],
   "metadata": {},
   "execution_count": 17
  },
  {
   "cell_type": "markdown",
   "source": [
    "The previous example has an essentially unbounded short budget. If we constrain the absolute value of the short budget to be less than the unconstrained value, then the constraint has an effect on the portfolio weights."
   ],
   "metadata": {}
  },
  {
   "cell_type": "markdown",
   "source": [
    "---\n",
    "\n",
    "*This notebook was generated using [Literate.jl](https://github.com/fredrikekre/Literate.jl).*"
   ],
   "metadata": {}
  }
 ],
 "nbformat_minor": 3,
 "metadata": {
  "language_info": {
   "file_extension": ".jl",
   "mimetype": "application/julia",
   "name": "julia",
   "version": "1.12.0"
  },
  "kernelspec": {
   "name": "julia-1.12",
   "display_name": "Julia 1.12.0",
   "language": "julia"
  }
 },
 "nbformat": 4
}
