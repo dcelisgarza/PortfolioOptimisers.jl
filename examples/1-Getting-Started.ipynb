{
  "cells": [
    {
      "cell_type": "markdown",
      "metadata": {},
      "source": [
        "# Example 1: Simple `MeanRisk` optimisation\n",
        "\n",
        "Here we show a simple example of how to use `PortfolioOptimisers`. We will perform the classic Markowitz optimisation."
      ]
    },
    {
      "cell_type": "code",
      "execution_count": 1,
      "metadata": {},
      "outputs": [],
      "source": [
        "using PortfolioOptimisers"
      ]
    },
    {
      "cell_type": "markdown",
      "metadata": {},
      "source": [
        "PrettyTables is used to format the example output."
      ]
    },
    {
      "cell_type": "code",
      "execution_count": 2,
      "metadata": {},
      "outputs": [],
      "source": [
        "using PrettyTables\n",
        "\n",
        "# Format for pretty tables.\n",
        "tsfmt = (v, i, j) -> begin\n",
        "    if j == 1\n",
        "        return Date(v)\n",
        "    else\n",
        "        return v\n",
        "    end\n",
        "end;\n",
        "resfmt = (v, i, j) -> begin\n",
        "    if j == 1\n",
        "        return v\n",
        "    else\n",
        "        return isa(v, Number) ? \"$(round(v*100, digits=3)) %\" : v\n",
        "    end\n",
        "end;\n",
        "mipresfmt = (v, i, j) -> begin\n",
        "    if j \u2208 (1, 2, 3)\n",
        "        return v\n",
        "    else\n",
        "        return isa(v, Number) ? \"$(round(v*100, digits=3)) %\" : v\n",
        "    end\n",
        "end;"
      ]
    },
    {
      "cell_type": "markdown",
      "metadata": {},
      "source": [
        "## 1. Load the data\n",
        "\n",
        "Import the S&P500 data from a compressed `.csv` file. We will only use the last 253 observations."
      ]
    },
    {
      "cell_type": "code",
      "execution_count": 3,
      "metadata": {},
      "outputs": [
        {
          "name": "stdout",
          "output_type": "stream",
          "text": [
            "\u250c\u2500\u2500\u2500\u2500\u2500\u2500\u2500\u2500\u2500\u2500\u2500\u2500\u252c\u2500\u2500\u2500\u2500\u2500\u2500\u2500\u2500\u2500\u252c\u2500\u2500\u2500\u2500\u2500\u2500\u2500\u2500\u2500\u252c\u2500\u2500\u2500\u2500\u2500\u2500\u2500\u2500\u2500\u252c\u2500\u2500\u2500\u2500\u2500\u2500\u2500\u2500\u2500\u252c\u2500\u2500\u2500\u2500\u2500\u2500\u2500\u2500\u2500\u252c\u2500\u2500\u2500\u2500\u2500\u2500\u2500\u2500\u2500\u252c\u2500\u2500\u2500\u2500\u2500\u2500\u2500\u2500\u2500\u252c\u2500\u2500\u2500\u2500\u2500\u2500\u2500\u2500\u2500\u252c\u2500\u2500\u2500\u2500\u2500\u2500\u2500\u2500\u2500\u252c\u2500\u2500\u2500\u2500\u2500\u2500\u2500\u2500\u2500\u252c\u2500\u2500\u2500\u2500\u2500\u2500\u2500\u2500\u2500\u252c\u2500\u2500\u2500\u2500\u2500\u2500\u2500\u2500\u2500\u252c\u2500\u2500\u2500\u2500\u2500\u2500\u2500\u2500\u2500\u252c\u2500\u2500\u2500\u2500\u2500\u2500\u2500\u2500\u2500\u252c\u2500\u2500\u2500\u2500\u2500\u2500\u2500\u2500\u2500\u252c\u2500\u2500\u2500\u2500\u2500\u2500\u2500\u2500\u2500\u252c\u2500\u2500\u2500\u2500\u2500\u2500\u2500\u2500\u2500\u252c\u2500\u2500\u2500\u2500\u2500\u2500\u2500\u2500\u2500\u252c\u2500\u2500\u2500\u2500\u2500\u2500\u2500\u2500\u2500\u252c\u2500\u2500\u2500\u2500\u2500\u2500\u2500\u2500\u2500\u2510\n",
            "\u2502  timestamp \u2502    AAPL \u2502     AMD \u2502     BAC \u2502     BBY \u2502     CVX \u2502      GE \u2502      HD \u2502     JNJ \u2502     JPM \u2502      KO \u2502     LLY \u2502     MRK \u2502    MSFT \u2502     PEP \u2502     PFE \u2502      PG \u2502     RRC \u2502     UNH \u2502     WMT \u2502     XOM \u2502\n",
            "\u2502 Dates.Date \u2502 Float64 \u2502 Float64 \u2502 Float64 \u2502 Float64 \u2502 Float64 \u2502 Float64 \u2502 Float64 \u2502 Float64 \u2502 Float64 \u2502 Float64 \u2502 Float64 \u2502 Float64 \u2502 Float64 \u2502 Float64 \u2502 Float64 \u2502 Float64 \u2502 Float64 \u2502 Float64 \u2502 Float64 \u2502 Float64 \u2502\n",
            "\u251c\u2500\u2500\u2500\u2500\u2500\u2500\u2500\u2500\u2500\u2500\u2500\u2500\u253c\u2500\u2500\u2500\u2500\u2500\u2500\u2500\u2500\u2500\u253c\u2500\u2500\u2500\u2500\u2500\u2500\u2500\u2500\u2500\u253c\u2500\u2500\u2500\u2500\u2500\u2500\u2500\u2500\u2500\u253c\u2500\u2500\u2500\u2500\u2500\u2500\u2500\u2500\u2500\u253c\u2500\u2500\u2500\u2500\u2500\u2500\u2500\u2500\u2500\u253c\u2500\u2500\u2500\u2500\u2500\u2500\u2500\u2500\u2500\u253c\u2500\u2500\u2500\u2500\u2500\u2500\u2500\u2500\u2500\u253c\u2500\u2500\u2500\u2500\u2500\u2500\u2500\u2500\u2500\u253c\u2500\u2500\u2500\u2500\u2500\u2500\u2500\u2500\u2500\u253c\u2500\u2500\u2500\u2500\u2500\u2500\u2500\u2500\u2500\u253c\u2500\u2500\u2500\u2500\u2500\u2500\u2500\u2500\u2500\u253c\u2500\u2500\u2500\u2500\u2500\u2500\u2500\u2500\u2500\u253c\u2500\u2500\u2500\u2500\u2500\u2500\u2500\u2500\u2500\u253c\u2500\u2500\u2500\u2500\u2500\u2500\u2500\u2500\u2500\u253c\u2500\u2500\u2500\u2500\u2500\u2500\u2500\u2500\u2500\u253c\u2500\u2500\u2500\u2500\u2500\u2500\u2500\u2500\u2500\u253c\u2500\u2500\u2500\u2500\u2500\u2500\u2500\u2500\u2500\u253c\u2500\u2500\u2500\u2500\u2500\u2500\u2500\u2500\u2500\u253c\u2500\u2500\u2500\u2500\u2500\u2500\u2500\u2500\u2500\u253c\u2500\u2500\u2500\u2500\u2500\u2500\u2500\u2500\u2500\u2524\n",
            "\u2502 2022-12-20 \u2502 131.916 \u2502   65.05 \u2502  31.729 \u2502  77.371 \u2502 169.497 \u2502  62.604 \u2502 310.342 \u2502 173.109 \u2502 127.844 \u2502  61.841 \u2502  357.55 \u2502 108.229 \u2502  240.67 \u2502 178.765 \u2502  49.754 \u2502 147.661 \u2502   25.65 \u2502 516.245 \u2502 142.919 \u2502 104.964 \u2502\n",
            "\u2502 2022-12-21 \u2502 135.057 \u2502   67.68 \u2502  32.212 \u2502  78.729 \u2502  171.49 \u2502   64.67 \u2502 314.798 \u2502  175.09 \u2502 129.282 \u2502  62.836 \u2502 365.872 \u2502 109.611 \u2502 243.287 \u2502 180.017 \u2502  50.084 \u2502 149.015 \u2502  26.574 \u2502 523.519 \u2502  144.04 \u2502 106.312 \u2502\n",
            "\u2502 2022-12-22 \u2502 131.846 \u2502   63.86 \u2502  31.927 \u2502  78.563 \u2502 168.918 \u2502  63.727 \u2502 311.604 \u2502  174.45 \u2502 127.814 \u2502  62.383 \u2502 363.187 \u2502 109.739 \u2502 237.077 \u2502 178.627 \u2502  50.065 \u2502 149.359 \u2502  25.232 \u2502 523.072 \u2502 142.354 \u2502 104.168 \u2502\n",
            "\u2502 2022-12-23 \u2502 131.477 \u2502   64.52 \u2502  32.005 \u2502  79.432 \u2502  174.14 \u2502  63.742 \u2502 314.177 \u2502 174.893 \u2502 128.421 \u2502  62.855 \u2502 365.762 \u2502  110.35 \u2502 237.614 \u2502 179.781 \u2502  50.249 \u2502 149.781 \u2502  26.226 \u2502  527.26 \u2502 142.641 \u2502 106.922 \u2502\n",
            "\u2502 2022-12-27 \u2502 129.652 \u2502   63.27 \u2502  32.065 \u2502   79.93 \u2502 176.329 \u2502  64.561 \u2502 314.985 \u2502 174.844 \u2502 128.871 \u2502   63.24 \u2502  362.76 \u2502 110.607 \u2502 235.852 \u2502  180.58 \u2502   49.57 \u2502 151.086 \u2502  26.375 \u2502 527.935 \u2502 142.681 \u2502 108.408 \u2502\n",
            "\u2502 2022-12-28 \u2502 125.674 \u2502   62.57 \u2502  32.301 \u2502  78.279 \u2502 173.728 \u2502  63.883 \u2502  311.22 \u2502 174.085 \u2502 129.575 \u2502  62.609 \u2502 363.098 \u2502 109.581 \u2502 233.434 \u2502 179.278 \u2502   49.25 \u2502 149.133 \u2502  24.497 \u2502 524.422 \u2502 140.181 \u2502 106.627 \u2502\n",
            "\u2514\u2500\u2500\u2500\u2500\u2500\u2500\u2500\u2500\u2500\u2500\u2500\u2500\u2534\u2500\u2500\u2500\u2500\u2500\u2500\u2500\u2500\u2500\u2534\u2500\u2500\u2500\u2500\u2500\u2500\u2500\u2500\u2500\u2534\u2500\u2500\u2500\u2500\u2500\u2500\u2500\u2500\u2500\u2534\u2500\u2500\u2500\u2500\u2500\u2500\u2500\u2500\u2500\u2534\u2500\u2500\u2500\u2500\u2500\u2500\u2500\u2500\u2500\u2534\u2500\u2500\u2500\u2500\u2500\u2500\u2500\u2500\u2500\u2534\u2500\u2500\u2500\u2500\u2500\u2500\u2500\u2500\u2500\u2534\u2500\u2500\u2500\u2500\u2500\u2500\u2500\u2500\u2500\u2534\u2500\u2500\u2500\u2500\u2500\u2500\u2500\u2500\u2500\u2534\u2500\u2500\u2500\u2500\u2500\u2500\u2500\u2500\u2500\u2534\u2500\u2500\u2500\u2500\u2500\u2500\u2500\u2500\u2500\u2534\u2500\u2500\u2500\u2500\u2500\u2500\u2500\u2500\u2500\u2534\u2500\u2500\u2500\u2500\u2500\u2500\u2500\u2500\u2500\u2534\u2500\u2500\u2500\u2500\u2500\u2500\u2500\u2500\u2500\u2534\u2500\u2500\u2500\u2500\u2500\u2500\u2500\u2500\u2500\u2534\u2500\u2500\u2500\u2500\u2500\u2500\u2500\u2500\u2500\u2534\u2500\u2500\u2500\u2500\u2500\u2500\u2500\u2500\u2500\u2534\u2500\u2500\u2500\u2500\u2500\u2500\u2500\u2500\u2500\u2534\u2500\u2500\u2500\u2500\u2500\u2500\u2500\u2500\u2500\u2534\u2500\u2500\u2500\u2500\u2500\u2500\u2500\u2500\u2500\u2518\n"
          ]
        }
      ],
      "source": [
        "using CSV, TimeSeries, DataFrames\n",
        "\n",
        "X = TimeArray(CSV.File(joinpath(@__DIR__, \"SP500.csv.gz\")); timestamp = :Date)[(end - 252):end]\n",
        "pretty_table(X[(end - 5):end]; formatters = tsfmt)"
      ]
    },
    {
      "cell_type": "markdown",
      "metadata": {},
      "source": [
        "First we must compute the returns from the prices. The `ReturnsResult` struct stores the asset names in `nx`, asset returns in `X`, and timestamps in `ts`. The other fields are used in other applications which we will not be showcasing here."
      ]
    },
    {
      "cell_type": "code",
      "execution_count": 4,
      "metadata": {},
      "outputs": [
        {
          "data": {
            "text/plain": "ReturnsResult\n    nx | 20-element Vector{String}\n     X | 252\u00d720 Matrix{Float64}\n    nf | nothing\n     F | nothing\n    ts | 252-element Vector{Dates.Date}\n    iv | nothing\n  ivpa | nothing\n"
          },
          "execution_count": 4,
          "metadata": {},
          "output_type": "execute_result"
        }
      ],
      "source": [
        "rd = prices_to_returns(X)"
      ]
    },
    {
      "cell_type": "markdown",
      "metadata": {},
      "source": [
        "## 2. MeanRisk optimisation\n",
        "\n",
        "### 2.1 Creating a solver instance\n",
        "\n",
        "All optimisations require some prior statistics to be computed. This can either be done before the optimisation function, or within it. For certain optimisations, precomputing the prior is more efficient, but it makes no difference here so we'll do it within the optimisation.\n",
        "\n",
        "The `MeanRisk` estimator defines a mean-risk optimisation problem. It is a `JuMPOptimisationEstimator`, which means it requires a `JuMP`-compatible optimiser, which in this case will be `Clarabel`."
      ]
    },
    {
      "cell_type": "code",
      "execution_count": 5,
      "metadata": {},
      "outputs": [],
      "source": [
        "using Clarabel"
      ]
    },
    {
      "cell_type": "markdown",
      "metadata": {},
      "source": [
        "We have to define a `Solver` object, which contains the optimiser we wish to use, an optional name for logging purposes, optional solver settings, and optional kwargs for [`JuMP.assert_is_solved_and_feasible`](https://jump.dev/JuMP.jl/stable/api/JuMP/#assert_is_solved_and_feasible).\n",
        "\n",
        "Given the vast range of optimisation options and types, it is often useful to try different solver and settings combinations. To this aim, it is also possible to provide a vector of `Solver` objects, which is iterated over until one succeeds or all fail. The classic Markowitz optimisation is rather simple, so we will use a single solver instance."
      ]
    },
    {
      "cell_type": "code",
      "execution_count": 6,
      "metadata": {},
      "outputs": [
        {
          "data": {
            "text/plain": "Solver\n         name | Symbol: :clarabel1\n       solver | UnionAll: Clarabel.MOIwrapper.Optimizer\n     settings | Dict{String, Bool}: Dict{String, Bool}(\"verbose\" => 0)\n    check_sol | @NamedTuple{allow_local::Bool, allow_almost::Bool}: (allow_local = true, allow_almost = true)\n  add_bridges | Bool: true\n"
          },
          "execution_count": 6,
          "metadata": {},
          "output_type": "execute_result"
        }
      ],
      "source": [
        "slv = Solver(; name = :clarabel1, solver = Clarabel.Optimizer,\n",
        "             settings = Dict(\"verbose\" => false),\n",
        "             check_sol = (; allow_local = true, allow_almost = true))"
      ]
    },
    {
      "cell_type": "markdown",
      "metadata": {},
      "source": [
        "### 2.2 Defining the optimisation estimator\n",
        "\n",
        "`PortfolioOptimisers` is designed to heavily leverage composition. The first hint of this design ethos in the examples comes in the form of `JuMPOptimiser`, which is the structure defining the optimiser parameters used in all `JuMPOptimisationEstimator`s.\n",
        "\n",
        "Lets create a `MeanRisk` estimator. As you can see from the output, `JuMPOptimiser` and `MeanRisk` contain myriad properties that we will not showcase in this example."
      ]
    },
    {
      "cell_type": "code",
      "execution_count": 7,
      "metadata": {},
      "outputs": [
        {
          "data": {
            "text/plain": "MeanRisk\n  opt | JuMPOptimiser\n      |       pe | EmpiricalPrior\n      |          |        ce | PortfolioOptimisersCovariance\n      |          |           |   ce | Covariance\n      |          |           |      |    me | SimpleExpectedReturns\n      |          |           |      |       |   w | nothing\n      |          |           |      |    ce | GeneralWeightedCovariance\n      |          |           |      |       |   ce | SimpleCovariance: SimpleCovariance(true)\n      |          |           |      |       |    w | nothing\n      |          |           |      |   alg | Full()\n      |          |           |   mp | DefaultMatrixProcessing\n      |          |           |      |       pdm | Posdef\n      |          |           |      |           |   alg | UnionAll: NearestCorrelationMatrix.Newton\n      |          |           |      |   denoise | nothing\n      |          |           |      |    detone | nothing\n      |          |           |      |       alg | nothing\n      |          |        me | SimpleExpectedReturns\n      |          |           |   w | nothing\n      |          |   horizon | nothing\n      |      slv | Solver\n      |          |          name | Symbol: :clarabel1\n      |          |        solver | UnionAll: Clarabel.MOIwrapper.Optimizer\n      |          |      settings | Dict{String, Bool}: Dict{String, Bool}(\"verbose\" => 0)\n      |          |     check_sol | @NamedTuple{allow_local::Bool, allow_almost::Bool}: (allow_local = true, allow_almost = true)\n      |          |   add_bridges | Bool: true\n      |       wb | WeightBounds\n      |          |   lb | Float64: 0.0\n      |          |   ub | Float64: 1.0\n      |      bgt | Float64: 1.0\n      |     sbgt | nothing\n      |       lt | nothing\n      |       st | nothing\n      |      lcs | nothing\n      |      lcm | nothing\n      |     cent | nothing\n      |    gcard | nothing\n      |   sgcard | nothing\n      |     smtx | nothing\n      |    sgmtx | nothing\n      |      slt | nothing\n      |      sst | nothing\n      |     sglt | nothing\n      |     sgst | nothing\n      |     sets | nothing\n      |     nplg | nothing\n      |     cplg | nothing\n      |       tn | nothing\n      |       te | nothing\n      |     fees | nothing\n      |      ret | ArithmeticReturn\n      |          |   ucs | nothing\n      |          |    lb | nothing\n      |      sce | SumScalariser: SumScalariser()\n      |     ccnt | nothing\n      |     cobj | nothing\n      |       sc | Int64: 1\n      |       so | Int64: 1\n      |     card | nothing\n      |    scard | nothing\n      |      nea | nothing\n      |       l1 | nothing\n      |       l2 | nothing\n      |       ss | nothing\n      |   strict | Bool: false\n    r | Variance\n      |   settings | RiskMeasureSettings\n      |            |   scale | Float64: 1.0\n      |            |      ub | nothing\n      |            |     rke | Bool: true\n      |      sigma | nothing\n      |         rc | nothing\n      |        alg | SOCRiskExpr()\n  obj | MinimumRisk()\n   wi | nothing\n"
          },
          "execution_count": 7,
          "metadata": {},
          "output_type": "execute_result"
        }
      ],
      "source": [
        "mr = MeanRisk(; opt = JuMPOptimiser(; slv = slv))"
      ]
    },
    {
      "cell_type": "markdown",
      "metadata": {},
      "source": [
        "### 2.3 Performing the optimisation\n",
        "\n",
        "The `optimise!` function is used to perform all optimisations in `PortfolioOptimisers`. Each method returns an `AbstractResult` object containing the optimisation results, which include a return code, a solution object, and relevant statistics (precomputed or otherwise) used in the optimisation.\n",
        "\n",
        "The field `retcode` informs us that our optimisation was successful because it contains an `OptimisationSuccess` return code."
      ]
    },
    {
      "cell_type": "code",
      "execution_count": 8,
      "metadata": {},
      "outputs": [
        {
          "data": {
            "text/plain": "JuMPOptimisation\n       oe | DataType: MeanRisk\n       pa | ProcessedJuMPOptimiserAttributes\n          |       pr | LowOrderPrior\n          |          |         X | 252\u00d720 Matrix{Float64}\n          |          |        mu | 20-element Vector{Float64}\n          |          |     sigma | 20\u00d720 Matrix{Float64}\n          |          |      chol | nothing\n          |          |         w | nothing\n          |          |       ens | nothing\n          |          |       kld | nothing\n          |          |        ow | nothing\n          |          |        rr | nothing\n          |          |      f_mu | nothing\n          |          |   f_sigma | nothing\n          |          |       f_w | nothing\n          |       wb | WeightBounds\n          |          |   lb | 20-element StepRangeLen{Float64, Base.TwicePrecision{Float64}, Base.TwicePrecision{Float64}, Int64}\n          |          |   ub | 20-element StepRangeLen{Float64, Base.TwicePrecision{Float64}, Base.TwicePrecision{Float64}, Int64}\n          |       lt | nothing\n          |       st | nothing\n          |      lcs | nothing\n          |     cent | nothing\n          |    gcard | nothing\n          |   sgcard | nothing\n          |     smtx | nothing\n          |    sgmtx | nothing\n          |      slt | nothing\n          |      sst | nothing\n          |     sglt | nothing\n          |     sgst | nothing\n          |     nplg | nothing\n          |     cplg | nothing\n          |       tn | nothing\n          |     fees | nothing\n          |      ret | ArithmeticReturn\n          |          |   ucs | nothing\n          |          |    lb | nothing\n  retcode | OptimisationSuccess\n          |   res | Dict{Any, Any}: Dict{Any, Any}()\n      sol | PortfolioOptimisers.JuMPOptimisationSolution\n          |   w | 20-element Vector{Float64}\n    model | A JuMP Model\n          | \u251c solver: Clarabel\n          | \u251c objective_sense: MIN_SENSE\n          | \u2502 \u2514 objective_function_type: JuMP.QuadExpr\n          | \u251c num_variables: 21\n          | \u251c num_constraints: 4\n          | \u2502 \u251c JuMP.AffExpr in MOI.EqualTo{Float64}: 1\n          | \u2502 \u251c Vector{JuMP.AffExpr} in MOI.Nonnegatives: 1\n          | \u2502 \u251c Vector{JuMP.AffExpr} in MOI.Nonpositives: 1\n          | \u2502 \u2514 Vector{JuMP.AffExpr} in MOI.SecondOrderCone: 1\n          | \u2514 Names registered in the model\n          |   \u2514 :G, :bgt, :dev_1, :dev_1_soc, :k, :lw, :obj_expr, :ret, :risk, :risk_vec, :sc, :so, :variance_flag, :variance_risk_1, :w, :w_lb, :w_ub\n"
          },
          "execution_count": 8,
          "metadata": {},
          "output_type": "execute_result"
        }
      ],
      "source": [
        "res = optimise!(mr, rd)"
      ]
    },
    {
      "cell_type": "markdown",
      "metadata": {},
      "source": [
        "Lets view the solution results as a pretty table. For convenience, we have ensured all `AbstractResult` have a property called `w`, which directly accesses `sol.w`. The optimisations don't shuffle the asset order, so we can simply view the asset names and weights side by side."
      ]
    },
    {
      "cell_type": "code",
      "execution_count": 9,
      "metadata": {},
      "outputs": [
        {
          "name": "stdout",
          "output_type": "stream",
          "text": [
            "\u250c\u2500\u2500\u2500\u2500\u2500\u2500\u2500\u2500\u252c\u2500\u2500\u2500\u2500\u2500\u2500\u2500\u2500\u2500\u2500\u2510\n",
            "\u2502 assets \u2502  weights \u2502\n",
            "\u2502 String \u2502  Float64 \u2502\n",
            "\u251c\u2500\u2500\u2500\u2500\u2500\u2500\u2500\u2500\u253c\u2500\u2500\u2500\u2500\u2500\u2500\u2500\u2500\u2500\u2500\u2524\n",
            "\u2502   AAPL \u2502    0.0 % \u2502\n",
            "\u2502    AMD \u2502    0.0 % \u2502\n",
            "\u2502    BAC \u2502    0.0 % \u2502\n",
            "\u2502    BBY \u2502    0.0 % \u2502\n",
            "\u2502    CVX \u2502  7.432 % \u2502\n",
            "\u2502     GE \u2502  0.806 % \u2502\n",
            "\u2502     HD \u2502    0.0 % \u2502\n",
            "\u2502    JNJ \u2502 36.974 % \u2502\n",
            "\u2502    JPM \u2502  0.749 % \u2502\n",
            "\u2502     KO \u2502 11.161 % \u2502\n",
            "\u2502    LLY \u2502    0.0 % \u2502\n",
            "\u2502    MRK \u2502 17.467 % \u2502\n",
            "\u2502   MSFT \u2502    0.0 % \u2502\n",
            "\u2502    PEP \u2502  8.978 % \u2502\n",
            "\u2502    PFE \u2502    0.0 % \u2502\n",
            "\u2502     PG \u2502  2.353 % \u2502\n",
            "\u2502    RRC \u2502    0.0 % \u2502\n",
            "\u2502    UNH \u2502    0.0 % \u2502\n",
            "\u2502    WMT \u2502  9.355 % \u2502\n",
            "\u2502    XOM \u2502  4.725 % \u2502\n",
            "\u2514\u2500\u2500\u2500\u2500\u2500\u2500\u2500\u2500\u2534\u2500\u2500\u2500\u2500\u2500\u2500\u2500\u2500\u2500\u2500\u2518\n"
          ]
        }
      ],
      "source": [
        "pretty_table(DataFrame(:assets => rd.nx, :weights => res.w); formatters = resfmt)"
      ]
    },
    {
      "cell_type": "markdown",
      "metadata": {},
      "source": [
        "## 3. Finite allocation\n",
        "\n",
        "We have the optimal solution, but most people don't have access to effectively unlimited funds. Given the optimised weights, current prices and a finite cash amount, it is possible to perform a finite allocation. We will use a discrete allocation method which uses mixed-integer programming to find the best allocation. We have another finite allocation method which uses a greedy algorithm that can deal with fractional shares, but we will reserve it for a later example.\n",
        "\n",
        "For the discrete allocation, we need a solver capable of handling mixed-integer programming problems, we will use `HiGHS`."
      ]
    },
    {
      "cell_type": "code",
      "execution_count": 10,
      "metadata": {},
      "outputs": [
        {
          "data": {
            "text/plain": "DiscreteAllocation\n  slv | Solver\n      |          name | Symbol: :highs1\n      |        solver | DataType: HiGHS.Optimizer\n      |      settings | Dict{String, Bool}: Dict{String, Bool}(\"log_to_console\" => 0)\n      |     check_sol | @NamedTuple{allow_local::Bool, allow_almost::Bool}: (allow_local = true, allow_almost = true)\n      |   add_bridges | Bool: true\n   sc | Int64: 1\n   so | Int64: 1\n"
          },
          "execution_count": 10,
          "metadata": {},
          "output_type": "execute_result"
        }
      ],
      "source": [
        "using HiGHS\n",
        "\n",
        "mip_slv = Solver(; name = :highs1, solver = HiGHS.Optimizer,\n",
        "                 settings = Dict(\"log_to_console\" => false),\n",
        "                 check_sol = (; allow_local = true, allow_almost = true))\n",
        "da = DiscreteAllocation(; slv = mip_slv)"
      ]
    },
    {
      "cell_type": "markdown",
      "metadata": {},
      "source": [
        "Luckily, we have the optimal weights, the latest prices are the last entry of our original time array `X`, and lets say we have `4206.9` USD to invest.\n",
        "\n",
        "The function can optionally take extra positional arguments to account for a variety of fees, but we will not use them here."
      ]
    },
    {
      "cell_type": "code",
      "execution_count": 11,
      "metadata": {},
      "outputs": [
        {
          "data": {
            "text/plain": "DiscreteAllocationOptimisation\n         oe | DataType: DiscreteAllocation\n     shares | 20-element SubArray{Float64, 1, Matrix{Float64}, Tuple{Base.Slice{Base.OneTo{Int64}}, Int64}, true}\n       cost | 20-element SubArray{Float64, 1, Matrix{Float64}, Tuple{Base.Slice{Base.OneTo{Int64}}, Int64}, true}\n          w | 20-element SubArray{Float64, 1, Matrix{Float64}, Tuple{Base.Slice{Base.OneTo{Int64}}, Int64}, true}\n    retcode | OptimisationSuccess\n            |   res | nothing\n  s_retcode | nothing\n  l_retcode | OptimisationSuccess\n            |   res | Dict{Any, Any}: Dict{Any, Any}()\n    s_model | nothing\n    l_model | A JuMP Model\n            | \u251c solver: HiGHS\n            | \u251c objective_sense: MIN_SENSE\n            | \u2502 \u2514 objective_function_type: JuMP.AffExpr\n            | \u251c num_variables: 21\n            | \u251c num_constraints: 42\n            | \u2502 \u251c JuMP.AffExpr in MOI.GreaterThan{Float64}: 1\n            | \u2502 \u251c Vector{JuMP.AffExpr} in MOI.NormOneCone: 1\n            | \u2502 \u251c JuMP.VariableRef in MOI.GreaterThan{Float64}: 20\n            | \u2502 \u2514 JuMP.VariableRef in MOI.Integer: 20\n            | \u2514 Names registered in the model\n            |   \u2514 :eta, :r, :u, :x\n       cash | Float64: 8.47199999999711\n"
          },
          "execution_count": 11,
          "metadata": {},
          "output_type": "execute_result"
        }
      ],
      "source": [
        "mip_res = optimise!(da, res.w, vec(values(X[end])), 4206.9)"
      ]
    },
    {
      "cell_type": "markdown",
      "metadata": {},
      "source": [
        "The result of this optimisation contains different pieces of information to the previous one. The reason various fields are prefixed by `l_`or `s_` is because the discrete allocation method splits the assets into long and short positions, which are recombined in the final result.\n",
        "\n",
        "Lets see the results in another pretty table."
      ]
    },
    {
      "cell_type": "code",
      "execution_count": 12,
      "metadata": {},
      "outputs": [
        {
          "name": "stdout",
          "output_type": "stream",
          "text": [
            "\u250c\u2500\u2500\u2500\u2500\u2500\u2500\u2500\u2500\u252c\u2500\u2500\u2500\u2500\u2500\u2500\u2500\u2500\u2500\u252c\u2500\u2500\u2500\u2500\u2500\u2500\u2500\u2500\u2500\u252c\u2500\u2500\u2500\u2500\u2500\u2500\u2500\u2500\u2500\u2500\u2500\u2500\u2500\u252c\u2500\u2500\u2500\u2500\u2500\u2500\u2500\u2500\u2500\u2500\u2500\u2500\u2500\u2510\n",
            "\u2502 assets \u2502  shares \u2502    cost \u2502 opt_weights \u2502 mip_weights \u2502\n",
            "\u2502 String \u2502 Float64 \u2502 Float64 \u2502     Float64 \u2502     Float64 \u2502\n",
            "\u251c\u2500\u2500\u2500\u2500\u2500\u2500\u2500\u2500\u253c\u2500\u2500\u2500\u2500\u2500\u2500\u2500\u2500\u2500\u253c\u2500\u2500\u2500\u2500\u2500\u2500\u2500\u2500\u2500\u253c\u2500\u2500\u2500\u2500\u2500\u2500\u2500\u2500\u2500\u2500\u2500\u2500\u2500\u253c\u2500\u2500\u2500\u2500\u2500\u2500\u2500\u2500\u2500\u2500\u2500\u2500\u2500\u2524\n",
            "\u2502   AAPL \u2502     0.0 \u2502     0.0 \u2502       0.0 % \u2502       0.0 % \u2502\n",
            "\u2502    AMD \u2502     0.0 \u2502     0.0 \u2502       0.0 % \u2502       0.0 % \u2502\n",
            "\u2502    BAC \u2502     0.0 \u2502     0.0 \u2502       0.0 % \u2502       0.0 % \u2502\n",
            "\u2502    BBY \u2502     0.0 \u2502     0.0 \u2502       0.0 % \u2502       0.0 % \u2502\n",
            "\u2502    CVX \u2502     2.0 \u2502 347.456 \u2502     7.432 % \u2502     8.276 % \u2502\n",
            "\u2502     GE \u2502     0.0 \u2502     0.0 \u2502     0.806 % \u2502       0.0 % \u2502\n",
            "\u2502     HD \u2502     0.0 \u2502     0.0 \u2502       0.0 % \u2502       0.0 % \u2502\n",
            "\u2502    JNJ \u2502     9.0 \u2502 1566.77 \u2502    36.974 % \u2502    37.318 % \u2502\n",
            "\u2502    JPM \u2502     0.0 \u2502     0.0 \u2502     0.749 % \u2502       0.0 % \u2502\n",
            "\u2502     KO \u2502     6.0 \u2502 375.654 \u2502    11.161 % \u2502     8.947 % \u2502\n",
            "\u2502    LLY \u2502     0.0 \u2502     0.0 \u2502       0.0 % \u2502       0.0 % \u2502\n",
            "\u2502    MRK \u2502     7.0 \u2502 767.067 \u2502    17.467 % \u2502     18.27 % \u2502\n",
            "\u2502   MSFT \u2502     0.0 \u2502     0.0 \u2502       0.0 % \u2502       0.0 % \u2502\n",
            "\u2502    PEP \u2502     2.0 \u2502 358.556 \u2502     8.978 % \u2502      8.54 % \u2502\n",
            "\u2502    PFE \u2502     0.0 \u2502     0.0 \u2502       0.0 % \u2502       0.0 % \u2502\n",
            "\u2502     PG \u2502     1.0 \u2502 149.133 \u2502     2.353 % \u2502     3.552 % \u2502\n",
            "\u2502    RRC \u2502     0.0 \u2502     0.0 \u2502       0.0 % \u2502       0.0 % \u2502\n",
            "\u2502    UNH \u2502     0.0 \u2502     0.0 \u2502       0.0 % \u2502       0.0 % \u2502\n",
            "\u2502    WMT \u2502     3.0 \u2502 420.543 \u2502     9.355 % \u2502    10.017 % \u2502\n",
            "\u2502    XOM \u2502     2.0 \u2502 213.254 \u2502     4.725 % \u2502     5.079 % \u2502\n",
            "\u2514\u2500\u2500\u2500\u2500\u2500\u2500\u2500\u2500\u2534\u2500\u2500\u2500\u2500\u2500\u2500\u2500\u2500\u2500\u2534\u2500\u2500\u2500\u2500\u2500\u2500\u2500\u2500\u2500\u2534\u2500\u2500\u2500\u2500\u2500\u2500\u2500\u2500\u2500\u2500\u2500\u2500\u2500\u2534\u2500\u2500\u2500\u2500\u2500\u2500\u2500\u2500\u2500\u2500\u2500\u2500\u2500\u2518\n"
          ]
        }
      ],
      "source": [
        "pretty_table(DataFrame(:assets => rd.nx, :shares => mip_res.shares, :cost => mip_res.cost,\n",
        "                       :opt_weights => res.w, :mip_weights => mip_res.w);\n",
        "             formatters = mipresfmt)"
      ]
    },
    {
      "cell_type": "markdown",
      "metadata": {},
      "source": [
        "We can see that the mip weights do not exactly match the optimal ones, but that is because we only have finite resources. Note that the sum of the costs minus the initial cash is equal to the `cash` property of the result. This changes when we introduce fees, which will be shown in a future example."
      ]
    },
    {
      "cell_type": "code",
      "execution_count": 13,
      "metadata": {},
      "outputs": [
        {
          "name": "stdout",
          "output_type": "stream",
          "text": [
            "used cash \u2248 available cash: true\n"
          ]
        }
      ],
      "source": [
        "println(\"used cash \u2248 available cash: $(isapprox(mip_res.cash, 4206.9 - sum(mip_res.cost)))\")"
      ]
    },
    {
      "cell_type": "markdown",
      "metadata": {},
      "source": [
        "We can also see that the cost of each asset is equal to the number of shares times its price."
      ]
    },
    {
      "cell_type": "code",
      "execution_count": 14,
      "metadata": {},
      "outputs": [
        {
          "name": "stdout",
          "output_type": "stream",
          "text": [
            "cost of shares \u2248 cost of portfolio: true\n"
          ]
        }
      ],
      "source": [
        "println(\"cost of shares \u2248 cost of portfolio: $(all(isapprox.(mip_res.shares .* vec(values(X[end])), mip_res.cost)))\")"
      ]
    },
    {
      "cell_type": "markdown",
      "metadata": {},
      "source": [
        "---\n",
        "\n",
        "*This notebook was generated using [Literate.jl](https://github.com/fredrikekre/Literate.jl).*"
      ]
    }
  ],
  "metadata": {
    "kernelspec": {
      "display_name": "Julia 1.11.6",
      "language": "julia",
      "name": "julia-1.11"
    },
    "language_info": {
      "file_extension": ".jl",
      "mimetype": "application/julia",
      "name": "julia",
      "version": "1.11.6"
    }
  },
  "nbformat": 4,
  "nbformat_minor": 3
}
