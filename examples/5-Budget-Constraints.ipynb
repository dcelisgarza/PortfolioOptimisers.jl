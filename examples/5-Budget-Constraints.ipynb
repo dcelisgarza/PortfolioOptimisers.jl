{
  "cells": [
    {
      "cell_type": "markdown",
      "metadata": {},
      "source": [
        "# Example 5: Budget constraints\n",
        "\n",
        "This example shows how to use basic budget constraints.\n",
        "\n",
        "Before starting it is worth mentioning that portfolio budget constraints are implemented on the actual weights, while the short budget constraints are implemented on a relaxation variable stand-in for the short weights. This means that in some cases, it may appear the short budget constraints are not satisfied when they actually are. This is because the relaxation variables that stand in for the short weights can take on a range of values as long as they are greater than or equal to the absolute value of the actual negative weights, and still satify the budget constraint placed on them."
      ]
    },
    {
      "cell_type": "code",
      "execution_count": 1,
      "metadata": {},
      "outputs": [],
      "source": [
        "using PortfolioOptimisers, PrettyTables\n",
        "# Format for pretty tables.\n",
        "tsfmt = (v, i, j) -> begin\n",
        "    if j == 1\n",
        "        return Date(v)\n",
        "    else\n",
        "        return v\n",
        "    end\n",
        "end;\n",
        "resfmt = (v, i, j) -> begin\n",
        "    if j == 1\n",
        "        return v\n",
        "    else\n",
        "        return isa(v, Number) ? \"$(round(v*100, digits=3)) %\" : v\n",
        "    end\n",
        "end;\n",
        "mipresfmt = (v, i, j) -> begin\n",
        "    if j \u2208 (1, 2, 3)\n",
        "        return v\n",
        "    else\n",
        "        return isa(v, Number) ? \"$(round(v*100, digits=3)) %\" : v\n",
        "    end\n",
        "end;"
      ]
    },
    {
      "cell_type": "markdown",
      "metadata": {},
      "source": [
        "## 1. ReturnsResult data\n",
        "\n",
        "We will use the same data as the previous example."
      ]
    },
    {
      "cell_type": "code",
      "execution_count": 2,
      "metadata": {},
      "outputs": [
        {
          "name": "stdout",
          "output_type": "stream",
          "text": [
            "\u250c\u2500\u2500\u2500\u2500\u2500\u2500\u2500\u2500\u2500\u2500\u2500\u2500\u252c\u2500\u2500\u2500\u2500\u2500\u2500\u2500\u2500\u2500\u252c\u2500\u2500\u2500\u2500\u2500\u2500\u2500\u2500\u2500\u252c\u2500\u2500\u2500\u2500\u2500\u2500\u2500\u2500\u2500\u252c\u2500\u2500\u2500\u2500\u2500\u2500\u2500\u2500\u2500\u252c\u2500\u2500\u2500\u2500\u2500\u2500\u2500\u2500\u2500\u252c\u2500\u2500\u2500\u2500\u2500\u2500\u2500\u2500\u2500\u252c\u2500\u2500\u2500\u2500\u2500\u2500\u2500\u2500\u2500\u252c\u2500\u2500\u2500\u2500\u2500\u2500\u2500\u2500\u2500\u252c\u2500\u2500\u2500\u2500\u2500\u2500\u2500\u2500\u2500\u252c\u2500\u2500\u2500\u2500\u2500\u2500\u2500\u2500\u2500\u252c\u2500\u2500\u2500\u2500\u2500\u2500\u2500\u2500\u2500\u252c\u2500\u2500\u2500\u2500\u2500\u2500\u2500\u2500\u2500\u252c\u2500\u2500\u2500\u2500\u2500\u2500\u2500\u2500\u2500\u252c\u2500\u2500\u2500\u2500\u2500\u2500\u2500\u2500\u2500\u252c\u2500\u2500\u2500\u2500\u2500\u2500\u2500\u2500\u2500\u252c\u2500\u2500\u2500\u2500\u2500\u2500\u2500\u2500\u2500\u252c\u2500\u2500\u2500\u2500\u2500\u2500\u2500\u2500\u2500\u252c\u2500\u2500\u2500\u2500\u2500\u2500\u2500\u2500\u2500\u252c\u2500\u2500\u2500\u2500\u2500\u2500\u2500\u2500\u2500\u252c\u2500\u2500\u2500\u2500\u2500\u2500\u2500\u2500\u2500\u2510\n",
            "\u2502  timestamp \u2502    AAPL \u2502     AMD \u2502     BAC \u2502     BBY \u2502     CVX \u2502      GE \u2502      HD \u2502     JNJ \u2502     JPM \u2502      KO \u2502     LLY \u2502     MRK \u2502    MSFT \u2502     PEP \u2502     PFE \u2502      PG \u2502     RRC \u2502     UNH \u2502     WMT \u2502     XOM \u2502\n",
            "\u2502 Dates.Date \u2502 Float64 \u2502 Float64 \u2502 Float64 \u2502 Float64 \u2502 Float64 \u2502 Float64 \u2502 Float64 \u2502 Float64 \u2502 Float64 \u2502 Float64 \u2502 Float64 \u2502 Float64 \u2502 Float64 \u2502 Float64 \u2502 Float64 \u2502 Float64 \u2502 Float64 \u2502 Float64 \u2502 Float64 \u2502 Float64 \u2502\n",
            "\u251c\u2500\u2500\u2500\u2500\u2500\u2500\u2500\u2500\u2500\u2500\u2500\u2500\u253c\u2500\u2500\u2500\u2500\u2500\u2500\u2500\u2500\u2500\u253c\u2500\u2500\u2500\u2500\u2500\u2500\u2500\u2500\u2500\u253c\u2500\u2500\u2500\u2500\u2500\u2500\u2500\u2500\u2500\u253c\u2500\u2500\u2500\u2500\u2500\u2500\u2500\u2500\u2500\u253c\u2500\u2500\u2500\u2500\u2500\u2500\u2500\u2500\u2500\u253c\u2500\u2500\u2500\u2500\u2500\u2500\u2500\u2500\u2500\u253c\u2500\u2500\u2500\u2500\u2500\u2500\u2500\u2500\u2500\u253c\u2500\u2500\u2500\u2500\u2500\u2500\u2500\u2500\u2500\u253c\u2500\u2500\u2500\u2500\u2500\u2500\u2500\u2500\u2500\u253c\u2500\u2500\u2500\u2500\u2500\u2500\u2500\u2500\u2500\u253c\u2500\u2500\u2500\u2500\u2500\u2500\u2500\u2500\u2500\u253c\u2500\u2500\u2500\u2500\u2500\u2500\u2500\u2500\u2500\u253c\u2500\u2500\u2500\u2500\u2500\u2500\u2500\u2500\u2500\u253c\u2500\u2500\u2500\u2500\u2500\u2500\u2500\u2500\u2500\u253c\u2500\u2500\u2500\u2500\u2500\u2500\u2500\u2500\u2500\u253c\u2500\u2500\u2500\u2500\u2500\u2500\u2500\u2500\u2500\u253c\u2500\u2500\u2500\u2500\u2500\u2500\u2500\u2500\u2500\u253c\u2500\u2500\u2500\u2500\u2500\u2500\u2500\u2500\u2500\u253c\u2500\u2500\u2500\u2500\u2500\u2500\u2500\u2500\u2500\u253c\u2500\u2500\u2500\u2500\u2500\u2500\u2500\u2500\u2500\u2524\n",
            "\u2502 2022-12-20 \u2502 131.916 \u2502   65.05 \u2502  31.729 \u2502  77.371 \u2502 169.497 \u2502  62.604 \u2502 310.342 \u2502 173.109 \u2502 127.844 \u2502  61.841 \u2502  357.55 \u2502 108.229 \u2502  240.67 \u2502 178.765 \u2502  49.754 \u2502 147.661 \u2502   25.65 \u2502 516.245 \u2502 142.919 \u2502 104.964 \u2502\n",
            "\u2502 2022-12-21 \u2502 135.057 \u2502   67.68 \u2502  32.212 \u2502  78.729 \u2502  171.49 \u2502   64.67 \u2502 314.798 \u2502  175.09 \u2502 129.282 \u2502  62.836 \u2502 365.872 \u2502 109.611 \u2502 243.287 \u2502 180.017 \u2502  50.084 \u2502 149.015 \u2502  26.574 \u2502 523.519 \u2502  144.04 \u2502 106.312 \u2502\n",
            "\u2502 2022-12-22 \u2502 131.846 \u2502   63.86 \u2502  31.927 \u2502  78.563 \u2502 168.918 \u2502  63.727 \u2502 311.604 \u2502  174.45 \u2502 127.814 \u2502  62.383 \u2502 363.187 \u2502 109.739 \u2502 237.077 \u2502 178.627 \u2502  50.065 \u2502 149.359 \u2502  25.232 \u2502 523.072 \u2502 142.354 \u2502 104.168 \u2502\n",
            "\u2502 2022-12-23 \u2502 131.477 \u2502   64.52 \u2502  32.005 \u2502  79.432 \u2502  174.14 \u2502  63.742 \u2502 314.177 \u2502 174.893 \u2502 128.421 \u2502  62.855 \u2502 365.762 \u2502  110.35 \u2502 237.614 \u2502 179.781 \u2502  50.249 \u2502 149.781 \u2502  26.226 \u2502  527.26 \u2502 142.641 \u2502 106.922 \u2502\n",
            "\u2502 2022-12-27 \u2502 129.652 \u2502   63.27 \u2502  32.065 \u2502   79.93 \u2502 176.329 \u2502  64.561 \u2502 314.985 \u2502 174.844 \u2502 128.871 \u2502   63.24 \u2502  362.76 \u2502 110.607 \u2502 235.852 \u2502  180.58 \u2502   49.57 \u2502 151.086 \u2502  26.375 \u2502 527.935 \u2502 142.681 \u2502 108.408 \u2502\n",
            "\u2502 2022-12-28 \u2502 125.674 \u2502   62.57 \u2502  32.301 \u2502  78.279 \u2502 173.728 \u2502  63.883 \u2502  311.22 \u2502 174.085 \u2502 129.575 \u2502  62.609 \u2502 363.098 \u2502 109.581 \u2502 233.434 \u2502 179.278 \u2502   49.25 \u2502 149.133 \u2502  24.497 \u2502 524.422 \u2502 140.181 \u2502 106.627 \u2502\n",
            "\u2514\u2500\u2500\u2500\u2500\u2500\u2500\u2500\u2500\u2500\u2500\u2500\u2500\u2534\u2500\u2500\u2500\u2500\u2500\u2500\u2500\u2500\u2500\u2534\u2500\u2500\u2500\u2500\u2500\u2500\u2500\u2500\u2500\u2534\u2500\u2500\u2500\u2500\u2500\u2500\u2500\u2500\u2500\u2534\u2500\u2500\u2500\u2500\u2500\u2500\u2500\u2500\u2500\u2534\u2500\u2500\u2500\u2500\u2500\u2500\u2500\u2500\u2500\u2534\u2500\u2500\u2500\u2500\u2500\u2500\u2500\u2500\u2500\u2534\u2500\u2500\u2500\u2500\u2500\u2500\u2500\u2500\u2500\u2534\u2500\u2500\u2500\u2500\u2500\u2500\u2500\u2500\u2500\u2534\u2500\u2500\u2500\u2500\u2500\u2500\u2500\u2500\u2500\u2534\u2500\u2500\u2500\u2500\u2500\u2500\u2500\u2500\u2500\u2534\u2500\u2500\u2500\u2500\u2500\u2500\u2500\u2500\u2500\u2534\u2500\u2500\u2500\u2500\u2500\u2500\u2500\u2500\u2500\u2534\u2500\u2500\u2500\u2500\u2500\u2500\u2500\u2500\u2500\u2534\u2500\u2500\u2500\u2500\u2500\u2500\u2500\u2500\u2500\u2534\u2500\u2500\u2500\u2500\u2500\u2500\u2500\u2500\u2500\u2534\u2500\u2500\u2500\u2500\u2500\u2500\u2500\u2500\u2500\u2534\u2500\u2500\u2500\u2500\u2500\u2500\u2500\u2500\u2500\u2534\u2500\u2500\u2500\u2500\u2500\u2500\u2500\u2500\u2500\u2534\u2500\u2500\u2500\u2500\u2500\u2500\u2500\u2500\u2500\u2534\u2500\u2500\u2500\u2500\u2500\u2500\u2500\u2500\u2500\u2518\n"
          ]
        },
        {
          "data": {
            "text/plain": "ReturnsResult\n    nx | 20-element Vector{String}\n     X | 252\u00d720 Matrix{Float64}\n    nf | nothing\n     F | nothing\n    ts | 252-element Vector{Dates.Date}\n    iv | nothing\n  ivpa | nothing\n"
          },
          "execution_count": 2,
          "metadata": {},
          "output_type": "execute_result"
        }
      ],
      "source": [
        "using CSV, TimeSeries, DataFrames\n",
        "\n",
        "X = TimeArray(CSV.File(joinpath(@__DIR__, \"SP500.csv.gz\")); timestamp = :Date)[(end - 252):end]\n",
        "pretty_table(X[(end - 5):end]; formatters = tsfmt)\n",
        "\n",
        "# Compute the returns\n",
        "rd = prices_to_returns(X)"
      ]
    },
    {
      "cell_type": "markdown",
      "metadata": {},
      "source": [
        "## 2. Preparatory steps\n",
        "\n",
        "We'll provide a vector of continuous solvers beacause the optimisation type we'll be using is more complex, and will contain various constraints. We will also use a more exotic risk measure.\n",
        "\n",
        "For the mixed interger solvers, we can use a single one."
      ]
    },
    {
      "cell_type": "code",
      "execution_count": 3,
      "metadata": {},
      "outputs": [],
      "source": [
        "using Clarabel, HiGHS\n",
        "slv = [Solver(; name = :clarabel1, solver = Clarabel.Optimizer,\n",
        "              settings = Dict(\"verbose\" => false),\n",
        "              check_sol = (; allow_local = true, allow_almost = true)),\n",
        "       Solver(; name = :clarabel3, solver = Clarabel.Optimizer,\n",
        "              settings = Dict(\"verbose\" => false, \"max_step_fraction\" => 0.9),\n",
        "              check_sol = (; allow_local = true, allow_almost = true)),\n",
        "       Solver(; name = :clarabel5, solver = Clarabel.Optimizer,\n",
        "              settings = Dict(\"verbose\" => false, \"max_step_fraction\" => 0.8),\n",
        "              check_sol = (; allow_local = true, allow_almost = true)),\n",
        "       Solver(; name = :clarabel7, solver = Clarabel.Optimizer,\n",
        "              settings = Dict(\"verbose\" => false, \"max_step_fraction\" => 0.70),\n",
        "              check_sol = (; allow_local = true, allow_almost = true))];\n",
        "mip_slv = Solver(; name = :highs1, solver = HiGHS.Optimizer,\n",
        "                 settings = Dict(\"log_to_console\" => false),\n",
        "                 check_sol = (; allow_local = true, allow_almost = true));"
      ]
    },
    {
      "cell_type": "markdown",
      "metadata": {},
      "source": [
        "This time we will use the `EntropicValueatRisk` measure and we will once again precompute prior."
      ]
    },
    {
      "cell_type": "code",
      "execution_count": 4,
      "metadata": {},
      "outputs": [
        {
          "data": {
            "text/plain": "LowOrderPrior\n        X | 252\u00d720 Matrix{Float64}\n       mu | 20-element Vector{Float64}\n    sigma | 20\u00d720 Matrix{Float64}\n     chol | nothing\n        w | nothing\n      ens | nothing\n      kld | nothing\n       ow | nothing\n       rr | nothing\n     f_mu | nothing\n  f_sigma | nothing\n      f_w | nothing\n"
          },
          "execution_count": 4,
          "metadata": {},
          "output_type": "execute_result"
        }
      ],
      "source": [
        "r = EntropicValueatRisk()\n",
        "pr = prior(EmpiricalPrior(), rd)"
      ]
    },
    {
      "cell_type": "markdown",
      "metadata": {},
      "source": [
        "## 3. Exact budget constraints\n",
        "\n",
        "The `budget` is the value of the sum of a portfolio's weights.\n",
        "\n",
        "Here we will showcase various budget constraints. We will start simple, with a strict budget constraint. We will also show the impact this has on the finite allocation.\n",
        "\n",
        "### 3.1 Strict budget constraints\n",
        "\n",
        "#### 3.1.1 Fully invested long-only portfolio\n",
        "\n",
        "First the default case, where the budget is equal to 1, `bgt = 1`. This means the portfolio will be fully invested."
      ]
    },
    {
      "cell_type": "code",
      "execution_count": 5,
      "metadata": {},
      "outputs": [
        {
          "data": {
            "text/plain": "MeanRisk\n  opt | JuMPOptimiser\n      |       pe | LowOrderPrior\n      |          |         X | 252\u00d720 Matrix{Float64}\n      |          |        mu | 20-element Vector{Float64}\n      |          |     sigma | 20\u00d720 Matrix{Float64}\n      |          |      chol | nothing\n      |          |         w | nothing\n      |          |       ens | nothing\n      |          |       kld | nothing\n      |          |        ow | nothing\n      |          |        rr | nothing\n      |          |      f_mu | nothing\n      |          |   f_sigma | nothing\n      |          |       f_w | nothing\n      |      slv | Vector{Solver{Symbol, UnionAll, T3, @NamedTuple{allow_local::Bool, allow_almost::Bool}, Bool} where T3}: Solver{Symbol, UnionAll, T3, @NamedTuple{allow_local::Bool, allow_almost::Bool}, Bool} where T3[Solver\n      |          name | Symbol: :clarabel1\n      |        solver | UnionAll: Clarabel.MOIwrapper.Optimizer\n      |      settings | Dict{String, Bool}: Dict{String, Bool}(\"verbose\" => 0)\n      |     check_sol | @NamedTuple{allow_local::Bool, allow_almost::Bool}: (allow_local = true, allow_almost = true)\n      |   add_bridges | Bool: true\n      | , Solver\n      |          name | Symbol: :clarabel3\n      |        solver | UnionAll: Clarabel.MOIwrapper.Optimizer\n      |      settings | Dict{String, Real}: Dict{String, Real}(\"verbose\" => false, \"max_step_fraction\" => 0.9)\n      |     check_sol | @NamedTuple{allow_local::Bool, allow_almost::Bool}: (allow_local = true, allow_almost = true)\n      |   add_bridges | Bool: true\n      | , Solver\n      |          name | Symbol: :clarabel5\n      |        solver | UnionAll: Clarabel.MOIwrapper.Optimizer\n      |      settings | Dict{String, Real}: Dict{String, Real}(\"verbose\" => false, \"max_step_fraction\" => 0.8)\n      |     check_sol | @NamedTuple{allow_local::Bool, allow_almost::Bool}: (allow_local = true, allow_almost = true)\n      |   add_bridges | Bool: true\n      | , Solver\n      |          name | Symbol: :clarabel7\n      |        solver | UnionAll: Clarabel.MOIwrapper.Optimizer\n      |      settings | Dict{String, Real}: Dict{String, Real}(\"verbose\" => false, \"max_step_fraction\" => 0.7)\n      |     check_sol | @NamedTuple{allow_local::Bool, allow_almost::Bool}: (allow_local = true, allow_almost = true)\n      |   add_bridges | Bool: true\n      | ]\n      |       wb | WeightBounds\n      |          |   lb | Float64: 0.0\n      |          |   ub | Float64: 1.0\n      |      bgt | Float64: 1.0\n      |     sbgt | nothing\n      |       lt | nothing\n      |       st | nothing\n      |      lcs | nothing\n      |      lcm | nothing\n      |     cent | nothing\n      |    gcard | nothing\n      |   sgcard | nothing\n      |     smtx | nothing\n      |    sgmtx | nothing\n      |      slt | nothing\n      |      sst | nothing\n      |     sglt | nothing\n      |     sgst | nothing\n      |     sets | nothing\n      |     nplg | nothing\n      |     cplg | nothing\n      |       tn | nothing\n      |       te | nothing\n      |     fees | nothing\n      |      ret | ArithmeticReturn\n      |          |   ucs | nothing\n      |          |    lb | nothing\n      |      sce | SumScalariser: SumScalariser()\n      |     ccnt | nothing\n      |     cobj | nothing\n      |       sc | Int64: 1\n      |       so | Int64: 1\n      |     card | nothing\n      |    scard | nothing\n      |      nea | nothing\n      |       l1 | nothing\n      |       l2 | nothing\n      |       ss | nothing\n      |   strict | Bool: false\n    r | EntropicValueatRisk\n      |   settings | RiskMeasureSettings\n      |            |   scale | Float64: 1.0\n      |            |      ub | nothing\n      |            |     rke | Bool: true\n      |        slv | nothing\n      |      alpha | Float64: 0.05\n      |          w | nothing\n  obj | MinimumRisk()\n   wi | nothing\n"
          },
          "execution_count": 5,
          "metadata": {},
          "output_type": "execute_result"
        }
      ],
      "source": [
        "opt1 = JuMPOptimiser(; pe = pr, slv = slv)\n",
        "mr1 = MeanRisk(; r = r, opt = opt1)"
      ]
    },
    {
      "cell_type": "markdown",
      "metadata": {},
      "source": [
        "You can see that `wb` is of type `WeightBounds`, `lb = 0.0` (asset weights lower bound), and `ub = 1.0` (asset weights upper bound), and `bgt = 1.0` (budget).\n",
        "\n",
        "We can check that the constraints were satisfied."
      ]
    },
    {
      "cell_type": "code",
      "execution_count": 6,
      "metadata": {},
      "outputs": [
        {
          "name": "stdout",
          "output_type": "stream",
          "text": [
            "budget: 0.9999999998112562\n",
            "long budget: 0.9999999998112562\n",
            "short budget: 0.0\n",
            "weight bounds: true\n"
          ]
        }
      ],
      "source": [
        "res1 = optimise!(mr1)\n",
        "println(\"budget: $(sum(res1.w))\")\n",
        "println(\"long budget: $(sum(res1.w[res1.w .>= zero(eltype(res1.w))]))\")\n",
        "println(\"short budget: $(sum(res1.w[res1.w .< zero(eltype(res1.w))]))\")\n",
        "println(\"weight bounds: $(all(x -> zero(x) <= x <= one(x), res1.w))\")"
      ]
    },
    {
      "cell_type": "markdown",
      "metadata": {},
      "source": [
        "Now lets allocate a finite amount of capital, `4206.9`, to this portfolio."
      ]
    },
    {
      "cell_type": "code",
      "execution_count": 7,
      "metadata": {},
      "outputs": [
        {
          "name": "stdout",
          "output_type": "stream",
          "text": [
            "\u250c\u2500\u2500\u2500\u2500\u2500\u2500\u2500\u2500\u252c\u2500\u2500\u2500\u2500\u2500\u2500\u2500\u2500\u2500\u252c\u2500\u2500\u2500\u2500\u2500\u2500\u2500\u2500\u2500\u252c\u2500\u2500\u2500\u2500\u2500\u2500\u2500\u2500\u2500\u2500\u2500\u2500\u2500\u252c\u2500\u2500\u2500\u2500\u2500\u2500\u2500\u2500\u2500\u2500\u2500\u2500\u2500\u2510\n",
            "\u2502 assets \u2502  shares \u2502    cost \u2502 opt_weights \u2502 mip_weights \u2502\n",
            "\u2502 String \u2502 Float64 \u2502 Float64 \u2502     Float64 \u2502     Float64 \u2502\n",
            "\u251c\u2500\u2500\u2500\u2500\u2500\u2500\u2500\u2500\u253c\u2500\u2500\u2500\u2500\u2500\u2500\u2500\u2500\u2500\u253c\u2500\u2500\u2500\u2500\u2500\u2500\u2500\u2500\u2500\u253c\u2500\u2500\u2500\u2500\u2500\u2500\u2500\u2500\u2500\u2500\u2500\u2500\u2500\u253c\u2500\u2500\u2500\u2500\u2500\u2500\u2500\u2500\u2500\u2500\u2500\u2500\u2500\u2524\n",
            "\u2502   AAPL \u2502     0.0 \u2502     0.0 \u2502       0.0 % \u2502       0.0 % \u2502\n",
            "\u2502    AMD \u2502     0.0 \u2502     0.0 \u2502       0.0 % \u2502       0.0 % \u2502\n",
            "\u2502    BAC \u2502     1.0 \u2502  32.301 \u2502       0.0 % \u2502     0.768 % \u2502\n",
            "\u2502    BBY \u2502     0.0 \u2502     0.0 \u2502       0.0 % \u2502       0.0 % \u2502\n",
            "\u2502    CVX \u2502     5.0 \u2502  868.64 \u2502    21.386 % \u2502    20.655 % \u2502\n",
            "\u2502     GE \u2502     0.0 \u2502     0.0 \u2502       0.0 % \u2502       0.0 % \u2502\n",
            "\u2502     HD \u2502     0.0 \u2502     0.0 \u2502       0.0 % \u2502       0.0 % \u2502\n",
            "\u2502    JNJ \u2502    13.0 \u2502 2263.11 \u2502    55.414 % \u2502    53.815 % \u2502\n",
            "\u2502    JPM \u2502     0.0 \u2502     0.0 \u2502       0.0 % \u2502       0.0 % \u2502\n",
            "\u2502     KO \u2502     0.0 \u2502     0.0 \u2502       0.0 % \u2502       0.0 % \u2502\n",
            "\u2502    LLY \u2502     0.0 \u2502     0.0 \u2502       0.0 % \u2502       0.0 % \u2502\n",
            "\u2502    MRK \u2502     8.0 \u2502 876.648 \u2502    21.207 % \u2502    20.846 % \u2502\n",
            "\u2502   MSFT \u2502     0.0 \u2502     0.0 \u2502       0.0 % \u2502       0.0 % \u2502\n",
            "\u2502    PEP \u2502     0.0 \u2502     0.0 \u2502       0.0 % \u2502       0.0 % \u2502\n",
            "\u2502    PFE \u2502     0.0 \u2502     0.0 \u2502       0.0 % \u2502       0.0 % \u2502\n",
            "\u2502     PG \u2502     0.0 \u2502     0.0 \u2502       0.0 % \u2502       0.0 % \u2502\n",
            "\u2502    RRC \u2502     1.0 \u2502  24.497 \u2502       0.0 % \u2502     0.583 % \u2502\n",
            "\u2502    UNH \u2502     0.0 \u2502     0.0 \u2502       0.0 % \u2502       0.0 % \u2502\n",
            "\u2502    WMT \u2502     1.0 \u2502 140.181 \u2502     1.993 % \u2502     3.333 % \u2502\n",
            "\u2502    XOM \u2502     0.0 \u2502     0.0 \u2502       0.0 % \u2502       0.0 % \u2502\n",
            "\u2514\u2500\u2500\u2500\u2500\u2500\u2500\u2500\u2500\u2534\u2500\u2500\u2500\u2500\u2500\u2500\u2500\u2500\u2500\u2534\u2500\u2500\u2500\u2500\u2500\u2500\u2500\u2500\u2500\u2534\u2500\u2500\u2500\u2500\u2500\u2500\u2500\u2500\u2500\u2500\u2500\u2500\u2500\u2534\u2500\u2500\u2500\u2500\u2500\u2500\u2500\u2500\u2500\u2500\u2500\u2500\u2500\u2518\n",
            "long cost + short cost = cost: 4205.372\n",
            "long cost: 4205.372\n",
            "short cost: 0.0\n",
            "remaining cash: 1.527999206081347\n",
            "used cash \u2248 available cash: true\n"
          ]
        }
      ],
      "source": [
        "da = DiscreteAllocation(; slv = mip_slv)\n",
        "mip_res1 = optimise!(da, res1.w, vec(values(X[end])), 4206.9)\n",
        "pretty_table(DataFrame(:assets => rd.nx, :shares => mip_res1.shares, :cost => mip_res1.cost,\n",
        "                       :opt_weights => res1.w, :mip_weights => mip_res1.w);\n",
        "             formatters = mipresfmt)\n",
        "println(\"long cost + short cost = cost: $(sum(mip_res1.cost))\")\n",
        "println(\"long cost: $(sum(mip_res1.cost[mip_res1.cost .>= zero(eltype(mip_res1.cost))]))\")\n",
        "println(\"short cost: $(sum(mip_res1.cost[mip_res1.cost .< zero(eltype(mip_res1.cost))]))\")\n",
        "println(\"remaining cash: $(mip_res1.cash)\")\n",
        "println(\"used cash \u2248 available cash: $(isapprox(sum(mip_res1.cost) + mip_res1.cash, 4206.9 * sum(res1.w)))\")"
      ]
    },
    {
      "cell_type": "markdown",
      "metadata": {},
      "source": [
        "#### 3.1.2 Maximum risk-return ratio market neutral portfolio\n",
        "\n",
        "We will now create a maximum risk-return ratio market neutral portfolio. For a market neutral portfolio, the weights must sum to zero, which means the budget is zero. This means the long and short budgets must be equal in magnitude but opposite sign. In order to avoid all zero weights, we need to set a non-zero short budget, and negative lower weight bounds.\n",
        "\n",
        "The short budget is given as an absolute value (simplifies implementation details). The weight bounds can be negative. We will set the maximum weight bounds to `\u00b11`, the short budget to `1` (-1 in practice), and the portfolio budget to `0`, therefore the long budget is `1`.\n",
        "\n",
        "Minimising the risk under without additional constraints often yields all zeros. So we will maximise the risk-return ratio."
      ]
    },
    {
      "cell_type": "code",
      "execution_count": 8,
      "metadata": {},
      "outputs": [
        {
          "name": "stdout",
          "output_type": "stream",
          "text": [
            "budget: -1.0089443539131439e-16\n",
            "long budget: 0.9999936641090608\n",
            "short budget: -0.999993664109061\n",
            "weight bounds: true\n"
          ]
        }
      ],
      "source": [
        "rf = 4.2 / 100 / 252\n",
        "opt2 = JuMPOptimiser(; pe = pr, slv = slv,\n",
        "                     # Budget and short budget absolute values.\n",
        "                     bgt = 0, sbgt = 1,\n",
        "                     # Weight bounds.\n",
        "                     wb = WeightBounds(; lb = -1.0, ub = 1.0))\n",
        "mr2 = MeanRisk(; r = r, obj = MaximumRatio(; rf = rf), opt = opt2)\n",
        "res2 = optimise!(mr2)\n",
        "println(\"budget: $(sum(res2.w))\")\n",
        "println(\"long budget: $(sum(res2.w[res2.w .>= zero(eltype(res2.w))]))\")\n",
        "println(\"short budget: $(sum(res2.w[res2.w .< zero(eltype(res2.w))]))\")\n",
        "println(\"weight bounds: $(all(x -> -one(x) <= x <= one(x), res2.w))\")"
      ]
    },
    {
      "cell_type": "markdown",
      "metadata": {},
      "source": [
        "Lets allocate a finite amount of capital. Since we set the long and short budgets equal to 1, the cost of the long and short positions will be approximately equal to the allocated value of `4206.9`, and the sum of the costs will be close to zero. The discrepancies are due to the fact that we are allocating a finite amount of capital.\n",
        "\n",
        "The discrete allocation procedure automatically adjusts the cash amount depending on the optimal long and short weights, so there is no need to split the cash amount into long and short allocations."
      ]
    },
    {
      "cell_type": "code",
      "execution_count": 9,
      "metadata": {},
      "outputs": [
        {
          "name": "stdout",
          "output_type": "stream",
          "text": [
            "\u250c\u2500\u2500\u2500\u2500\u2500\u2500\u2500\u2500\u252c\u2500\u2500\u2500\u2500\u2500\u2500\u2500\u2500\u2500\u252c\u2500\u2500\u2500\u2500\u2500\u2500\u2500\u2500\u2500\u2500\u252c\u2500\u2500\u2500\u2500\u2500\u2500\u2500\u2500\u2500\u2500\u2500\u2500\u2500\u252c\u2500\u2500\u2500\u2500\u2500\u2500\u2500\u2500\u2500\u2500\u2500\u2500\u2500\u2510\n",
            "\u2502 assets \u2502  shares \u2502     cost \u2502 opt_weights \u2502 mip_weights \u2502\n",
            "\u2502 String \u2502 Float64 \u2502  Float64 \u2502     Float64 \u2502     Float64 \u2502\n",
            "\u251c\u2500\u2500\u2500\u2500\u2500\u2500\u2500\u2500\u253c\u2500\u2500\u2500\u2500\u2500\u2500\u2500\u2500\u2500\u253c\u2500\u2500\u2500\u2500\u2500\u2500\u2500\u2500\u2500\u2500\u253c\u2500\u2500\u2500\u2500\u2500\u2500\u2500\u2500\u2500\u2500\u2500\u2500\u2500\u253c\u2500\u2500\u2500\u2500\u2500\u2500\u2500\u2500\u2500\u2500\u2500\u2500\u2500\u2524\n",
            "\u2502   AAPL \u2502    -1.0 \u2502 -125.674 \u2502    -2.526 % \u2502    -2.999 % \u2502\n",
            "\u2502    AMD \u2502    -2.0 \u2502  -125.14 \u2502    -3.226 % \u2502    -2.986 % \u2502\n",
            "\u2502    BAC \u2502   -21.0 \u2502 -678.321 \u2502   -16.732 % \u2502   -16.188 % \u2502\n",
            "\u2502    BBY \u2502     1.0 \u2502   78.279 \u2502     0.837 % \u2502     1.857 % \u2502\n",
            "\u2502    CVX \u2502     0.0 \u2502      0.0 \u2502     0.001 % \u2502       0.0 % \u2502\n",
            "\u2502     GE \u2502     6.0 \u2502  383.298 \u2502     8.532 % \u2502     9.093 % \u2502\n",
            "\u2502     HD \u2502     0.0 \u2502     -0.0 \u2502    -3.235 % \u2502      -0.0 % \u2502\n",
            "\u2502    JNJ \u2502    -4.0 \u2502  -696.34 \u2502   -17.975 % \u2502   -16.618 % \u2502\n",
            "\u2502    JPM \u2502     3.0 \u2502  388.725 \u2502     8.858 % \u2502     9.222 % \u2502\n",
            "\u2502     KO \u2502    23.0 \u2502  1440.01 \u2502    33.949 % \u2502    34.163 % \u2502\n",
            "\u2502    LLY \u2502     0.0 \u2502      0.0 \u2502     3.536 % \u2502       0.0 % \u2502\n",
            "\u2502    MRK \u2502    16.0 \u2502   1753.3 \u2502    39.716 % \u2502    41.595 % \u2502\n",
            "\u2502   MSFT \u2502    -1.0 \u2502 -233.434 \u2502    -7.632 % \u2502    -5.571 % \u2502\n",
            "\u2502    PEP \u2502    -6.0 \u2502 -1075.67 \u2502    -26.22 % \u2502   -25.671 % \u2502\n",
            "\u2502    PFE \u2502   -12.0 \u2502   -591.0 \u2502   -13.952 % \u2502   -14.104 % \u2502\n",
            "\u2502     PG \u2502     0.0 \u2502     -0.0 \u2502      -0.0 % \u2502      -0.0 % \u2502\n",
            "\u2502    RRC \u2502     7.0 \u2502  171.479 \u2502     4.572 % \u2502     4.068 % \u2502\n",
            "\u2502    UNH \u2502    -1.0 \u2502 -524.422 \u2502    -7.253 % \u2502   -12.515 % \u2502\n",
            "\u2502    WMT \u2502    -1.0 \u2502 -140.181 \u2502    -1.248 % \u2502    -3.345 % \u2502\n",
            "\u2502    XOM \u2502     0.0 \u2502      0.0 \u2502       0.0 % \u2502       0.0 % \u2502\n",
            "\u2514\u2500\u2500\u2500\u2500\u2500\u2500\u2500\u2500\u2534\u2500\u2500\u2500\u2500\u2500\u2500\u2500\u2500\u2500\u2534\u2500\u2500\u2500\u2500\u2500\u2500\u2500\u2500\u2500\u2500\u2534\u2500\u2500\u2500\u2500\u2500\u2500\u2500\u2500\u2500\u2500\u2500\u2500\u2500\u2534\u2500\u2500\u2500\u2500\u2500\u2500\u2500\u2500\u2500\u2500\u2500\u2500\u2500\u2518\n",
            "long cost + short cost = cost: 24.904000000000252\n",
            "long cost: 4215.084000000001\n",
            "short cost: -4190.179999999999\n",
            "remaining cash: 8.482691080815641\n",
            "used cash \u2248 available cash: true\n"
          ]
        }
      ],
      "source": [
        "mip_res2 = optimise!(da, res2.w, vec(values(X[end])), 4206.9)\n",
        "pretty_table(DataFrame(:assets => rd.nx, :shares => mip_res2.shares, :cost => mip_res2.cost,\n",
        "                       :opt_weights => res2.w, :mip_weights => mip_res2.w);\n",
        "             formatters = mipresfmt)\n",
        "println(\"long cost + short cost = cost: $(sum(mip_res2.cost))\")\n",
        "println(\"long cost: $(sum(mip_res2.cost[mip_res2.cost .>= zero(eltype(mip_res2.cost))]))\")\n",
        "println(\"short cost: $(sum(mip_res2.cost[mip_res2.cost .< zero(eltype(mip_res2.cost))]))\")\n",
        "println(\"remaining cash: $(mip_res2.cash)\")\n",
        "println(\"used cash \u2248 available cash: $(isapprox(sum(abs.(mip_res2.cost)) + mip_res2.cash, 4206.9 * sum(abs.(res2.w))))\")"
      ]
    },
    {
      "cell_type": "markdown",
      "metadata": {},
      "source": [
        "#### 3.1.3 Short-only portfolio\n",
        "\n",
        "We will now create and discretely allocate a short-only portfolio. This is in general an anti-pattern but oen can use various combinations of budget, weight bounds and short budget constraints to create hedging portfolios."
      ]
    },
    {
      "cell_type": "code",
      "execution_count": 10,
      "metadata": {},
      "outputs": [
        {
          "name": "stdout",
          "output_type": "stream",
          "text": [
            "budget: -0.9999999995925778\n",
            "long budget: 0.0\n",
            "short budget: -0.9999999995925778\n",
            "weight bounds: true\n"
          ]
        }
      ],
      "source": [
        "opt3 = JuMPOptimiser(; pe = pr, slv = slv,\n",
        "                     # Budget and short budget absolute values.\n",
        "                     bgt = -1, sbgt = 1,\n",
        "                     # Weight bounds.\n",
        "                     wb = WeightBounds(; lb = -1.0, ub = 0.0))\n",
        "mr3 = MeanRisk(; r = r, obj = MinimumRisk(), opt = opt3)\n",
        "res3 = optimise!(mr3)\n",
        "println(\"budget: $(sum(res3.w))\")\n",
        "println(\"long budget: $(sum(res3.w[res3.w .>= zero(eltype(res3.w))]))\")\n",
        "println(\"short budget: $(sum(res3.w[res3.w .< zero(eltype(res3.w))]))\")\n",
        "println(\"weight bounds: $(all(x -> -one(x) <= x <= zero(x), res3.w))\")"
      ]
    },
    {
      "cell_type": "markdown",
      "metadata": {},
      "source": [
        "We can confirm that the finite allocation behaves as expected."
      ]
    },
    {
      "cell_type": "code",
      "execution_count": 11,
      "metadata": {},
      "outputs": [
        {
          "name": "stdout",
          "output_type": "stream",
          "text": [
            "\u250c\u2500\u2500\u2500\u2500\u2500\u2500\u2500\u2500\u252c\u2500\u2500\u2500\u2500\u2500\u2500\u2500\u2500\u2500\u252c\u2500\u2500\u2500\u2500\u2500\u2500\u2500\u2500\u2500\u2500\u252c\u2500\u2500\u2500\u2500\u2500\u2500\u2500\u2500\u2500\u2500\u2500\u2500\u2500\u252c\u2500\u2500\u2500\u2500\u2500\u2500\u2500\u2500\u2500\u2500\u2500\u2500\u2500\u2510\n",
            "\u2502 assets \u2502  shares \u2502     cost \u2502 opt_weights \u2502 mip_weights \u2502\n",
            "\u2502 String \u2502 Float64 \u2502  Float64 \u2502     Float64 \u2502     Float64 \u2502\n",
            "\u251c\u2500\u2500\u2500\u2500\u2500\u2500\u2500\u2500\u253c\u2500\u2500\u2500\u2500\u2500\u2500\u2500\u2500\u2500\u253c\u2500\u2500\u2500\u2500\u2500\u2500\u2500\u2500\u2500\u2500\u253c\u2500\u2500\u2500\u2500\u2500\u2500\u2500\u2500\u2500\u2500\u2500\u2500\u2500\u253c\u2500\u2500\u2500\u2500\u2500\u2500\u2500\u2500\u2500\u2500\u2500\u2500\u2500\u2524\n",
            "\u2502   AAPL \u2502     0.0 \u2502     -0.0 \u2502      -0.0 % \u2502      -0.0 % \u2502\n",
            "\u2502    AMD \u2502     0.0 \u2502     -0.0 \u2502      -0.0 % \u2502      -0.0 % \u2502\n",
            "\u2502    BAC \u2502    -1.0 \u2502  -32.301 \u2502      -0.0 % \u2502    -0.768 % \u2502\n",
            "\u2502    BBY \u2502     0.0 \u2502     -0.0 \u2502      -0.0 % \u2502      -0.0 % \u2502\n",
            "\u2502    CVX \u2502     0.0 \u2502     -0.0 \u2502      -0.0 % \u2502      -0.0 % \u2502\n",
            "\u2502     GE \u2502    -3.0 \u2502 -191.649 \u2502    -4.404 % \u2502    -4.558 % \u2502\n",
            "\u2502     HD \u2502    -1.0 \u2502  -311.22 \u2502    -5.068 % \u2502    -7.401 % \u2502\n",
            "\u2502    JNJ \u2502    -2.0 \u2502  -348.17 \u2502     -9.44 % \u2502     -8.28 % \u2502\n",
            "\u2502    JPM \u2502     0.0 \u2502     -0.0 \u2502      -0.0 % \u2502      -0.0 % \u2502\n",
            "\u2502     KO \u2502     0.0 \u2502     -0.0 \u2502      -0.0 % \u2502      -0.0 % \u2502\n",
            "\u2502    LLY \u2502     0.0 \u2502     -0.0 \u2502    -4.646 % \u2502      -0.0 % \u2502\n",
            "\u2502    MRK \u2502    -1.0 \u2502 -109.581 \u2502    -3.636 % \u2502    -2.606 % \u2502\n",
            "\u2502   MSFT \u2502     0.0 \u2502     -0.0 \u2502      -0.0 % \u2502      -0.0 % \u2502\n",
            "\u2502    PEP \u2502    -8.0 \u2502 -1434.22 \u2502    -31.89 % \u2502   -34.108 % \u2502\n",
            "\u2502    PFE \u2502    -7.0 \u2502  -344.75 \u2502    -7.611 % \u2502    -8.199 % \u2502\n",
            "\u2502     PG \u2502     0.0 \u2502     -0.0 \u2502      -0.0 % \u2502      -0.0 % \u2502\n",
            "\u2502    RRC \u2502    -7.0 \u2502 -171.479 \u2502    -3.988 % \u2502    -4.078 % \u2502\n",
            "\u2502    UNH \u2502     0.0 \u2502     -0.0 \u2502      -0.0 % \u2502      -0.0 % \u2502\n",
            "\u2502    WMT \u2502    -9.0 \u2502 -1261.63 \u2502   -29.317 % \u2502   -30.003 % \u2502\n",
            "\u2502    XOM \u2502     0.0 \u2502     -0.0 \u2502      -0.0 % \u2502      -0.0 % \u2502\n",
            "\u2514\u2500\u2500\u2500\u2500\u2500\u2500\u2500\u2500\u2534\u2500\u2500\u2500\u2500\u2500\u2500\u2500\u2500\u2500\u2534\u2500\u2500\u2500\u2500\u2500\u2500\u2500\u2500\u2500\u2500\u2534\u2500\u2500\u2500\u2500\u2500\u2500\u2500\u2500\u2500\u2500\u2500\u2500\u2500\u2534\u2500\u2500\u2500\u2500\u2500\u2500\u2500\u2500\u2500\u2500\u2500\u2500\u2500\u2518\n",
            "long cost + short cost = cost: -4205.003000000001\n",
            "long cost: -0.0\n",
            "short cost: -4205.003\n",
            "remaining cash: 1.8969982860141954\n",
            "used cash \u2248 available cash: true\n"
          ]
        }
      ],
      "source": [
        "mip_res3 = optimise!(da, res3.w, vec(values(X[end])), 4206.9)\n",
        "pretty_table(DataFrame(:assets => rd.nx, :shares => mip_res3.shares, :cost => mip_res3.cost,\n",
        "                       :opt_weights => res3.w, :mip_weights => mip_res3.w);\n",
        "             formatters = mipresfmt)\n",
        "println(\"long cost + short cost = cost: $(sum(mip_res3.cost))\")\n",
        "println(\"long cost: $(sum(mip_res3.cost[mip_res3.cost .>= zero(eltype(mip_res3.cost))]))\")\n",
        "println(\"short cost: $(sum(mip_res3.cost[mip_res3.cost .< zero(eltype(mip_res3.cost))]))\")\n",
        "println(\"remaining cash: $(mip_res3.cash)\")\n",
        "println(\"used cash \u2248 available cash: $(isapprox(sum(mip_res3.cost) - mip_res3.cash, 4206.9 * sum(res3.w)))\")"
      ]
    },
    {
      "cell_type": "markdown",
      "metadata": {},
      "source": [
        "#### 3.1.4 Leveraged portfolios\n",
        "\n",
        "Lets try a leveraged long-only portfolio."
      ]
    },
    {
      "cell_type": "code",
      "execution_count": 12,
      "metadata": {},
      "outputs": [
        {
          "name": "stdout",
          "output_type": "stream",
          "text": [
            "budget: 1.2999999997828973\n",
            "long budget: 1.2999999997828973\n",
            "short budget: 0.0\n",
            "weight bounds: true\n"
          ]
        }
      ],
      "source": [
        "opt4 = JuMPOptimiser(; pe = pr, slv = slv, bgt = 1.3)\n",
        "mr4 = MeanRisk(; r = r, opt = opt4)\n",
        "res4 = optimise!(mr4)\n",
        "println(\"budget: $(sum(res4.w))\")\n",
        "println(\"long budget: $(sum(res4.w[res4.w .>= zero(eltype(res4.w))]))\")\n",
        "println(\"short budget: $(sum(res4.w[res4.w .< zero(eltype(res4.w))]))\")\n",
        "println(\"weight bounds: $(all(x -> zero(x) <= x <= one(x), res4.w))\")"
      ]
    },
    {
      "cell_type": "markdown",
      "metadata": {},
      "source": [
        "Again, the finite allocation respects the budget constraints."
      ]
    },
    {
      "cell_type": "code",
      "execution_count": 13,
      "metadata": {},
      "outputs": [
        {
          "name": "stdout",
          "output_type": "stream",
          "text": [
            "\u250c\u2500\u2500\u2500\u2500\u2500\u2500\u2500\u2500\u252c\u2500\u2500\u2500\u2500\u2500\u2500\u2500\u2500\u2500\u252c\u2500\u2500\u2500\u2500\u2500\u2500\u2500\u2500\u2500\u252c\u2500\u2500\u2500\u2500\u2500\u2500\u2500\u2500\u2500\u2500\u2500\u2500\u2500\u252c\u2500\u2500\u2500\u2500\u2500\u2500\u2500\u2500\u2500\u2500\u2500\u2500\u2500\u2510\n",
            "\u2502 assets \u2502  shares \u2502    cost \u2502 opt_weights \u2502 mip_weights \u2502\n",
            "\u2502 String \u2502 Float64 \u2502 Float64 \u2502     Float64 \u2502     Float64 \u2502\n",
            "\u251c\u2500\u2500\u2500\u2500\u2500\u2500\u2500\u2500\u253c\u2500\u2500\u2500\u2500\u2500\u2500\u2500\u2500\u2500\u253c\u2500\u2500\u2500\u2500\u2500\u2500\u2500\u2500\u2500\u253c\u2500\u2500\u2500\u2500\u2500\u2500\u2500\u2500\u2500\u2500\u2500\u2500\u2500\u253c\u2500\u2500\u2500\u2500\u2500\u2500\u2500\u2500\u2500\u2500\u2500\u2500\u2500\u2524\n",
            "\u2502   AAPL \u2502     0.0 \u2502     0.0 \u2502       0.0 % \u2502       0.0 % \u2502\n",
            "\u2502    AMD \u2502     0.0 \u2502     0.0 \u2502       0.0 % \u2502       0.0 % \u2502\n",
            "\u2502    BAC \u2502     0.0 \u2502     0.0 \u2502       0.0 % \u2502       0.0 % \u2502\n",
            "\u2502    BBY \u2502     0.0 \u2502     0.0 \u2502       0.0 % \u2502       0.0 % \u2502\n",
            "\u2502    CVX \u2502     5.0 \u2502  868.64 \u2502    27.802 % \u2502    20.661 % \u2502\n",
            "\u2502     GE \u2502     0.0 \u2502     0.0 \u2502       0.0 % \u2502       0.0 % \u2502\n",
            "\u2502     HD \u2502     0.0 \u2502     0.0 \u2502       0.0 % \u2502       0.0 % \u2502\n",
            "\u2502    JNJ \u2502    22.0 \u2502 3829.87 \u2502    72.032 % \u2502    91.094 % \u2502\n",
            "\u2502    JPM \u2502     0.0 \u2502     0.0 \u2502       0.0 % \u2502       0.0 % \u2502\n",
            "\u2502     KO \u2502     0.0 \u2502     0.0 \u2502       0.0 % \u2502       0.0 % \u2502\n",
            "\u2502    LLY \u2502     0.0 \u2502     0.0 \u2502       0.0 % \u2502       0.0 % \u2502\n",
            "\u2502    MRK \u2502     7.0 \u2502 767.067 \u2502    27.574 % \u2502    18.245 % \u2502\n",
            "\u2502   MSFT \u2502     0.0 \u2502     0.0 \u2502       0.0 % \u2502       0.0 % \u2502\n",
            "\u2502    PEP \u2502     0.0 \u2502     0.0 \u2502       0.0 % \u2502       0.0 % \u2502\n",
            "\u2502    PFE \u2502     0.0 \u2502     0.0 \u2502       0.0 % \u2502       0.0 % \u2502\n",
            "\u2502     PG \u2502     0.0 \u2502     0.0 \u2502       0.0 % \u2502       0.0 % \u2502\n",
            "\u2502    RRC \u2502     0.0 \u2502     0.0 \u2502       0.0 % \u2502       0.0 % \u2502\n",
            "\u2502    UNH \u2502     0.0 \u2502     0.0 \u2502       0.0 % \u2502       0.0 % \u2502\n",
            "\u2502    WMT \u2502     0.0 \u2502     0.0 \u2502     2.592 % \u2502       0.0 % \u2502\n",
            "\u2502    XOM \u2502     0.0 \u2502     0.0 \u2502       0.0 % \u2502       0.0 % \u2502\n",
            "\u2514\u2500\u2500\u2500\u2500\u2500\u2500\u2500\u2500\u2534\u2500\u2500\u2500\u2500\u2500\u2500\u2500\u2500\u2500\u2534\u2500\u2500\u2500\u2500\u2500\u2500\u2500\u2500\u2500\u2534\u2500\u2500\u2500\u2500\u2500\u2500\u2500\u2500\u2500\u2500\u2500\u2500\u2500\u2534\u2500\u2500\u2500\u2500\u2500\u2500\u2500\u2500\u2500\u2500\u2500\u2500\u2500\u2518\n",
            "long cost + short cost = cost: 5465.577\n",
            "long cost: 5465.577\n",
            "short cost: 0.0\n",
            "remaining cash: 3.3929990866695334\n",
            "used cash \u2248 available cash: true\n"
          ]
        }
      ],
      "source": [
        "mip_res4 = optimise!(da, res4.w, vec(values(X[end])), 4206.9)\n",
        "pretty_table(DataFrame(:assets => rd.nx, :shares => mip_res4.shares, :cost => mip_res4.cost,\n",
        "                       :opt_weights => res4.w, :mip_weights => mip_res4.w);\n",
        "             formatters = mipresfmt)\n",
        "println(\"long cost + short cost = cost: $(sum(mip_res4.cost))\")\n",
        "println(\"long cost: $(sum(mip_res4.cost[mip_res4.cost .>= zero(eltype(mip_res4.cost))]))\")\n",
        "println(\"short cost: $(sum(mip_res4.cost[mip_res4.cost .< zero(eltype(mip_res4.cost))]))\")\n",
        "println(\"remaining cash: $(mip_res4.cash)\")\n",
        "println(\"used cash \u2248 available cash: $(isapprox(sum(mip_res4.cost) + mip_res4.cash, 4206.9 * sum(res4.w)))\")"
      ]
    },
    {
      "cell_type": "markdown",
      "metadata": {},
      "source": [
        "We will now optimise an underleveraged long-short portfolio.\n",
        "\n",
        "Note that the short budget is not satisfied, this is because it is implemented as an equality constraint on a relaxation variable stand-in for the short weights. However, the portfolio budget constraint is satisfied because it is an equality constraint on the actual weights.\n",
        "\n",
        "It is also possible to set budget bounds for the short and portfolio bugets. They are implemented in the same way as the equality constraints. We will explore them in the next section."
      ]
    },
    {
      "cell_type": "code",
      "execution_count": 14,
      "metadata": {},
      "outputs": [
        {
          "name": "stdout",
          "output_type": "stream",
          "text": [
            "budget: 0.49999999995657685\n",
            "long budget: 1.143177143743185\n",
            "short budget: -0.643177143786608\n",
            "weight bounds: true\n"
          ]
        }
      ],
      "source": [
        "opt5 = JuMPOptimiser(; pe = pr, slv = slv,\n",
        "                     # Budget and short budget absolute values.\n",
        "                     bgt = 0.5, sbgt = 1,\n",
        "                     # Weight bounds.\n",
        "                     wb = WeightBounds(; lb = -1.0, ub = 1.0))\n",
        "mr5 = MeanRisk(; r = r, opt = opt5)\n",
        "res5 = optimise!(mr5)\n",
        "println(\"budget: $(sum(res5.w))\")\n",
        "println(\"long budget: $(sum(res5.w[res5.w .>= zero(eltype(res5.w))]))\")\n",
        "println(\"short budget: $(sum(res5.w[res5.w .< zero(eltype(res5.w))]))\")\n",
        "println(\"weight bounds: $(all(x -> -one(x) <= x <= one(x), res5.w))\")"
      ]
    },
    {
      "cell_type": "markdown",
      "metadata": {},
      "source": [
        "For this portfolio, the sum of the long and short cost will be approximately equal to half the allocated value of `4206.9`. Any discrepancies are due to the fact we are allocating a finite amount."
      ]
    },
    {
      "cell_type": "code",
      "execution_count": 15,
      "metadata": {},
      "outputs": [
        {
          "name": "stdout",
          "output_type": "stream",
          "text": [
            "\u250c\u2500\u2500\u2500\u2500\u2500\u2500\u2500\u2500\u252c\u2500\u2500\u2500\u2500\u2500\u2500\u2500\u2500\u2500\u252c\u2500\u2500\u2500\u2500\u2500\u2500\u2500\u2500\u2500\u2500\u252c\u2500\u2500\u2500\u2500\u2500\u2500\u2500\u2500\u2500\u2500\u2500\u2500\u2500\u252c\u2500\u2500\u2500\u2500\u2500\u2500\u2500\u2500\u2500\u2500\u2500\u2500\u2500\u2510\n",
            "\u2502 assets \u2502  shares \u2502     cost \u2502 opt_weights \u2502 mip_weights \u2502\n",
            "\u2502 String \u2502 Float64 \u2502  Float64 \u2502     Float64 \u2502     Float64 \u2502\n",
            "\u251c\u2500\u2500\u2500\u2500\u2500\u2500\u2500\u2500\u253c\u2500\u2500\u2500\u2500\u2500\u2500\u2500\u2500\u2500\u253c\u2500\u2500\u2500\u2500\u2500\u2500\u2500\u2500\u2500\u2500\u253c\u2500\u2500\u2500\u2500\u2500\u2500\u2500\u2500\u2500\u2500\u2500\u2500\u2500\u253c\u2500\u2500\u2500\u2500\u2500\u2500\u2500\u2500\u2500\u2500\u2500\u2500\u2500\u2524\n",
            "\u2502   AAPL \u2502    -3.0 \u2502 -377.022 \u2502    -5.861 % \u2502    -8.419 % \u2502\n",
            "\u2502    AMD \u2502     2.0 \u2502   125.14 \u2502     2.652 % \u2502     2.771 % \u2502\n",
            "\u2502    BAC \u2502   -15.0 \u2502 -484.515 \u2502   -16.678 % \u2502   -10.819 % \u2502\n",
            "\u2502    BBY \u2502     0.0 \u2502      0.0 \u2502     1.085 % \u2502       0.0 % \u2502\n",
            "\u2502    CVX \u2502     2.0 \u2502  347.456 \u2502     9.537 % \u2502     7.695 % \u2502\n",
            "\u2502     GE \u2502    -3.0 \u2502 -191.649 \u2502    -2.542 % \u2502     -4.28 % \u2502\n",
            "\u2502     HD \u2502    -1.0 \u2502  -311.22 \u2502    -4.712 % \u2502     -6.95 % \u2502\n",
            "\u2502    JNJ \u2502    12.0 \u2502  2089.02 \u2502    39.908 % \u2502    46.262 % \u2502\n",
            "\u2502    JPM \u2502     7.0 \u2502  907.025 \u2502    19.622 % \u2502    20.086 % \u2502\n",
            "\u2502     KO \u2502     8.0 \u2502  500.872 \u2502    10.332 % \u2502    11.092 % \u2502\n",
            "\u2502    LLY \u2502    -1.0 \u2502 -363.098 \u2502    -4.609 % \u2502    -8.108 % \u2502\n",
            "\u2502    MRK \u2502     4.0 \u2502  438.324 \u2502    10.104 % \u2502     9.707 % \u2502\n",
            "\u2502   MSFT \u2502     1.0 \u2502  233.434 \u2502      5.78 % \u2502     5.169 % \u2502\n",
            "\u2502    PEP \u2502    -4.0 \u2502 -717.112 \u2502    -20.16 % \u2502   -16.013 % \u2502\n",
            "\u2502    PFE \u2502    -6.0 \u2502   -295.5 \u2502    -9.128 % \u2502    -6.599 % \u2502\n",
            "\u2502     PG \u2502     3.0 \u2502  447.399 \u2502     9.067 % \u2502     9.908 % \u2502\n",
            "\u2502    RRC \u2502     3.0 \u2502   73.491 \u2502     1.789 % \u2502     1.627 % \u2502\n",
            "\u2502    UNH \u2502     0.0 \u2502      0.0 \u2502     4.271 % \u2502       0.0 % \u2502\n",
            "\u2502    WMT \u2502    -1.0 \u2502 -140.181 \u2502    -0.627 % \u2502     -3.13 % \u2502\n",
            "\u2502    XOM \u2502     0.0 \u2502      0.0 \u2502      0.17 % \u2502       0.0 % \u2502\n",
            "\u2514\u2500\u2500\u2500\u2500\u2500\u2500\u2500\u2500\u2534\u2500\u2500\u2500\u2500\u2500\u2500\u2500\u2500\u2500\u2534\u2500\u2500\u2500\u2500\u2500\u2500\u2500\u2500\u2500\u2500\u2534\u2500\u2500\u2500\u2500\u2500\u2500\u2500\u2500\u2500\u2500\u2500\u2500\u2500\u2534\u2500\u2500\u2500\u2500\u2500\u2500\u2500\u2500\u2500\u2500\u2500\u2500\u2500\u2518\n",
            "long cost + short cost = cost: 2281.863999999999\n",
            "long cost: 5162.161\n",
            "short cost: -2880.297\n",
            "remaining cash: 8.462138467990926\n",
            "used cash \u2248 available cash: true\n"
          ]
        }
      ],
      "source": [
        "mip_res5 = optimise!(da, res5.w, vec(values(X[end])), 4506.9)\n",
        "pretty_table(DataFrame(:assets => rd.nx, :shares => mip_res5.shares, :cost => mip_res5.cost,\n",
        "                       :opt_weights => res5.w, :mip_weights => mip_res5.w);\n",
        "             formatters = mipresfmt)\n",
        "println(\"long cost + short cost = cost: $(sum(mip_res5.cost))\")\n",
        "println(\"long cost: $(sum(mip_res5.cost[mip_res5.cost .>= zero(eltype(mip_res5.cost))]))\")\n",
        "println(\"short cost: $(sum(mip_res5.cost[mip_res5.cost .< zero(eltype(mip_res5.cost))]))\")\n",
        "println(\"remaining cash: $(mip_res5.cash)\")\n",
        "println(\"used cash \u2248 available cash: $(isapprox(sum(abs.(mip_res5.cost)) + mip_res5.cash, 4506.9 * sum(abs.(res5.w))))\")"
      ]
    },
    {
      "cell_type": "markdown",
      "metadata": {},
      "source": [
        "# 4. Budget range\n",
        "\n",
        "The other type of buget constraint we will explore in this example is the budget range constraint, `BudgetRange`. It allows the user to define upper and lower bounds on the budget and short budget. When using a `BudgetRange`, it is necessary to provide both the upper and lower bounds.\n",
        "\n",
        "We mentioned at the start of this example that the interaction between budget and short budget constraints might be unintuitive due to how the constraints are implemented. The following example will illustrate this."
      ]
    },
    {
      "cell_type": "code",
      "execution_count": 16,
      "metadata": {},
      "outputs": [
        {
          "name": "stdout",
          "output_type": "stream",
          "text": [
            "budget: 0.2742918307098685\n",
            "long budget: 0.7742909366719533\n",
            "short budget: -0.49999910596208463\n",
            "weight bounds: true\n"
          ]
        }
      ],
      "source": [
        "opt6 = JuMPOptimiser(; pe = pr, slv = slv,\n",
        "                     # Budget range.\n",
        "                     bgt = BudgetRange(; lb = -0.6, ub = 0.6),\n",
        "                     # Exact short budget\n",
        "                     sbgt = 0.5,\n",
        "                     # Weight bounds.\n",
        "                     wb = WeightBounds(; lb = -1.0, ub = 1.0))\n",
        "mr6 = MeanRisk(; r = r, obj = MaximumRatio(; rf = rf), opt = opt6)\n",
        "res6 = optimise!(mr6)\n",
        "println(\"budget: $(sum(res6.w))\")\n",
        "println(\"long budget: $(sum(res6.w[res6.w .>= zero(eltype(res6.w))]))\")\n",
        "println(\"short budget: $(sum(res6.w[res6.w .< zero(eltype(res6.w))]))\")\n",
        "println(\"weight bounds: $(all(x -> -one(x) <= x <= one(x), res6.w))\")"
      ]
    },
    {
      "cell_type": "markdown",
      "metadata": {},
      "source": [
        "As you can see, the budget and weight constraints are satisfied, but not the short budget constraint. This happens even if we do not provide a short budget. This is a reflection of the fact that the weight and budget constraints are constraints on the actual weights. While the short budget constraints are constraints on relaxation variables, whose value must be greater than or equal to the absolute value of the negative weights. This gives them room to without violating the constraints and without directly constraining the short weights.\n",
        "\n",
        "In order to remedy this, we can provide a `BudgetRange` to the short budget which eliminates the slack on the relaxation variables. It is worth noting that when providing a `BudgetRange` to the short budget, the bounds cannot be negative."
      ]
    },
    {
      "cell_type": "code",
      "execution_count": 17,
      "metadata": {},
      "outputs": [
        {
          "name": "stdout",
          "output_type": "stream",
          "text": [
            "budget: 0.2742952851977851\n",
            "long budget: 0.7742943517521373\n",
            "short budget: -0.4999990665543521\n",
            "weight bounds: true\n"
          ]
        }
      ],
      "source": [
        "opt7 = JuMPOptimiser(; pe = pr, slv = slv,\n",
        "                     # Budget range.\n",
        "                     bgt = BudgetRange(; lb = -0.6, ub = 0.6),\n",
        "                     # Remove the slack from the short budget.\n",
        "                     sbgt = BudgetRange(; lb = 0.5, ub = 0.5),\n",
        "                     # Weight bounds.\n",
        "                     wb = WeightBounds(; lb = -1.0, ub = 1.0))\n",
        "mr7 = MeanRisk(; r = r, obj = MaximumRatio(; rf = rf), opt = opt7)\n",
        "res7 = optimise!(mr7)\n",
        "println(\"budget: $(sum(res7.w))\")\n",
        "println(\"long budget: $(sum(res7.w[res7.w .>= zero(eltype(res7.w))]))\")\n",
        "println(\"short budget: $(sum(res7.w[res7.w .< zero(eltype(res7.w))]))\")\n",
        "println(\"weight bounds: $(all(x -> -one(x) <= x <= one(x), res7.w))\")"
      ]
    },
    {
      "cell_type": "markdown",
      "metadata": {},
      "source": [
        "---\n",
        "\n",
        "*This notebook was generated using [Literate.jl](https://github.com/fredrikekre/Literate.jl).*"
      ]
    }
  ],
  "metadata": {
    "kernelspec": {
      "display_name": "Julia 1.11.6",
      "language": "julia",
      "name": "julia-1.11"
    },
    "language_info": {
      "file_extension": ".jl",
      "mimetype": "application/julia",
      "name": "julia",
      "version": "1.11.6"
    }
  },
  "nbformat": 4,
  "nbformat_minor": 3
}
